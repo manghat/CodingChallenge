{
 "cells": [
  {
   "cell_type": "markdown",
   "metadata": {},
   "source": [
    "There's a staircase with N steps, and you can climb 1 or 2 steps at a time. Given N, write a function that returns the number of unique ways you can climb the staircase. The order of the steps matters.\n",
    "\n",
    "For example, if N is 4, then there are 5 unique ways:\n",
    "\n",
    "1, 1, 1, 1\n",
    "2, 1, 1\n",
    "1, 2, 1\n",
    "1, 1, 2\n",
    "2, 2\n",
    "What if, instead of being able to climb 1 or 2 steps at a time, you could climb any number from a set of positive integers X? For example, if X = {1, 3, 5}, you could climb 1, 3, or 5 steps at a time. Generalize your function to take in X."
   ]
  },
  {
   "cell_type": "markdown",
   "metadata": {},
   "source": [
    "# Approaches"
   ]
  },
  {
   "cell_type": "markdown",
   "metadata": {},
   "source": [
    "steps is the list of acceptable steps = [1,2,3]\n",
    "\n",
    "\n",
    "for i in steps:\n",
    "    combinations(n) = [combinations(n-i) + i]\n",
    "    \n",
    "or rather\n",
    "\n",
    "while n > coins[i]:\n",
    "    combinations(n) = [combinations(n-i) + i]\n",
    "    i++"
   ]
  },
  {
   "cell_type": "code",
   "execution_count": null,
   "metadata": {
    "collapsed": true
   },
   "outputs": [],
   "source": [
    "steps = [1,2]\n",
    "s = []\n",
    "cal_steps(N):\n",
    "    for i in steps:\n",
    "        if N-i < 0:\n",
    "            return\n",
    "        elif N-i == 0:\n",
    "            if i == min(steps):\n",
    "                return i\n",
    "            \n",
    "            s.append([i]+[cal_steps(N-i)]))"
   ]
  },
  {
   "cell_type": "code",
   "execution_count": null,
   "metadata": {
    "collapsed": true
   },
   "outputs": [],
   "source": [
    "# A program to count the number of ways to reach n'th stair\n",
    " \n",
    "# Recurssive program to find n'th fibonacci number\n",
    "def fib(n):\n",
    "    if n <= 1:\n",
    "        return n\n",
    "    return fib(n-1) + fib(n-2)\n",
    " \n",
    "# returns no. of ways to reach s'th stair\n",
    "def countWays(s):\n",
    "    return fib(s + 1)\n",
    " \n",
    "# Driver program\n",
    " \n",
    "s = 10\n",
    "print(\"Number of ways = \"),\n",
    "print(countWays(s))"
   ]
  },
  {
   "cell_type": "code",
   "execution_count": null,
   "metadata": {
    "collapsed": true
   },
   "outputs": [],
   "source": [
    "def cal(n):\n",
    "    if n < 1:\n",
    "        return\n",
    "    else: \n",
    "        for i in coins:\n",
    "            s = [i]\n",
    "            return s.append(cal(n-i))"
   ]
  },
  {
   "cell_type": "code",
   "execution_count": null,
   "metadata": {
    "collapsed": true
   },
   "outputs": [],
   "source": [
    "N = 4\n",
    "r = [[0]]*(N+1)\n",
    "# r[1] = [1]\n",
    "# r=[[]]\n",
    "coins = [1,3]\n",
    "for i in range(1,N+1):\n",
    "    if i in coins:\n",
    "        r[i] = [i]\n",
    "    else:\n",
    "        r[i] = []\n",
    "\n"
   ]
  },
  {
   "cell_type": "code",
   "execution_count": null,
   "metadata": {
    "collapsed": true
   },
   "outputs": [],
   "source": [
    "r"
   ]
  },
  {
   "cell_type": "code",
   "execution_count": null,
   "metadata": {
    "collapsed": true
   },
   "outputs": [],
   "source": [
    "print(len(r[0]))\n",
    "# r[1].extend([2,3])\n",
    "print(r[1])\n",
    "print(r)"
   ]
  },
  {
   "cell_type": "code",
   "execution_count": null,
   "metadata": {
    "collapsed": true
   },
   "outputs": [],
   "source": [
    "len(r)"
   ]
  },
  {
   "cell_type": "code",
   "execution_count": null,
   "metadata": {
    "collapsed": true
   },
   "outputs": [],
   "source": [
    "N = 4\n",
    "r = [[]]*(N+1)\n",
    "r = [] * n\n",
    "for i in range(N):\n",
    "    Grid[i] = [0] * n\n",
    "r[1] = [1]\n",
    "# r=[[]]\n",
    "coins = [1,2,3]\n",
    "# for i in range(1,N+1):\n",
    "#     if i in coins:\n",
    "#         r[i] = [[i]]\n",
    "#     else:\n",
    "#         r[i] = []\n",
    "\n",
    "print(r)\n",
    "\n",
    "for i in range(2,N+1):\n",
    "    for j in coins:\n",
    "        print(\"i={} and j={}\".format(i,j))\n",
    "        if i == j:\n",
    "            r[i].append([i])\n",
    "            print(\"  coin exists: {}\"o.format(r[i]))\n",
    "        if i > j:\n",
    "            print(\"i > j\")\n",
    "            print(\"  i={} and j={}\".format(i,j))\n",
    "            print(\"  pre-modified r[{}] : {}, r[{}] : {}\".format(i,r[i],j,r[j]))\n",
    "            \n",
    "            r[i]=[r[j]]\n",
    "            \n",
    "            print(\"  pos-modified r[{}] : {}, r[{}] : {}\".format(i,r[i],j,r[j]))\n",
    "            for k in range(len(r[i])):\n",
    "                print(\"    k : {}, r[{}] : {}\".format(k,i,r[i]))\n",
    "                print(r)\n",
    "                r[i][k].extend(r[j])\n",
    "                \n",
    "                print(\"    after r[{}] : {}\".format(i,r[i]))\n",
    "                print(r)\n",
    "\n",
    "        print(\"  Done with {} iteration. r[{}] = {}\".format(j,i,r[i]))\n",
    "        print(r)\n",
    "                #         if i == j:\n",
    "#             r[i].append([i])"
   ]
  },
  {
   "cell_type": "code",
   "execution_count": null,
   "metadata": {
    "collapsed": true
   },
   "outputs": [],
   "source": [
    "r"
   ]
  },
  {
   "cell_type": "code",
   "execution_count": null,
   "metadata": {
    "collapsed": true
   },
   "outputs": [],
   "source": [
    "r[4]"
   ]
  },
  {
   "cell_type": "markdown",
   "metadata": {
    "collapsed": true
   },
   "source": [
    "# fresh start"
   ]
  },
  {
   "cell_type": "code",
   "execution_count": 61,
   "metadata": {
    "collapsed": true
   },
   "outputs": [],
   "source": [
    "x = [1,3,5]\n",
    "n = 6\n",
    "N = range(n+1)\n",
    "X = range(len(x))\n",
    "# r = [[[x[i]] if j == x[i] else None for i in X] for j in N]\n",
    "r = [i if i in x else 0 for i in N]"
   ]
  },
  {
   "cell_type": "code",
   "execution_count": 62,
   "metadata": {},
   "outputs": [
    {
     "data": {
      "text/plain": [
       "[0, 1, 0, 3, 0, 5, 0]"
      ]
     },
     "execution_count": 62,
     "metadata": {},
     "output_type": "execute_result"
    }
   ],
   "source": [
    "r"
   ]
  },
  {
   "cell_type": "code",
   "execution_count": 93,
   "metadata": {},
   "outputs": [
    {
     "name": "stdout",
     "output_type": "stream",
     "text": [
      "0\n"
     ]
    },
    {
     "ename": "IndexError",
     "evalue": "list index out of range",
     "output_type": "error",
     "traceback": [
      "\u001b[0;31m---------------------------------------------------------------------------\u001b[0m",
      "\u001b[0;31mIndexError\u001b[0m                                Traceback (most recent call last)",
      "\u001b[0;32m<ipython-input-93-a77efe0fac86>\u001b[0m in \u001b[0;36m<module>\u001b[0;34m()\u001b[0m\n\u001b[1;32m     14\u001b[0m \u001b[0;31m#             r[i][j].append(j)\u001b[0m\u001b[0;34m\u001b[0m\u001b[0;34m\u001b[0m\u001b[0m\n\u001b[1;32m     15\u001b[0m \u001b[0;31m#             print (\"  \",r[i])\u001b[0m\u001b[0;34m\u001b[0m\u001b[0;34m\u001b[0m\u001b[0m\n\u001b[0;32m---> 16\u001b[0;31m         \u001b[0;32mif\u001b[0m \u001b[0mi\u001b[0m \u001b[0;34m>\u001b[0m \u001b[0mx\u001b[0m\u001b[0;34m[\u001b[0m\u001b[0mj\u001b[0m\u001b[0;34m]\u001b[0m\u001b[0;34m:\u001b[0m\u001b[0;34m\u001b[0m\u001b[0m\n\u001b[0m\u001b[1;32m     17\u001b[0m             \u001b[0mmissing\u001b[0m \u001b[0;34m=\u001b[0m \u001b[0mr\u001b[0m\u001b[0;34m[\u001b[0m\u001b[0mi\u001b[0m\u001b[0;34m-\u001b[0m\u001b[0mx\u001b[0m\u001b[0;34m[\u001b[0m\u001b[0mj\u001b[0m\u001b[0;34m]\u001b[0m\u001b[0;34m]\u001b[0m\u001b[0;34m\u001b[0m\u001b[0m\n\u001b[1;32m     18\u001b[0m             \u001b[0mprint\u001b[0m \u001b[0;34m(\u001b[0m\u001b[0;34m\"  missing:\"\u001b[0m\u001b[0;34m,\u001b[0m \u001b[0mmissing\u001b[0m\u001b[0;34m)\u001b[0m\u001b[0;34m\u001b[0m\u001b[0m\n",
      "\u001b[0;31mIndexError\u001b[0m: list index out of range"
     ]
    }
   ],
   "source": [
    "x = [1,3,5]\n",
    "n = 6\n",
    "N = range(n+1)\n",
    "X = range(1,len(x)+1)\n",
    "# r = [[[x[i]] if j == x[i] else None for i in X] for j in N]\n",
    "r = [[i] if i in x else 0 for i in N]\n",
    "\n",
    "for i in N:  # iterating over the number\n",
    "    print (i)\n",
    "    for j in X:     # iterating over the list of contituents allowed\n",
    "#         if i == x[j]:\n",
    "#             print (\"  \",j)\n",
    "#             print (\"  \",r[i])\n",
    "#             r[i][j].append(j)\n",
    "#             print (\"  \",r[i])\n",
    "        if i > x[j]:\n",
    "            missing = r[i-x[j]]\n",
    "            print (\"  missing:\", missing)\n",
    "            ad = [r[i-x[j]][j]]\n",
    "            print (\"  \",ad)\n",
    "            t = [x[j]]\n",
    "            print (\"  \",t)\n",
    "            ad.extend(t)\n",
    "            print (\"  \",ad)            \n",
    "#             print (\"   s:\",s, \"r[s] :\",r[s])\n",
    "#             s2 = r[i - x[j]] \n",
    "#             s = [y for y in s2 if y is not None]\n",
    "#             print (\"  t: \", t)\n",
    "#             print (\"  s: \", s)       \n",
    "#             for a in s:\n",
    "#                 a.extend([t])\n",
    "#                 if a is not None:\n",
    "#                     print (a.extend(s))\n",
    "#             print (\"  t: \", t)\n",
    "#             print (\"  s: \", s)\n",
    "#             print (\"  x[{}]: {}\".format(j, x[j]))\n",
    "#             print (\"  x[{}]: {}\".format(i, x[i]))\n",
    "#             x[j].append([s])\n",
    "    "
   ]
  },
  {
   "cell_type": "code",
   "execution_count": 37,
   "metadata": {},
   "outputs": [
    {
     "data": {
      "text/plain": [
       "[[None, None, None],\n",
       " [[1, 1, 3, 5], None, None],\n",
       " [None, None, None],\n",
       " [None, [3, 1, 3], None],\n",
       " [None, None, None],\n",
       " [None, None, [5, 1]],\n",
       " [None, None, None]]"
      ]
     },
     "execution_count": 37,
     "metadata": {},
     "output_type": "execute_result"
    }
   ],
   "source": [
    "r"
   ]
  },
  {
   "cell_type": "code",
   "execution_count": 42,
   "metadata": {},
   "outputs": [],
   "source": [
    "coins = [1,2,3]\n",
    "no = 7\n",
    "\n",
    "splits = [[i] if i in coins else [0] for i in range(no)]"
   ]
  },
  {
   "cell_type": "code",
   "execution_count": 28,
   "metadata": {},
   "outputs": [
    {
     "data": {
      "text/plain": [
       "[[0], [1], [[], [2, 1]], [3], [0], [0], [0]]"
      ]
     },
     "execution_count": 28,
     "metadata": {},
     "output_type": "execute_result"
    }
   ],
   "source": [
    "splits"
   ]
  },
  {
   "cell_type": "code",
   "execution_count": 26,
   "metadata": {
    "collapsed": true
   },
   "outputs": [],
   "source": [
    "def update(n, add):\n",
    "    if len(splits[n]) == 1:\n",
    "#         print (\"len is 1\")\n",
    "        if splits[n] == [0]:\n",
    "            splits[n] = []\n",
    "        splits[n] = [splits[n]] # convert single item into lists\n",
    "    splits[n].append(add)"
   ]
  },
  {
   "cell_type": "code",
   "execution_count": 27,
   "metadata": {},
   "outputs": [],
   "source": [
    "update(2,[2,1])"
   ]
  },
  {
   "cell_type": "code",
   "execution_count": 51,
   "metadata": {},
   "outputs": [],
   "source": [
    "def cal_split(n):\n",
    "#     if n in coins:\n",
    "#         return n\n",
    "    s = []\n",
    "    for i in coins:\n",
    "#         print (\"s :\",s)\n",
    "        print(\"i : \",i)\n",
    "        if n == i:\n",
    "            s.append([i])\n",
    "        if n > i:\n",
    "            t = [i] + [cal_split(n-i)]\n",
    "            s.append(t)\n",
    "        print (\"s : \",s)\n",
    "        print('----')\n",
    "            "
   ]
  },
  {
   "cell_type": "code",
   "execution_count": 52,
   "metadata": {
    "collapsed": true
   },
   "outputs": [
    {
     "name": "stdout",
     "output_type": "stream",
     "text": [
      "i :  1\n",
      "i :  1\n",
      "i :  1\n",
      "s :  [[1]]\n",
      "----\n",
      "i :  2\n",
      "s :  [[1]]\n",
      "----\n",
      "i :  3\n",
      "s :  [[1]]\n",
      "----\n",
      "s :  [[1, None]]\n",
      "----\n",
      "i :  2\n",
      "s :  [[1, None], [2]]\n",
      "----\n",
      "i :  3\n",
      "s :  [[1, None], [2]]\n",
      "----\n",
      "s :  [[1, None]]\n",
      "----\n",
      "i :  2\n",
      "i :  1\n",
      "s :  [[1]]\n",
      "----\n",
      "i :  2\n",
      "s :  [[1]]\n",
      "----\n",
      "i :  3\n",
      "s :  [[1]]\n",
      "----\n",
      "s :  [[1, None], [2, None]]\n",
      "----\n",
      "i :  3\n",
      "s :  [[1, None], [2, None], [3]]\n",
      "----\n"
     ]
    }
   ],
   "source": [
    "cal_split(3)"
   ]
  },
  {
   "cell_type": "code",
   "execution_count": 53,
   "metadata": {},
   "outputs": [
    {
     "ename": "SyntaxError",
     "evalue": "unexpected EOF while parsing (<ipython-input-53-32c8f4776702>, line 1)",
     "output_type": "error",
     "traceback": [
      "\u001b[0;36m  File \u001b[0;32m\"<ipython-input-53-32c8f4776702>\"\u001b[0;36m, line \u001b[0;32m1\u001b[0m\n\u001b[0;31m    for a in range(len(no)+1):\u001b[0m\n\u001b[0m                               ^\u001b[0m\n\u001b[0;31mSyntaxError\u001b[0m\u001b[0;31m:\u001b[0m unexpected EOF while parsing\n"
     ]
    }
   ],
   "source": []
  },
  {
   "cell_type": "code",
   "execution_count": 54,
   "metadata": {
    "collapsed": true
   },
   "outputs": [],
   "source": [
    "coins = [1,2,3]\n",
    "no = 7\n",
    "\n",
    "splits = [[i] if i in coins else [0] for i in range(no)]\n",
    "\n",
    "\n",
    "def update(n, add):\n",
    "    if len(splits[n]) == 1:\n",
    "#         print (\"len is 1\")\n",
    "        if splits[n] == [0]:\n",
    "            splits[n] = []\n",
    "        splits[n] = [splits[n]] # convert single item into lists\n",
    "    splits[n].append(add)"
   ]
  },
  {
   "cell_type": "code",
   "execution_count": 55,
   "metadata": {},
   "outputs": [
    {
     "data": {
      "text/plain": [
       "[[0], [1], [2], [3], [0], [0], [0]]"
      ]
     },
     "execution_count": 55,
     "metadata": {},
     "output_type": "execute_result"
    }
   ],
   "source": [
    "splits"
   ]
  },
  {
   "cell_type": "code",
   "execution_count": 56,
   "metadata": {},
   "outputs": [
    {
     "ename": "TypeError",
     "evalue": "list indices must be integers or slices, not list",
     "output_type": "error",
     "traceback": [
      "\u001b[0;31m---------------------------------------------------------------------------\u001b[0m",
      "\u001b[0;31mTypeError\u001b[0m                                 Traceback (most recent call last)",
      "\u001b[0;32m<ipython-input-56-2ca70e92608d>\u001b[0m in \u001b[0;36m<module>\u001b[0;34m()\u001b[0m\n\u001b[1;32m      2\u001b[0m     \u001b[0;32mfor\u001b[0m \u001b[0mj\u001b[0m \u001b[0;32min\u001b[0m \u001b[0mrange\u001b[0m\u001b[0;34m(\u001b[0m\u001b[0mlen\u001b[0m\u001b[0;34m(\u001b[0m\u001b[0mcoins\u001b[0m\u001b[0;34m)\u001b[0m\u001b[0;34m+\u001b[0m\u001b[0;36m1\u001b[0m\u001b[0;34m)\u001b[0m\u001b[0;34m:\u001b[0m\u001b[0;34m\u001b[0m\u001b[0m\n\u001b[1;32m      3\u001b[0m \u001b[0;34m\u001b[0m\u001b[0m\n\u001b[0;32m----> 4\u001b[0;31m         \u001b[0;32mif\u001b[0m \u001b[0msplits\u001b[0m\u001b[0;34m[\u001b[0m\u001b[0mi\u001b[0m\u001b[0;34m]\u001b[0m \u001b[0;34m<\u001b[0m \u001b[0mcoins\u001b[0m\u001b[0;34m[\u001b[0m\u001b[0mj\u001b[0m\u001b[0;34m]\u001b[0m\u001b[0;34m:\u001b[0m\u001b[0;34m\u001b[0m\u001b[0m\n\u001b[0m\u001b[1;32m      5\u001b[0m             \u001b[0;32mcontinue\u001b[0m\u001b[0;34m\u001b[0m\u001b[0m\n\u001b[1;32m      6\u001b[0m         \u001b[0;32melif\u001b[0m \u001b[0msplits\u001b[0m\u001b[0;34m[\u001b[0m\u001b[0mi\u001b[0m\u001b[0;34m]\u001b[0m \u001b[0;34m>\u001b[0m \u001b[0mcoins\u001b[0m\u001b[0;34m[\u001b[0m\u001b[0mj\u001b[0m\u001b[0;34m]\u001b[0m\u001b[0;34m:\u001b[0m\u001b[0;34m\u001b[0m\u001b[0m\n",
      "\u001b[0;31mTypeError\u001b[0m: list indices must be integers or slices, not list"
     ]
    }
   ],
   "source": [
    "for i in splits:\n",
    "    for j in range(len(coins)+1):\n",
    "        \n",
    "        if splits[i] < coins[j]:\n",
    "            continue\n",
    "        elif splits[i] > coins[j]:\n",
    "            d = splits[i] - coins[j]\n",
    "            add = coins[j]\n",
    "            for a in split[d]:\n",
    "                a.extend(add)\n",
    "            print(split[d])"
   ]
  },
  {
   "cell_type": "code",
   "execution_count": null,
   "metadata": {
    "collapsed": true
   },
   "outputs": [],
   "source": []
  }
 ],
 "metadata": {
  "kernelspec": {
   "display_name": "Python 3",
   "language": "python",
   "name": "python3"
  },
  "language_info": {
   "codemirror_mode": {
    "name": "ipython",
    "version": 3
   },
   "file_extension": ".py",
   "mimetype": "text/x-python",
   "name": "python",
   "nbconvert_exporter": "python",
   "pygments_lexer": "ipython3",
   "version": "3.6.3"
  }
 },
 "nbformat": 4,
 "nbformat_minor": 2
}
