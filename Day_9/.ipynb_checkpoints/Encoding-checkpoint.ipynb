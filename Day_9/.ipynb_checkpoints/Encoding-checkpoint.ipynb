{
 "cells": [
  {
   "cell_type": "markdown",
   "metadata": {},
   "source": [
    "This problem was asked by Facebook.\n",
    "\n",
    "Given the mapping a = 1, b = 2, ... z = 26, and an encoded message, count the number of ways it can be decoded.\n",
    "\n",
    "For example, the message '111' would give 3, since it could be decoded as 'aaa', 'ka', and 'ak'.\n",
    "\n",
    "You can assume that the messages are decodable. For example, '001' is not allowed.\n"
   ]
  },
  {
   "cell_type": "code",
   "execution_count": 43,
   "metadata": {
    "collapsed": true
   },
   "outputs": [],
   "source": [
    "no = \"1123\"\n",
    "# count = 0\n",
    "\n",
    "def alpha():\n",
    "    s = 'abcdefghijklmnopqrstuvwxyz'\n",
    "    d = {}\n",
    "    for x in range(1,27):\n",
    "        d[str(x)] = s[x-1]\n",
    "    return d\n",
    "\n",
    "\n",
    "def solution_helper(s, alpha, dp):\n",
    "# recursive function breaking up the problem\n",
    "    if s in dp.keys():\n",
    "        return dp[s]\n",
    "    if len(s) == 0:\n",
    "        return ['']\n",
    "    if len(s) == 1:\n",
    "        return [alpha[s]]\n",
    "    \n",
    "    if s[:2] in alpha.keys():\n",
    "        dp[s] = [alpha[s[0]] + x for x in solution_helper(s[1:], alpha, dp)] + [alpha[s[:2]] + x for x in solution_helper(s[2:], alpha, dp)]\n",
    "    else:\n",
    "        dp[s] = [alpha[s[0]] + x for x in solution_helper(s[1:], alpha, dp)]\n",
    "    return dp[s]\n",
    "\n",
    "    \n",
    "def find_decoded(s):\n",
    "# The function that calls solution_helper, the solution.\n",
    "    solutions = []\n",
    "    dp = {}\n",
    "    # dp format: (substring:[possible codes])\n",
    "    sol = solution_helper(s, alpha(), dp)\n",
    "    return len(sol), sol\n",
    "\n",
    "def decode(i):\n",
    "    if i < 27:\n",
    "        return True\n",
    "    else:\n",
    "        return False\n",
    "    \n",
    "def msg_decode(n):\n",
    "    count = 0    \n",
    "    solutions = []\n",
    "    for i in range(1,len(n)):\n",
    "        print(n[:i], \" \", n[i:])\n",
    "        if msg_decode((n[:i])) and msg_decode((n[i:])):\n",
    "            count = count + 1\n",
    "            \n",
    "    return count+1\n",
    "    "
   ]
  },
  {
   "cell_type": "code",
   "execution_count": 44,
   "metadata": {},
   "outputs": [
    {
     "name": "stdout",
     "output_type": "stream",
     "text": [
      "1   123\n",
      "1   23\n",
      "2   3\n",
      "12   3\n",
      "1   2\n",
      "11   23\n",
      "1   1\n",
      "2   3\n",
      "112   3\n",
      "1   12\n",
      "1   2\n",
      "11   2\n",
      "1   1\n",
      "(5, ['aabc', 'aaw', 'alc', 'kbc', 'kw'])\n"
     ]
    }
   ],
   "source": [
    "msg_decode(no)\n",
    "print(find_decoded('1123'))"
   ]
  },
  {
   "cell_type": "code",
   "execution_count": 1,
   "metadata": {
    "collapsed": true
   },
   "outputs": [],
   "source": [
    "def helper(current, i, num_str, result):\n",
    "    L = len(num_str)\n",
    "    if i == L:\n",
    "        result.append(current)\n",
    "        return\n",
    "    n_s = [int(num_str[i])]\n",
    "    \n",
    "    if i + 1 < len(num_str):\n",
    "        n_s.append(int(num_str[i] + num_str[i+1]))\n",
    "\n",
    "    # if use on digit, delta is 1, else 2\n",
    "    delta = 1\n",
    "    for n in n_s:\n",
    "        if 1 <= n and n <= 26:\n",
    "            c = chr(ord('a') + n -1)\n",
    "            helper(current + c, i + delta, num_str, result)\n",
    "        delta += 1\n",
    "\n",
    "\n",
    "def numDecodings(num_str):\n",
    "    result = []\n",
    "    helper(\"\", 0, num_str, result)\n",
    "    return result\n"
   ]
  },
  {
   "cell_type": "code",
   "execution_count": 4,
   "metadata": {},
   "outputs": [
    {
     "data": {
      "text/plain": [
       "['aaaa', 'aak', 'aka', 'kaa', 'kk']"
      ]
     },
     "execution_count": 4,
     "metadata": {},
     "output_type": "execute_result"
    }
   ],
   "source": [
    "numDecodings(\"1111\")"
   ]
  },
  {
   "cell_type": "code",
   "execution_count": null,
   "metadata": {
    "collapsed": true
   },
   "outputs": [],
   "source": [
    "num_str = \"1111\"\n",
    "n_s = [int(num_str[0])]"
   ]
  },
  {
   "cell_type": "code",
   "execution_count": null,
   "metadata": {
    "collapsed": true
   },
   "outputs": [],
   "source": []
  }
 ],
 "metadata": {
  "kernelspec": {
   "display_name": "Python 3",
   "language": "python",
   "name": "python3"
  },
  "language_info": {
   "codemirror_mode": {
    "name": "ipython",
    "version": 3
   },
   "file_extension": ".py",
   "mimetype": "text/x-python",
   "name": "python",
   "nbconvert_exporter": "python",
   "pygments_lexer": "ipython3",
   "version": "3.6.3"
  }
 },
 "nbformat": 4,
 "nbformat_minor": 2
}
