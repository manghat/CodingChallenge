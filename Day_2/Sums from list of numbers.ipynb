{
 "cells": [
  {
   "cell_type": "markdown",
   "metadata": {},
   "source": [
    "Given a list of numbers, return whether any two sums to k.\n",
    "\n",
    "For example, given [10, 15, 3, 7] and k of 17, return true since 10 + 7 is 17.\n",
    "\n",
    "Bonus: Can you do this in one pass?"
   ]
  },
  {
   "cell_type": "markdown",
   "metadata": {},
   "source": [
    "# Basic way\n",
    "\n",
    "iterate over the array and see if there is any combination that leads to the number."
   ]
  },
  {
   "cell_type": "code",
   "execution_count": 9,
   "metadata": {},
   "outputs": [
    {
     "name": "stdout",
     "output_type": "stream",
     "text": [
      "10 7\n",
      "15 2\n",
      "True\n"
     ]
    }
   ],
   "source": [
    "l = [10, 15, 3, 2, 7]\n",
    "n = 17\n",
    "r = False\n",
    "for i in range(len(l)):\n",
    "    for j in l[i:]:\n",
    "        if l[i]+j == n:\n",
    "            print(l[i],j)\n",
    "            r = True\n",
    "            break\n",
    "print(r)            "
   ]
  },
  {
   "cell_type": "markdown",
   "metadata": {},
   "source": [
    "# Learning initialising of array"
   ]
  },
  {
   "cell_type": "code",
   "execution_count": 33,
   "metadata": {
    "collapsed": true
   },
   "outputs": [],
   "source": [
    "#  a = [[0] * m for i in range(n)]"
   ]
  },
  {
   "cell_type": "markdown",
   "metadata": {},
   "source": [
    "In this case **each element is created independently** from the others. The list [0] \\* m is n times consructed as the **new one, and no copying of references occurs.**"
   ]
  },
  {
   "cell_type": "markdown",
   "metadata": {},
   "source": [
    "# One pass\n",
    "\n",
    "quite useful reference to understand array in python: https://snakify.org/lessons/two_dimensional_lists_arrays/"
   ]
  },
  {
   "cell_type": "code",
   "execution_count": 50,
   "metadata": {},
   "outputs": [
    {
     "data": {
      "text/plain": [
       "[[0, 25, 13, 12, 17],\n",
       " [0, 0, 18, 17, 22],\n",
       " [0, 0, 0, 5, 10],\n",
       " [0, 0, 0, 0, 9],\n",
       " [0, 0, 0, 0, 0]]"
      ]
     },
     "execution_count": 50,
     "metadata": {},
     "output_type": "execute_result"
    }
   ],
   "source": [
    "l = [10, 15, 3, 2, 7]\n",
    "r_ln = range(len(l))\n",
    "n = 17\n",
    "r = False\n",
    "x = [[(l[i] + l[j]) if j > i else 0 for j in r_ln] for i in r_ln]\n",
    "# y = [[(i + j) for j in l] for i in l]\n",
    "# print(x)\n",
    "# print(y)\n",
    "x"
   ]
  },
  {
   "cell_type": "code",
   "execution_count": 57,
   "metadata": {},
   "outputs": [
    {
     "data": {
      "text/plain": [
       "False"
      ]
     },
     "execution_count": 57,
     "metadata": {},
     "output_type": "execute_result"
    }
   ],
   "source": [
    "# n in (i[0] for i in x)"
   ]
  },
  {
   "cell_type": "code",
   "execution_count": 62,
   "metadata": {},
   "outputs": [
    {
     "name": "stdout",
     "output_type": "stream",
     "text": [
      "True\n"
     ]
    }
   ],
   "source": [
    "for i, sublist in enumerate(x):\n",
    "        if n in sublist:\n",
    "#             print(i)\n",
    "            r = True\n",
    "            break\n",
    "print(r)"
   ]
  },
  {
   "cell_type": "markdown",
   "metadata": {},
   "source": [
    "# Using sets?"
   ]
  },
  {
   "cell_type": "code",
   "execution_count": 66,
   "metadata": {},
   "outputs": [],
   "source": [
    "l = [10, 15, 3, 2, 7]\n",
    "r_ln = range(len(l))\n",
    "n = 17\n",
    "r = False\n",
    "x = [[(l[i] + l[j]) if j > i else 0 for j in r_ln] for i in r_ln]\n",
    "# a = set(x)"
   ]
  },
  {
   "cell_type": "code",
   "execution_count": null,
   "metadata": {
    "collapsed": true
   },
   "outputs": [],
   "source": [
    "# Read an integer:\n",
    "a = input().split(' ')\n",
    "# Print a value:\n",
    "print(len(set(a)))"
   ]
  }
 ],
 "metadata": {
  "kernelspec": {
   "display_name": "Python 3",
   "language": "python",
   "name": "python3"
  },
  "language_info": {
   "codemirror_mode": {
    "name": "ipython",
    "version": 3
   },
   "file_extension": ".py",
   "mimetype": "text/x-python",
   "name": "python",
   "nbconvert_exporter": "python",
   "pygments_lexer": "ipython3",
   "version": "3.6.3"
  }
 },
 "nbformat": 4,
 "nbformat_minor": 2
}
