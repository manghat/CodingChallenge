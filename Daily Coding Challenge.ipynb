{
 "cells": [
  {
   "cell_type": "markdown",
   "metadata": {},
   "source": [
    "# Day 1 \n",
    "\n",
    "Given a list of numbers, return whether any two sums to k.\n",
    "\n",
    "For example, given [10, 15, 3, 7] and k of 17, return true since 10 + 7 is 17.\n",
    "\n",
    "Bonus: Can you do this in one pass?"
   ]
  },
  {
   "cell_type": "code",
   "execution_count": null,
   "metadata": {},
   "outputs": [],
   "source": [
    "#day 1 challenge\n",
    "k = int(input('Enter the number you want to test: '))\n",
    "c = list(map(int, input('enter list of numbers separated by \" \": ').rstrip().split()))\n",
    "flag = False \n",
    "for i in c: #single run\n",
    "    temp = k - i\n",
    "    if temp in c:\n",
    "        flag = True\n",
    "        break\n",
    "if flag:\n",
    "    print(\"True: \", i, temp)\n",
    "else:\n",
    "    print(\"False\")\n",
    "        "
   ]
  },
  {
   "cell_type": "markdown",
   "metadata": {},
   "source": [
    "-----"
   ]
  },
  {
   "cell_type": "markdown",
   "metadata": {},
   "source": [
    "# Day 2\n",
    "\n",
    "This problem was asked by Uber.\n",
    "\n",
    "Given an array of integers, return a new array such that each element at index i of the new array is the product of all the numbers in the original array except the one at i.\n",
    "\n",
    "For example, if our input was [1, 2, 3, 4, 5], the expected output would be [120, 60, 40, 30, 24]. If our input was [3, 2, 1], the expected output would be [2, 3, 6].\n",
    "\n",
    "Follow-up: what if you can't use division?"
   ]
  },
  {
   "cell_type": "code",
   "execution_count": null,
   "metadata": {},
   "outputs": [],
   "source": [
    "\n",
    "\n",
    "def mul(c, n = -1):\n",
    "    temp = c[:]\n",
    "    r = 1\n",
    "    if (n != -1):\n",
    "        temp[n] = 1\n",
    "    for x in temp:\n",
    "        r *= x\n",
    "    return r\n",
    "\n",
    "if __name__ == '__main__':\n",
    "    c = list(map(int,input(\"enter the list of numbers:  \").rstrip().split()))\n",
    "\n",
    "    # using division\n",
    "    print('Using division:')\n",
    "\n",
    "    c2 = []\n",
    "    for i,n in enumerate(c):\n",
    "        c2.append(mul(c) // n)  \n",
    "    print(c2)\n",
    "\n",
    "    # without division\n",
    "    print('No division:')\n",
    "\n",
    "    c3 = []\n",
    "    for j in range(len(c)):\n",
    "        c3.append(mul(c, j))\n",
    "#         print (j, c3, c)\n",
    "\n",
    "    print(c3)"
   ]
  },
  {
   "cell_type": "markdown",
   "metadata": {},
   "source": [
    "---------"
   ]
  },
  {
   "cell_type": "markdown",
   "metadata": {},
   "source": [
    "# Day 3\n",
    "\n",
    "This problem was asked by Google.\n",
    "\n",
    "Given the root to a binary tree, implement serialize(root), which serializes the tree into a string, and deserialize(s), which deserializes the string back into the tree."
   ]
  },
  {
   "cell_type": "code",
   "execution_count": null,
   "metadata": {},
   "outputs": [],
   "source": [
    "class Node():\n",
    "    def __init__(self, value):\n",
    "        self.left = None\n",
    "        self.right = None\n",
    "        self.value = value\n",
    "\n",
    "\"\"\"\n",
    "dummy tree\n",
    "          1\n",
    "         / \\\n",
    "        3   4\n",
    "       /   / \\\n",
    "      6   7   8\n",
    "\"\"\"\n",
    "\n",
    "BT = Node(1)\n",
    "BT.left = Node(3)\n",
    "BT.left.left = Node(6)\n",
    "BT.right = Node(4)\n",
    "BT.right.left = Node(7)\n",
    "BT.right.right = Node(8)\n",
    "\n",
    "def serialize_bt(root, serial):\n",
    "    if root != None:\n",
    "        serial.append(root.value)\n",
    "        serialize_bt(root.left, serial)\n",
    "        serialize_bt(root.right, serial)\n",
    "    else:\n",
    "        serial.append(-1)\n",
    "    return serial\n",
    "\n",
    "def deserialize_bt(newRoot, serial):\n",
    "    if serial[0] == -1:\n",
    "        serial.pop(0)\n",
    "    else:\n",
    "        if len(serial) > 0:\n",
    "            newRoot = Node(serial.pop(0))\n",
    "            print(newRoot.value)\n",
    "            deserialize(newRoot.left, serial)\n",
    "            deserialize(newRoot.right, serial)\n",
    "\n",
    "if __name__ == '__main__':\n",
    "    serial = serialize_bt(BT,[])\n",
    "    print('Serialized: ', serial)\n",
    "    print('Deserialized: ')\n",
    "    newRoot = Node(None)\n",
    "    deserialize_bt(newRoot, serial)\n",
    "\n",
    "        "
   ]
  },
  {
   "cell_type": "markdown",
   "metadata": {},
   "source": [
    "----"
   ]
  },
  {
   "cell_type": "markdown",
   "metadata": {},
   "source": [
    "# Day 4\n",
    "\n",
    "This problem was asked by Stripe.\n",
    "\n",
    "Given an array of integers, find the first missing positive integer in linear time and constant space. In other words, find the lowest positive integer that does not exist in the array. The array can contain duplicates and negative numbers as well.\n",
    "\n",
    "For example, the input [3, 4, -1, 1] should give 2. The input [1, 2, 0] should give 3.\n",
    "\n",
    "You can modify the input array in-place."
   ]
  },
  {
   "cell_type": "code",
   "execution_count": null,
   "metadata": {},
   "outputs": [],
   "source": [
    "c = list(map(int,input('Input list of numbers: ').rstrip().split()))\n",
    "\n",
    "x = sorted(c)\n",
    "flag = False\n",
    "for i,n in enumerate(x[1:]):\n",
    "    if n > 0 and n-1 != x[i]:\n",
    "        print(n+1)\n",
    "        flag = True\n",
    "        break\n",
    "if not flag:\n",
    "    print(n+1)"
   ]
  },
  {
   "cell_type": "markdown",
   "metadata": {},
   "source": [
    "----"
   ]
  },
  {
   "cell_type": "markdown",
   "metadata": {},
   "source": [
    "# Day 5\n",
    "This problem was asked by Jane Street.\n",
    "\n",
    "cons(a, b) constructs a pair, and car(pair) and cdr(pair) returns the first and last element of that pair. For example, car(cons(3, 4)) returns 3, and cdr(cons(3, 4)) returns 4.\n",
    "\n",
    "Given this implementation of cons:\n",
    "\n",
    "def cons(a, b):\n",
    "    return lambda f : f(a, b)\n",
    "Implement car and cdr.\n",
    "\n",
    "### link on lambda functions:\n",
    "https://medium.com/@happymishra66/lambda-map-and-filter-in-python-4935f248593"
   ]
  },
  {
   "cell_type": "code",
   "execution_count": null,
   "metadata": {},
   "outputs": [],
   "source": [
    "def cons(a, b): return lambda f : f(a, b)\n",
    "\n",
    "def car(f): return f(lambda a, b: a)\n",
    "\n",
    "def cdr(f): return f(lambda a, b: b)\n",
    "\n",
    "a, b = (int(n) for n in input('Input a and b separated by space: ').split())\n",
    "print(car(cons(a, b)))\n",
    "print(cdr(cons(a, b)))\n",
    "\n"
   ]
  },
  {
   "cell_type": "markdown",
   "metadata": {},
   "source": [
    "-----"
   ]
  },
  {
   "cell_type": "markdown",
   "metadata": {},
   "source": [
    "# Day 6\n",
    "This problem was asked by Google.\n",
    "\n",
    "An XOR linked list is a more memory efficient doubly linked list. Instead of each node holding next and prev fields, it holds a field named both, which is an XOR of the next node and the previous node. Implement an XOR linked list; it has an add(element) which adds the element to the end, and a get(index) which returns the node at index.\n",
    "\n",
    "If using a language that has no pointers (such as Python), you can assume you have access to get_pointer and dereference_pointer functions that converts between nodes and memory addresses."
   ]
  },
  {
   "cell_type": "code",
   "execution_count": null,
   "metadata": {},
   "outputs": [],
   "source": []
  },
  {
   "cell_type": "markdown",
   "metadata": {},
   "source": [
    "-----"
   ]
  },
  {
   "cell_type": "markdown",
   "metadata": {},
   "source": [
    "# Day 7\n",
    "\n",
    "This problem was asked by Facebook.\n",
    "\n",
    "Given the mapping a = 1, b = 2, ... z = 26, and an encoded message, count the number of ways it can be decoded.\n",
    "\n",
    "For example, the message '111' would give 3, since it could be decoded as 'aaa', 'ka', and 'ak'.\n",
    "\n",
    "You can assume that the messages are decodable. For example, '001' is not allowed.\n",
    "\n",
    "### Dynamic programing"
   ]
  },
  {
   "cell_type": "code",
   "execution_count": null,
   "metadata": {},
   "outputs": [],
   "source": [
    "c = (input(\"enter code: \"))\n",
    "n = len(c)\n",
    "\n",
    "def decode(a, n):\n",
    "    count = [0] * (n+1) \n",
    "    count[0] = 1\n",
    "    count[1] = 1\n",
    "    \n",
    "    for i in range(2, n+1):\n",
    "        count[i] = 0\n",
    "        if (a[i-1] > '0'):\n",
    "            count[i] = count[i-1]\n",
    "        if (a[i-2] == '1' or (a[i-2] == '2' and a[i-1] < '7') ):\n",
    "            count[i] += count[i-2]\n",
    "     \n",
    "    return count[n]\n",
    "            \n",
    "\n",
    "print(\"Count is \",decode(c, n))"
   ]
  },
  {
   "cell_type": "markdown",
   "metadata": {},
   "source": [
    "----"
   ]
  },
  {
   "cell_type": "markdown",
   "metadata": {},
   "source": [
    "# Day 8\n",
    "\n",
    "This problem was asked by Google.\n",
    "\n",
    "A unival tree (which stands for \"universal value\") is a tree where all nodes under it have the same value.\n",
    "\n",
    "Given the root to a binary tree, count the number of unival subtrees.\n",
    "\n",
    "For example, the following tree has 5 unival subtrees:\n",
    "\n",
    "   0\n",
    "  / \\\n",
    " 1   0\n",
    "    / \\\n",
    "   1   0\n",
    "  / \\\n",
    " 1   1"
   ]
  },
  {
   "cell_type": "code",
   "execution_count": null,
   "metadata": {},
   "outputs": [],
   "source": [
    "\n",
    "# tree node\n",
    "\n",
    "class Node():\n",
    "    def __init__(self, value):\n",
    "        self.value = value\n",
    "        self.left = None\n",
    "        self.right = None\n",
    "\n",
    "# creating a tree\n",
    "t = Node(0)\n",
    "t.left = Node(1)\n",
    "t.right = Node(0)\n",
    "t.right.left = Node(1)\n",
    "t.right.right = Node(0)\n",
    "t.right.left.left = Node(1)\n",
    "t.right.left.right = Node(1)\n",
    "\n",
    "\n",
    "def cal_unival(root):\n",
    "    if root == None:\n",
    "        return 0, True\n",
    "    \n",
    "    left, is_left = cal_unival(root.left)\n",
    "    right, is_right = cal_unival(root.right)  \n",
    "    total_count = right + left\n",
    "    \n",
    "    if is_left and is_right:\n",
    "        if root.left != None and root.left.value != root.value:\n",
    "            return total_count, False\n",
    "        if root.right != None and root.right.value != root.value:\n",
    "            return total_count, False\n",
    "        return total_count+1, True\n",
    "    return total_count, False\n",
    "\n",
    "cal_unival(t)"
   ]
  },
  {
   "cell_type": "markdown",
   "metadata": {},
   "source": [
    "----"
   ]
  },
  {
   "cell_type": "markdown",
   "metadata": {},
   "source": [
    "# Day 9\n",
    "\n",
    "This problem was asked by Airbnb.\n",
    "\n",
    "Given a list of integers, write a function that returns the largest sum of non-adjacent numbers. Numbers can be 0 or negative.\n",
    "\n",
    "For example, [2, 4, 6, 8] should return 12, since we pick 4 and 8. [5, 1, 1, 5] should return 10, since we pick 5 and 5."
   ]
  },
  {
   "cell_type": "code",
   "execution_count": null,
   "metadata": {},
   "outputs": [],
   "source": [
    "c = list(map(int,input('Enter the list of nos. separated by space: ').rstrip().split()))\n",
    "\n",
    "\n",
    "def find_max_sum(c):\n",
    "    incl = 0\n",
    "    excl = 0\n",
    "    \n",
    "    for i in c:\n",
    "         \n",
    "        new_excl = excl if excl>incl else incl\n",
    "\n",
    "        incl = excl + i\n",
    "        excl = new_excl\n",
    "     \n",
    "\n",
    "    return (excl if excl>incl else incl)\n",
    "    \n",
    "\n",
    "find_max_sum(c)\n",
    "    "
   ]
  },
  {
   "cell_type": "markdown",
   "metadata": {},
   "source": [
    "-----"
   ]
  },
  {
   "cell_type": "markdown",
   "metadata": {},
   "source": [
    "# Day 10\n",
    "\n",
    "This problem was asked by Apple.\n",
    "\n",
    "Implement a job scheduler which takes in a function f and an integer n, and calls f after n milliseconds."
   ]
  },
  {
   "cell_type": "markdown",
   "metadata": {},
   "source": [
    "----"
   ]
  },
  {
   "cell_type": "markdown",
   "metadata": {},
   "source": [
    "# Day 11\n",
    "\n",
    "This problem was asked by Twitter.\n",
    "\n",
    "Implement an autocomplete system. That is, given a query string s and a set of all possible query strings, return all strings in the set that have s as a prefix.\n",
    "\n",
    "For example, given the query string de and the set of strings [dog, deer, deal], return [deer, deal].\n",
    "\n",
    "Hint: Try preprocessing the dictionary into a more efficient data structure to speed up queries.\n",
    "\n",
    "-----\n",
    "\n",
    "### Trie data structure\n",
    "\n",
    "videos: https://www.youtube.com/watch?v=AXjmTQ8LEoI\n",
    "\n",
    "https://towardsdatascience.com/implementing-a-trie-data-structure-in-python-in-less-than-100-lines-of-code-a877ea23c1a1\n",
    "\n",
    "trie is a tree for characters\n",
    "\n",
    "implemenation : https://www.geeksforgeeks.org/trie-insert-and-search/\n",
    "\n",
    "### Learned the use of set().\n",
    "http://devdocs.io/python~3.6/library/stdtypes#frozenset.add\n"
   ]
  },
  {
   "cell_type": "code",
   "execution_count": null,
   "metadata": {},
   "outputs": [],
   "source": [
    "\n",
    "class Trie(object):\n",
    "    def __init__(self):\n",
    "        self.children = {}\n",
    "        self.flag = False # Flag to represent that a word ends at this node\n",
    "\n",
    "    def add(self, char):\n",
    "        self.children[char] = Trie()\n",
    "\n",
    "    def insert(self, word):\n",
    "        node = self\n",
    "        for char in word:\n",
    "            if char not in node.children:\n",
    "                node.add(char)\n",
    "            node = node.children[char]\n",
    "        node.flag = True\n",
    "\n",
    "    def contains(self, word):\n",
    "        node = self\n",
    "        for char in word:\n",
    "            if char not in node.children:\n",
    "                return False\n",
    "            node = node.children[char]\n",
    "        return node.flag\n",
    "\n",
    "    def all_suffixes(self, prefix):\n",
    "        results = set()\n",
    "        if self.flag:\n",
    "            results.add(prefix)\n",
    "        if not self.children: \n",
    "            return results\n",
    "        \n",
    "        for char, node in self.children.items():\n",
    "            results = results | (node.all_suffixes(prefix + char))\n",
    "        return results\n",
    "\n",
    "    def autocomplete(self, prefix):\n",
    "        node = self\n",
    "        for char in prefix:\n",
    "            if char not in node.children:\n",
    "                return set()\n",
    "            node = node.children[char]\n",
    "        return list(node.all_suffixes(prefix))\n",
    "\n",
    "        \n",
    "\n",
    "if __name__ == '__main__':\n",
    "    \n",
    "    dictionary = list(input('Enter words in dictionary separated by \",\": ').split(','))\n",
    "\n",
    "    query = input('Enter query: ')\n",
    "    \n",
    "    t = Trie()\n",
    " \n",
    "    # Construct trie\n",
    "    for key in dictionary:\n",
    "        t.insert(key)\n",
    "        \n",
    "    print(t.autocomplete(query))\n",
    " \n",
    "    \n",
    "     \n",
    "            "
   ]
  },
  {
   "cell_type": "markdown",
   "metadata": {},
   "source": [
    "# Day 12\n",
    "\n",
    "This problem was asked by Amazon.\n",
    "\n",
    "There exists a staircase with N steps, and you can climb up either 1 or 2 steps at a time. Given N, write a function that returns the number of unique ways you can climb the staircase. The order of the steps matters.\n",
    "\n",
    "For example, if N is 4, then there are 5 unique ways:\n",
    "\n",
    "1, 1, 1, 1\n",
    "\n",
    "2, 1, 1\n",
    "\n",
    "1, 2, 1\n",
    "\n",
    "1, 1, 2\n",
    "\n",
    "2, 2\n",
    "\n",
    "What if, instead of being able to climb 1 or 2 steps at a time, you could climb any number from a set of positive integers X? For example, if X = {1, 3, 5}, you could climb 1, 3, or 5 steps at a time.\n",
    "\n",
    "----\n",
    "#difficult #dynamic programming"
   ]
  },
  {
   "cell_type": "code",
   "execution_count": null,
   "metadata": {},
   "outputs": [],
   "source": [
    "c = int(input('Enter the total number of steps: '))\n",
    "step = list(map(int,input('Enter the list of steps allowed separated by space:').rstrip().split()))\n",
    "\n",
    "\n",
    "def cal_step(n, step):\n",
    "    \n",
    "#     Any steps to be made below the least possible steps will \n",
    "#     be impossible.\n",
    "#     Find the smallest allowed step and all steps below that has 0 ways\n",
    "    \n",
    "    step.sort()\n",
    "    buff = [0] * (step[0]+n)    \n",
    "    for i in range(0, step[0]):\n",
    "        buff[i] = 1\n",
    "    buff[step[0]] = 1\n",
    "    \n",
    "\n",
    "#     fibonacci logic \n",
    "\n",
    "    for i in range(step[0], n + step[0]):\n",
    "#         print(i)\n",
    "        for j in step:\n",
    "#             print('.',j, n-j)\n",
    "            if n - j < 0 : \n",
    "                print(\"break\")\n",
    "                break\n",
    "            buff[i] += buff[i-j]\n",
    "    return buff\n",
    "        \n",
    "\n",
    "ans = cal_step(c, step)\n",
    "    \n",
    "print('Ways to get to ',c,'using jumps of ',step, 'is: ',ans[c-1])"
   ]
  },
  {
   "cell_type": "markdown",
   "metadata": {},
   "source": [
    "----"
   ]
  },
  {
   "cell_type": "markdown",
   "metadata": {},
   "source": [
    "# Day 13\n",
    "\n",
    "This problem was asked by Amazon.\n",
    "\n",
    "Given an integer k and a string s, find the length of the longest substring that contains at most k distinct characters.\n",
    "\n",
    "For example, given s = \"abcba\" and k = 2, the longest substring with k distinct characters is \"bcb\"."
   ]
  },
  {
   "cell_type": "code",
   "execution_count": null,
   "metadata": {},
   "outputs": [],
   "source": [
    "\n",
    "\n",
    "s = input('enter the string:').rstrip()\n",
    "k = int(input('Enter no of distinct subcharacters to be included in the result: '))\n",
    "\n",
    "print(len(set(s)))\n",
    "\n",
    "# returns the number of unique characters and the characters themselves in a set\n",
    "\n",
    "def getChars(s):\n",
    "    return len(set(s)),set(s)\n",
    "\n",
    "def subString(s, k):\n",
    "    \n",
    "    unique = set(s)\n",
    "    \n",
    "#     k is less than the unqiue characters in the string to start off with\n",
    "\n",
    "    if k >= len(unique):\n",
    "        return s\n",
    "    \n",
    "    buff = [0] * (k+1)\n",
    "\n",
    "#     pointers to start and end of the substring that is to be recognised.\n",
    "    start = 0\n",
    "    end = 1  \n",
    "    \n",
    "    for i in range(2, (k+1)):\n",
    "        \n",
    "        for i in range(2,len(s)):\n",
    "            test = s[start:i]\n",
    "            unique_count, chars = getChars(test)\n",
    "            \n",
    "            if unique_count <= k:\n",
    "                end +=1\n",
    "                \n",
    "            if unique_count > k:\n",
    "                l,c=getChars(s[start+1:i])\n",
    "                if l == k:\n",
    "                    start = start+1\n",
    "                    end = i\n",
    "        return (s[start:end])\n",
    "            \n",
    "            \n",
    "        \n",
    "ans = subString(s, k)\n",
    "print ('Substring is :',ans, 'length of the string is :', len(ans))\n",
    "    \n"
   ]
  },
  {
   "cell_type": "markdown",
   "metadata": {},
   "source": [
    "## Error in logic\n",
    "\n",
    "The program fails for this case:\n",
    "\n",
    "appletinnit\n",
    "\n",
    "2\n",
    "\n",
    "Substring is : ppl length of the string is : 3\n",
    "\n",
    "### it should be inni at 4"
   ]
  },
  {
   "cell_type": "markdown",
   "metadata": {},
   "source": [
    "-----"
   ]
  },
  {
   "cell_type": "markdown",
   "metadata": {},
   "source": [
    "# Day 14\n",
    "Missing"
   ]
  },
  {
   "cell_type": "markdown",
   "metadata": {},
   "source": [
    "-----"
   ]
  },
  {
   "cell_type": "markdown",
   "metadata": {},
   "source": [
    "# Day 15\n",
    "\n",
    "This problem was asked by Facebook.\n",
    "\n",
    "Given a stream of elements too large to store in memory, pick a random element from the stream with uniform probability.\n",
    "\n"
   ]
  },
  {
   "cell_type": "markdown",
   "metadata": {},
   "source": [
    "---"
   ]
  },
  {
   "cell_type": "markdown",
   "metadata": {},
   "source": [
    "# Day 16\n",
    "\n",
    "This problem was asked by Twitter.\n",
    "\n",
    "You run an e-commerce website and want to record the last N order ids in a log. Implement a data structure to accomplish this, with the following API:\n",
    "\n",
    "record(order_id): adds the order_id to the log\n",
    "get_last(i): gets the ith last element from the log. i is guaranteed to be smaller than or equal to N.\n",
    "You should be as efficient with time and space as possible.\n",
    "\n"
   ]
  },
  {
   "cell_type": "markdown",
   "metadata": {},
   "source": [
    "----"
   ]
  },
  {
   "cell_type": "markdown",
   "metadata": {},
   "source": [
    "# Day 17\n",
    "\n",
    "This problem was asked by Google.\n",
    "\n",
    "Suppose we represent our file system by a string in the following manner:\n",
    "\n",
    "The string \"dir\\n\\tsubdir1\\n\\tsubdir2\\n\\t\\tfile.ext\" represents:\n",
    "\n",
    "dir\n",
    "\n",
    "    subdir1\n",
    "    \n",
    "    subdir2\n",
    "    \n",
    "        file.ext\n",
    "        \n",
    "The directory dir contains an empty sub-directory subdir1 and a sub-directory subdir2 containing a file file.ext.\n",
    "\n",
    "The string \"dir\\n\\tsubdir1\\n\\t\\tfile1.ext\\n\\t\\tsubsubdir1\\n\\tsubdir2\\n\\t\\tsubsubdir2\\n\\t\\t\\tfile2.ext\" represents:\n",
    "\n",
    "dir\n",
    "\n",
    "    subdir1\n",
    "    \n",
    "        file1.ext\n",
    "        \n",
    "        subsubdir1\n",
    "        \n",
    "    subdir2\n",
    "    \n",
    "        subsubdir2\n",
    "        \n",
    "            file2.ext\n",
    "            \n",
    "The directory dir contains two sub-directories subdir1 and subdir2. subdir1 contains a file file1.ext and an empty second-level sub-directory subsubdir1. subdir2 contains a second-level sub-directory subsubdir2 containing a file file2.ext.\n",
    "\n",
    "We are interested in finding the longest (number of characters) absolute path to a file within our file system. For example, in the second example above, the longest absolute path is \"dir/subdir2/subsubdir2/file2.ext\", and its length is 32 (not including the double quotes).\n",
    "\n",
    "Given a string representing the file system in the above format, return the length of the longest absolute path to a file in the abstracted file system. If there is no file in the system, return 0.\n",
    "\n",
    "Note:\n",
    "\n",
    "The name of a file contains at least a period and an extension.\n",
    "\n",
    "The name of a directory or sub-directory will not contain a period."
   ]
  },
  {
   "cell_type": "code",
   "execution_count": null,
   "metadata": {},
   "outputs": [],
   "source": [
    "len('')"
   ]
  },
  {
   "cell_type": "code",
   "execution_count": null,
   "metadata": {},
   "outputs": [],
   "source": [
    "# a is the line split file structure and b is the number of tabs (*)\n",
    "\n",
    "def length(i):\n",
    "    return len(a[i])-b[i]\n",
    "\n",
    "if __name__ == '__main__': \n",
    "    \n",
    "    c = input(\"Enter the directory: \").rstrip()#+'\\\\n'#.split('\\\\n')\n",
    "\n",
    "    a = c.split('\\\\n') #splits the sting into list of strings with each list one specific folder/file\n",
    "    b = [0] * len(a) #stores the depth of the current node\n",
    "    \n",
    "    dots = [] # stores the index of the list that have files \n",
    "    \n",
    "    for i,j in enumerate(a):\n",
    "        a[i] = j.replace('\\\\t','*')\n",
    "        b[i] = a[i].count('*')\n",
    "        if j.find('.') != -1:\n",
    "            dots.append(i)\n",
    "\n",
    "    if len(dots) == 0:\n",
    "        print (0)\n",
    "\n",
    "    else:\n",
    "        lgt = list(length(x) for x in range(len(b)))\n",
    "        ln = [0] * len(dots) # Stores the length of the directory to that file\n",
    "        for i, j in enumerate(dots):\n",
    "            ln[i] = b[j] # add the number of back slashes\n",
    "            print(ln)\n",
    "            for k in range(b[j],-1,-1): # counting levels down\n",
    "                for l in range(j,-1,-1): # moving across the b list to find closest approprite parent \n",
    "                    if k == b[l]:\n",
    "                        ln[i]+= lgt[l]\n",
    "#                         print (ln,l,k, lgt[l])\n",
    "                        break\n",
    "\n",
    "                \n",
    "            \n",
    "        print('Maximum characters for a particular file is : ', max(ln))\n",
    "    "
   ]
  },
  {
   "cell_type": "markdown",
   "metadata": {},
   "source": [
    "-----"
   ]
  },
  {
   "cell_type": "markdown",
   "metadata": {},
   "source": [
    "# Day 18\n",
    "\n",
    "This problem was asked by Google.\n",
    "\n",
    "Given an array of integers and a number k, where 1 <= k <= length of the array, compute the maximum values of each subarray of length k.\n",
    "\n",
    "For example, given array = [10, 5, 2, 7, 8, 7] and k = 3, we should get: [10, 7, 8, 8], since:\n",
    "\n",
    "10 = max(10, 5, 2)\n",
    "\n",
    "7 = max(5, 2, 7)\n",
    "\n",
    "8 = max(2, 7, 8)\n",
    "\n",
    "8 = max(7, 8, 7)\n",
    "\n",
    "Do this in O(n) time and O(k) space. You can modify the input array in-place and you do not need to store the \n",
    "results. You can simply print them out as you compute them.\n",
    "\n"
   ]
  },
  {
   "cell_type": "code",
   "execution_count": null,
   "metadata": {},
   "outputs": [],
   "source": [
    "\n",
    "c = list(map(int, input('enter array: ').rstrip().split(' ')))\n",
    "k = int(input(\"enter k : \"))\n",
    "\n",
    "\n",
    "for i in range(len(c) - k + 1):\n",
    "    print (max(c[i:i+k]))"
   ]
  },
  {
   "cell_type": "markdown",
   "metadata": {},
   "source": [
    "----"
   ]
  },
  {
   "cell_type": "markdown",
   "metadata": {},
   "source": [
    "# Day 19\n",
    "\n",
    "This problem was asked by Facebook.\n",
    "\n",
    "A builder is looking to build a row of N houses that can be of K different colors. He has a goal of minimizing cost while ensuring that no two neighboring houses are of the same color.\n",
    "\n",
    "Given an N by K matrix where the nth row and kth column represents the cost to build the nth house with kth color, return the minimum cost which achieves this goal.\n",
    "\n",
    "----\n",
    "\n",
    "### minimum distance problem\n",
    "\n",
    "\n",
    "minCost(m, n) = min (minCost(m-1, n-1), minCost(m-1, n), minCost(m, n-1)) + cost[m][n]\n",
    "\n",
    "\n",
    "\n"
   ]
  },
  {
   "cell_type": "code",
   "execution_count": null,
   "metadata": {},
   "outputs": [],
   "source": [
    "c = [[2,2,2],\n",
    "     [4,51,6],\n",
    "     [71,8,9],\n",
    "     [102,11,12]]\n",
    "n = 4\n",
    "k = 3\n",
    "\n",
    "# convert each cost to associated paint and then convert to a tuple and sort it.\n",
    "for a in range(n):\n",
    "    c[a] = list(enumerate(c[a]))\n",
    "    c[a].sort(key=lambda x: x[1])\n",
    "\n",
    "print (c)\n",
    "def color_index(hi, ci):\n",
    "    return c[hi][ci][0]\n",
    "def cost(hi, ci):\n",
    "    return c[hi][ci][1]\n",
    "\n",
    "cost = cost(0, 0)\n",
    "paintSeq = [color_index(0, 0)]\n",
    "\n",
    "# for i in range(1, n):\n",
    "#     print(i)\n",
    "#     if color_index(i, 0) == paintSeq[i-1]:\n",
    "#         temp1 = cost(i,1) + cost (i-1,0)\n",
    "#         temp2 = cost(i,0) + cost (i-1,1)\n",
    "#         if temp1 > temp2:\n",
    "#             cost -= cost(i-1,0) + temp2\n",
    "#         else: \n",
    "#             cost += cost(i,1) \n",
    "#             paintSeq.append(c[i][1][0])\n",
    "#     else: \n",
    "#         cost += c[i][0][1]\n",
    "#         paintSeq.append(c[i][0][0])\n",
    "#     print('.', cost, paintSeq)\n",
    "    \n"
   ]
  },
  {
   "cell_type": "code",
   "execution_count": null,
   "metadata": {
    "scrolled": true
   },
   "outputs": [],
   "source": [
    "def minCost(c, n, k):\n",
    "    if n == 0 and k == 0:\n",
    "        return c[n][k]\n",
    "    elif n < 0 and k < 0:\n",
    "        return 999\n",
    "    else:\n",
    "        return cost[n][k] + min(minCost(c, ) )\n",
    "    \n",
    "minCost(c, n, k)"
   ]
  },
  {
   "cell_type": "code",
   "execution_count": null,
   "metadata": {},
   "outputs": [],
   "source": [
    "def minimizeColorCost(given_array):\n",
    "    results = []\n",
    "    helper(given_array, results, 0, -1, 0, \"\")\n",
    "    return min(results)\n",
    "\n",
    "def helper(given_array, results, curr_house, prev_color, curr_cost, curr_sequence):\n",
    "    if curr_house == len(given_array):\n",
    "        results.append((curr_cost, curr_sequence))\n",
    "#         print(results)\n",
    "        return\n",
    "    for i in range(0, len(given_array[0])):\n",
    "#         print(results, curr_house, prev_color, curr_cost, curr_sequence)\n",
    "        if i != prev_color:\n",
    "            helper(given_array, results, curr_house + 1, i, given_array[curr_house][i] + curr_cost, curr_sequence + str(i))\n",
    "\n",
    "# arr = [[1,2,3,4], \n",
    "#        [1,2,1,0], \n",
    "#        [6,1,1,5], \n",
    "#        [2,3,5,5]]\n",
    "\n",
    "arr = [[2,2,2],\n",
    "     [4,51,6],\n",
    "     [71,8,9],\n",
    "     [102,11,12]]\n",
    "\n",
    "print(minimizeColorCost(arr))"
   ]
  },
  {
   "cell_type": "code",
   "execution_count": null,
   "metadata": {},
   "outputs": [],
   "source": [
    "len(arr)"
   ]
  },
  {
   "cell_type": "markdown",
   "metadata": {},
   "source": [
    "----"
   ]
  },
  {
   "cell_type": "markdown",
   "metadata": {},
   "source": [
    "# Day 20\n",
    "\n",
    "This problem was asked by Google.\n",
    "\n",
    "Given two singly linked lists that intersect at some point, find the intersecting node. The lists are non-cyclical.\n",
    "\n",
    "For example, given A = 3 -> 7 -> 8 -> 10 and B = 99 -> 1 -> 8 -> 10, return the node with value 8.\n",
    "\n",
    "In this example, assume nodes with the same value are the exact same node objects.\n",
    "\n",
    "Do this in O(M + N) time (where M and N are the lengths of the lists) and constant space.\n",
    "\n",
    "#new_concept #linkedList #incomplete\n"
   ]
  },
  {
   "cell_type": "code",
   "execution_count": null,
   "metadata": {},
   "outputs": [],
   "source": [
    "class Node:\n",
    "    def __init__(self, data = None):\n",
    "        self.data = data\n",
    "        self.next_node = None\n",
    "        self.flag = False\n",
    "        \n",
    "# class SLinkedList:\n",
    "#     def __init__(self):\n",
    "#         self.headval = None\n",
    "\n",
    "    def find_int(list1, list2):\n",
    "        while list1.headval.next_node is not None:\n",
    "            \n",
    "        \n",
    "    def insert_list(list_input, linked_list):\n",
    "        \n",
    "        for i in range (len(list_input)):\n",
    "            \n",
    "            \n",
    "if __name__ == '__main__':\n",
    "    \n",
    "    list1 = list(map(int, input('list1: ').rstrip().split(' ')))\n",
    "    list2 = list(map(int, input('list2: ').rstrip().split(' ')))    \n",
    "    l1, l2 = SLinkedList(), SLinkedList()\n",
    "    for i in range (len(list1)):\n",
    "        list1.headval = Node(\"Mon\")\n",
    "        e2 = Node(\"Tue\")\n",
    "        e3 = Node(\"Wed\")\n",
    "        list1.headval.nextval = e2\n",
    "    \n",
    "        e2.nextval = e3\n",
    "\n"
   ]
  },
  {
   "cell_type": "markdown",
   "metadata": {},
   "source": [
    "-----"
   ]
  },
  {
   "cell_type": "markdown",
   "metadata": {},
   "source": [
    "# Day 21\n",
    "\n",
    "This problem was asked by Snapchat.\n",
    "\n",
    "Given an array of time intervals (start, end) for classroom lectures (possibly overlapping), find the minimum number of rooms required.\n",
    "\n",
    "For example, given [(30, 75), (0, 50), (60, 150)], you should return 2."
   ]
  },
  {
   "cell_type": "code",
   "execution_count": null,
   "metadata": {},
   "outputs": [],
   "source": [
    "# find the number of overlaps\n",
    "\n",
    "#base case: overlap is start_time2<end_time1 or end_time2 > start_time1\n",
    "#recurrance: \n",
    "\n",
    "classes = int(input(\"Enter the number of class timings:\"))\n",
    "timing = []\n",
    "\n",
    "for i in range(classes): #input the timings\n",
    "    timing.append(tuple(map(int,input(\"enter class timing \").rstrip().split())))\n",
    "\n",
    "timing.sort(key=lambda x: x[0])\n",
    "\n",
    "# timing = [(1, 5), (2, 3), (3, 4)]\n",
    "# timing =  [(30, 75), (0, 50), (60, 150)]\n",
    "\n",
    "max_timing = max(timing, key = lambda x : x[1]) [1]\n",
    "# print(max_timing)\n",
    "\n",
    "cls = [0] * max_timing\n",
    "# print(max_timing, cls)\n",
    "\n",
    "no_of_classes = 1\n",
    "\n",
    "buff = set(range(timing[0][0], timing[0][1]))\n",
    "\n",
    "for i,j in timing: #combinations of times\n",
    "    for a in range (i-1, j-1): # j-1 so that there is a check for same time \n",
    "        if not cls[a]:\n",
    "            cls[a] = 1\n",
    "        else:\n",
    "            cls[a] = cls[a]+1\n",
    "\n",
    "print(\"Number of classes needed: \", max(cls))\n",
    "\n",
    "\n",
    "\n",
    "#---\n",
    "t =  [(30, 75), (0, 50), (60, 150)]\n",
    "start_times = [(t[0], 1) for t in times]  # [(30, 1), (0, 1), (60, 1)]\n",
    "end_times = [(t[1], -1) for t in times]  # [(75, -1), (50, -1), (150, -1)]\n",
    "room_allocation = [t[1] for t in sorted(start_times + end_times, key=lambda t: t[0])]  # [1, 1, -1, 1, -1, -1]\n",
    "\n",
    "rooms, max_rooms = 0, 0\n",
    "for event in room_allocation:\n",
    "    rooms += event  # occupied or released\n",
    "    max_rooms = max(max_rooms, rooms)\n",
    "assert(rooms == 0)\n",
    "\n",
    "print max_rooms"
   ]
  },
  {
   "cell_type": "markdown",
   "metadata": {},
   "source": [
    "------"
   ]
  },
  {
   "cell_type": "markdown",
   "metadata": {},
   "source": [
    "# Day 22\n",
    "\n",
    "This problem was asked by Microsoft.\n",
    "\n",
    "Given a dictionary of words and a string made up of those words (no spaces), return the original sentence in a list. If there is more than one possible reconstruction, return any of them. If there is no possible reconstruction, then return null.\n",
    "\n",
    "For example, given the set of words 'quick', 'brown', 'the', 'fox', and the string \"thequickbrownfox\", you should return ['the', 'quick', 'brown', 'fox'].\n",
    "\n",
    "Given the set of words 'bed', 'bath', 'bedbath', 'and', 'beyond', and the string \"bedbathandbeyond\", return either ['bed', 'bath', 'and', 'beyond] or ['bedbath', 'and', 'beyond']."
   ]
  },
  {
   "cell_type": "code",
   "execution_count": null,
   "metadata": {},
   "outputs": [],
   "source": [
    "# dict = input('Enter disctionary of words separated by \",\": ').rstrip().split(',') \n",
    "# string = input('Enter string:')\n",
    "\n",
    "dict = ['bed', 'bath', 'bedbath', 'and', 'beyond']\n",
    "string = \"bedbathandbeyond\"\n",
    "buff = string\n",
    "words = []\n",
    "\n",
    "for i in dict: #check for words in dictionary in given order because the ask is to print either of the exhaustive combinations\n",
    "    if i in string: # word found in the string\n",
    "        words.append(i)\n",
    "        string = string[:string.find(i)] + string[string.find(i)+len(i):]\n",
    "\n",
    "print (\"Words present in the string \", buff, \": \",words)         "
   ]
  },
  {
   "cell_type": "markdown",
   "metadata": {},
   "source": [
    "-----"
   ]
  },
  {
   "cell_type": "markdown",
   "metadata": {},
   "source": [
    "# Day 23\n",
    "\n",
    "This problem was asked by Google.\n",
    "\n",
    "You are given an M by N matrix consisting of booleans that represents a board. Each True boolean represents a wall. Each False boolean represents a tile you can walk on.\n",
    "\n",
    "Given this matrix, a start coordinate, and an end coordinate, return the minimum number of steps required to reach the end coordinate from the start. If there is no possible path, then return null. You can move up, left, down, and right. You cannot move through walls. You cannot wrap around the edges of the board.\n",
    "\n",
    "For example, given the following board:\n",
    "\n",
    "[[f, f, f, f],\n",
    "\n",
    "[t, t, f, t],\n",
    "\n",
    "[f, f, f, f],\n",
    "\n",
    "[f, f, f, f]]\n",
    "\n",
    "and start = (3, 0) (bottom left) and end = (0, 0) (top left), the minimum number of steps required to reach the end is 7, since we would need to go through (1, 2) because there is a wall everywhere else on the second row."
   ]
  },
  {
   "cell_type": "code",
   "execution_count": null,
   "metadata": {},
   "outputs": [],
   "source": [
    "map = [[False, False, False, False], \n",
    "       [True, True, False, True],\n",
    "       [False, False, False, False], \n",
    "       [False, False, False, False]]\n",
    "\n",
    "def find_route(map, start, end):\n",
    "    \n",
    "    coords = [(index_r, index_c) for index_r, row in enumerate(map)  \n",
    "              for index_c, element in enumerate(row) if not element] # locations where the values are false ie the path\n",
    "    \n",
    "    current_distance = 0\n",
    "    distances = [[None for col in range(len(map[0]))] for row in range(len(map))] # Distance matrix\n",
    "    distances[start[0]][start[1]] = 0 #initial starting position\n",
    "    \n",
    "    \n",
    "    while True:\n",
    "        wavefront = [coord for coord in coords if distances[coord[0]][coord[1]] == current_distance] #identifying the \n",
    "        print (wavefront)\n",
    "        if not wavefront:\n",
    "            break\n",
    "        current_distance += 1\n",
    "        for node in wavefront:\n",
    "            neighbours = [coord for coord in coords if (abs(node[0] - coord[0]) + abs(node[1] - coord[1])) == 1]\n",
    "            for n in neighbours:\n",
    "                if distances[n[0]][n[1]] is None:\n",
    "                    distances[n[0]][n[1]] = current_distance\n",
    "    return distances[end[0]][end[1]]\n",
    "\n",
    "find_route(map, (3, 0), (0, 0))"
   ]
  },
  {
   "cell_type": "markdown",
   "metadata": {},
   "source": [
    "# Day 24\n",
    "\n",
    "This problem was asked by Google.\n",
    "\n",
    "Implement locking in a binary tree. A binary tree node can be locked or unlocked only if all of its descendants or ancestors are not locked.\n",
    "\n",
    "Design a binary tree node class with the following methods:\n",
    "\n",
    "- is_locked, which returns whether the node is locked\n",
    "\n",
    "- lock, which attempts to lock the node. If it cannot be locked, then it should return false. Otherwise, it should lock it and return true.\n",
    "\n",
    "- unlock, which unlocks the node. If it cannot be unlocked, then it should return false. Otherwise, it should unlock it and return true.\n",
    "\n",
    "You may augment the node to add parent pointers or any other property you would like. You may assume the class is used in a single-threaded program, so there is no need for actual locks or mutexes. Each method should run in O(h), where h is the height of the tree."
   ]
  },
  {
   "cell_type": "code",
   "execution_count": null,
   "metadata": {},
   "outputs": [],
   "source": [
    "\n",
    "\n",
    "class LockingBinaryTreeNode(object):\n",
    "\n",
    "    def __init__(self, p, l=None, r=None):\n",
    "        self.left = l\n",
    "        self.right = r\n",
    "        self.parent = p\n",
    "        self.lock = False\n",
    "        \n",
    "    def is_locked(self):\n",
    "        return self.lock\n",
    "    \n",
    "    def can_lock(self):\n",
    "        walk_up = self\n",
    "        while walk_up:\n",
    "            if walk_up.lock:\n",
    "                return False\n",
    "            walk_up = walk_up.parent\n",
    "        return self.recursive_walk_down(self.left) and self.recursive_walk_down(self.right)\n",
    "\n",
    "    @staticmethod\n",
    "    def recursive_walk_down(node):\n",
    "\n",
    "        if node is None:\n",
    "            return True\n",
    "\n",
    "        if node.lock:\n",
    "            return False\n",
    "\n",
    "        return LockingBinaryTreeNode.recursive_walk_down(node.left) and \\\n",
    "               LockingBinaryTreeNode.recursive_walk_down(node.right)\n",
    "\n",
    "    def set_lock_state(self, lock_state):\n",
    "        success = self.can_lock()\n",
    "        if success:\n",
    "            self.lock = lock_state\n",
    "        return success\n",
    "\n",
    "    def lock(self):\n",
    "        return self.set_lock_state(True)\n",
    "\n",
    "    def unlock(self):\n",
    "        return self.set_lock_state(False)"
   ]
  },
  {
   "cell_type": "markdown",
   "metadata": {},
   "source": [
    "# Day 25\n",
    "\n",
    "This problem was asked by Facebook.\n",
    "\n",
    "Implement regular expression matching with the following special characters:\n",
    "\n",
    ". (period) which matches any single character\n",
    "\n",
    "* (asterisk) which matches zero or more of the preceding element\n",
    "\n",
    "That is, implement a function that takes in a string and a valid regular expression and returns whether or not the string matches the regular expression.\n",
    "\n",
    "For example, given the regular expression \"ra.\" and the string \"ray\", your function should return true. The same regular expression on the string \"raymond\" should return false.\n",
    "\n",
    "Given the regular expression \".*at\" and the string \"chat\", your function should return true. The same regular expression on the string \"chats\" should return false."
   ]
  },
  {
   "cell_type": "code",
   "execution_count": null,
   "metadata": {},
   "outputs": [],
   "source": [
    "# exp = input ()\n",
    "# string = input()\n",
    "# buff = string\n",
    "\n",
    "def re(exp, string):\n",
    "\n",
    "    while exp and string:\n",
    "        print (exp, string)        \n",
    "        if len(exp) >= 2 and exp[1] == '*':\n",
    "            for i in range(len(string)):\n",
    "                if re(''.join(exp[0] * i) + exp[2:], string):\n",
    "                    return True\n",
    "            return False\n",
    "        else:\n",
    "            if exp[0] != string[0] and exp[0] != '.':\n",
    "                print ('found')\n",
    "                return False\n",
    "        \n",
    "\n",
    "        exp, string = exp [1:], string [1:]\n",
    "     \n",
    "    if not string and not exp:\n",
    "        return True\n",
    "        \n",
    "    "
   ]
  },
  {
   "cell_type": "code",
   "execution_count": null,
   "metadata": {},
   "outputs": [],
   "source": [
    "re('ra.*d', 'raymond')"
   ]
  },
  {
   "cell_type": "markdown",
   "metadata": {},
   "source": [
    "-----"
   ]
  },
  {
   "cell_type": "markdown",
   "metadata": {},
   "source": [
    "# Day 26\n",
    "\n",
    "This problem was asked by Google.\n",
    "\n",
    "Given a singly linked list and an integer k, remove the kth last element from the list. k is guaranteed to be smaller than the length of the list.\n",
    "\n",
    "The list is very long, so making more than one pass is prohibitively expensive.\n",
    "\n",
    "Do this in constant space and in one pass.\n",
    "\n",
    "#incomplete"
   ]
  },
  {
   "cell_type": "code",
   "execution_count": null,
   "metadata": {},
   "outputs": [],
   "source": [
    "class node(object):\n",
    "    \n",
    "    def __init__(self, val = None, nex = None):\n",
    "        self.val = val\n",
    "        self.next = nex\n",
    "        \n",
    "    def add(self, a):\n",
    "        e = self\n",
    "        while e.val is not None:\n",
    "            e = e.next\n",
    "        \n",
    "        e = node(a[0])\n",
    "        for i in a[1:]:\n",
    "            e.next = node(i, None)\n",
    "            e.next = e.next\n",
    "            print(i)\n",
    "\n",
    "    def traverse(self):\n",
    "        a = self\n",
    "        print (a.val)\n",
    "        a = a.next\n",
    "        \n",
    "\n",
    "        \n",
    "        "
   ]
  },
  {
   "cell_type": "code",
   "execution_count": null,
   "metadata": {},
   "outputs": [],
   "source": [
    "a = node()\n",
    "a.add(list(range(10)))\n",
    "\n",
    "a.traverse()"
   ]
  },
  {
   "cell_type": "markdown",
   "metadata": {},
   "source": [
    "-----"
   ]
  },
  {
   "cell_type": "markdown",
   "metadata": {},
   "source": [
    "# Day 27\n",
    "\n",
    "This problem was asked by Facebook.\n",
    "\n",
    "Given a string of round, curly, and square open and closing brackets, return whether the brackets are balanced (well-formed).\n",
    "\n",
    "For example, given the string \"([])[]({})\", you should return true.\n",
    "\n",
    "Given the string \"([)]\" or \"((()\", you should return false."
   ]
  },
  {
   "cell_type": "code",
   "execution_count": null,
   "metadata": {},
   "outputs": [],
   "source": [
    "string = \"([])[]({(})\"\n",
    "\n",
    "brackets = {\")\":\"(\", \"}\":\"{\", \"]\":\"[\"} # dictionary to lookup the corresponding opening brackets"
   ]
  },
  {
   "cell_type": "code",
   "execution_count": null,
   "metadata": {},
   "outputs": [],
   "source": [
    "def check(string):\n",
    "    stack = [] # used to store the brackets \n",
    "    for i in string:\n",
    "        if i in '({[':\n",
    "            stack.append(i) # stored in the order they are coming in and popped from the end\n",
    "        elif i in ']})':\n",
    "            if brackets[i] not in stack[-1:]: # check corresponding opening bracket with that in the stack\n",
    "                return False\n",
    "            stack = stack[:-1]\n",
    "        else:\n",
    "            pass\n",
    "    return True\n",
    "        "
   ]
  },
  {
   "cell_type": "code",
   "execution_count": null,
   "metadata": {},
   "outputs": [],
   "source": [
    "check(string)"
   ]
  },
  {
   "cell_type": "markdown",
   "metadata": {},
   "source": [
    "-----"
   ]
  },
  {
   "cell_type": "markdown",
   "metadata": {},
   "source": [
    "# Day 28\n",
    "This problem was asked by Palantir.\n",
    "\n",
    "Write an algorithm to justify text. Given a sequence of words and an integer line length k, return a list of strings which represents each line, fully justified.\n",
    "\n",
    "More specifically, you should have as many words as possible in each line. There should be at least one space between each word. Pad extra spaces when necessary so that each line has exactly length k. Spaces should be distributed as equally as possible, with the extra spaces, if any, distributed starting from the left.\n",
    "\n",
    "If you can only fit one word on a line, then you should pad the right-hand side with spaces.\n",
    "\n",
    "Each word is guaranteed not to be longer than k.\n",
    "\n",
    "For example, given the list of words [\"the\", \"quick\", \"brown\", \"fox\", \"jumps\", \"over\", \"the\", \"lazy\", \"dog\"] and k = 16, you should return the following:\n",
    "\n",
    "[\"the  quick brown\", # 1 extra space on the left\n",
    "\"fox  jumps  over\", # 2 extra spaces distributed evenly\n",
    "\"the   lazy   dog\"] # 4 extra spaces distributed evenly\n"
   ]
  },
  {
   "cell_type": "code",
   "execution_count": null,
   "metadata": {},
   "outputs": [],
   "source": [
    "string = [\"the\", \"quick\", \"brown\", \"fox\", \"jumps\", \"over\", \"the\", \"lazy\", \"dog\"]\n",
    "s = ' '.join(string) # one long string\n",
    "length  = 16 # line lenght\n",
    "\n",
    "\n",
    "def split_to_lines(s):\n",
    "    out = []\n",
    "    while len(s) > length:\n",
    "        end = s.rindex(\" \",0,16)\n",
    "        out.append(s[:end]) \n",
    "        s = s[end:].lstrip()\n",
    "    out.append(s)\n",
    "    return out\n",
    "\n",
    "mat = split_to_lines(s)\n",
    "new_mat = []\n",
    "\n",
    "for h, i in enumerate(mat): # adding the spaces\n",
    "    missing_char = length - len(i)\n",
    "    no_of_spaces = i.count(' ')\n",
    "    \n",
    "    if not missing_char % no_of_spaces:\n",
    "        new_mat.append(i.replace(' ', ' ' * ((missing_char//no_of_spaces)+1)))\n",
    "    else:\n",
    "        start = 0\n",
    "        while missing_char > 0:\n",
    "            start = i.find(' ',start)-1\n",
    "            new_mat.append(i[:start]+ i[start:].replace(' ','  ',1))\n",
    "            missing_char -= 1\n",
    "        \n",
    "    \n",
    "def check(o):\n",
    "    print (\"test\")\n",
    "    for i in o:\n",
    "        print (i, \":\", len(i))"
   ]
  },
  {
   "cell_type": "code",
   "execution_count": null,
   "metadata": {},
   "outputs": [],
   "source": [
    "check(new_mat)"
   ]
  },
  {
   "cell_type": "markdown",
   "metadata": {},
   "source": [
    "-----"
   ]
  },
  {
   "cell_type": "markdown",
   "metadata": {},
   "source": [
    "# Day 29\n",
    "\n",
    "This problem was asked by Amazon.\n",
    "\n",
    "Run-length encoding is a fast and simple method of encoding strings. The basic idea is to represent repeated successive characters as a single count and character. For example, the string \"AAAABBBCCDAA\" would be encoded as \"4A3B2C1D2A\".\n",
    "\n",
    "Implement run-length encoding and decoding. You can assume the string to be encoded have no digits and consists solely of alphabetic characters. You can assume the string to be decoded is valid."
   ]
  },
  {
   "cell_type": "code",
   "execution_count": null,
   "metadata": {},
   "outputs": [],
   "source": [
    "string = \"AAAABBBCCDAA\"\n",
    "\n",
    "def encode(string):\n",
    "    out = [] # holds output\n",
    "    while string: #characters still left to encode\n",
    "        count = 1\n",
    "        i = string[0] \n",
    "        j = 1\n",
    "        while j < len(string) and string[j] == i: #same characters\n",
    "            count += 1\n",
    "            j += 1\n",
    "        out.append(str(count)+str(i))\n",
    "        string = string[count:]\n",
    "    out = ''.join(out)\n",
    "    print (out)\n",
    "            \n",
    "        "
   ]
  },
  {
   "cell_type": "code",
   "execution_count": null,
   "metadata": {},
   "outputs": [],
   "source": [
    "encode(string)"
   ]
  },
  {
   "cell_type": "markdown",
   "metadata": {},
   "source": [
    "-----"
   ]
  },
  {
   "cell_type": "markdown",
   "metadata": {},
   "source": [
    "# Day 30\n",
    "\n",
    "This problem was asked by Facebook.\n",
    "\n",
    "You are given an array of non-negative integers that represents a two-dimensional elevation map where each element is unit-width wall and the integer is the height. Suppose it will rain and all spots between two walls get filled up.\n",
    "\n",
    "Compute how many units of water remain trapped on the map in O(N) time and O(1) space.\n",
    "\n",
    "For example, given the input [2, 1, 2], we can hold 1 unit of water in the middle.\n",
    "\n",
    "Given the input [3, 0, 1, 3, 0, 5], we can hold 3 units in the first index, 2 in the second, and 3 in the fourth index (we cannot hold 5 since it would run off to the left), so we can trap 8 units of water."
   ]
  },
  {
   "cell_type": "code",
   "execution_count": null,
   "metadata": {},
   "outputs": [],
   "source": [
    "# area is area of the largest rectangle formed by the 2 largest sides - the wall area\n",
    "\n",
    "edges = [3, 0, 1, 3, 0, 5]\n",
    "# edges = [2,1,2]\n",
    "\n",
    "def cal_area(list_d):\n",
    "    a = 0\n",
    "    ht = min(list_d[0],list_d[-1])\n",
    "    for i in list_d[1:-1]:\n",
    "        a += ht - i\n",
    "    print(\"area for \", list_d, a)\n",
    "    return a\n",
    "\n",
    "def find_area(edges, area):\n",
    "#     print(edges, area)\n",
    "    if len(edges) < 3: # not enough space to hold liquid\n",
    "        return 0\n",
    "    sorted_edges = sorted([(e, i) for i, e in enumerate(edges)], key = lambda x:x[0], reverse = True) #sorting by size of edge while maintaining edge position\n",
    "    largest = sorted_edges[0]\n",
    "    s_largest = max([(e, i) for (e,i) in sorted_edges[1:] if e == sorted_edges[1][0]],key = lambda x : largest[1] - x[1]) #second largest but also the most distant from the largest in case there are multiple of same size\n",
    "    \n",
    "    start , end = min(largest[1],s_largest[1]), max(largest[1],s_largest[1]) # bounds of liq containing walls\n",
    "    \n",
    "    area += cal_area(edges[start:end+1])\n",
    "    \n",
    "    area += find_area(list(edges[:start])+list(edges[end:]), area)\n",
    "    \n",
    "    return area\n",
    "    \n",
    "find_area(edges, 0)\n",
    "\n",
    "\n"
   ]
  },
  {
   "cell_type": "code",
   "execution_count": null,
   "metadata": {},
   "outputs": [],
   "source": [
    "# smarter implementation\n",
    "\n",
    "# area = list_edges[0]\n",
    "\n",
    "list_edges = [2,1,2]\n",
    "list_edges = [5, 0, 1, 3, 0, 5]\n",
    "\n",
    "sorted_edges = sorted([(e,i) for i,e in enumerate(list_edges)], reverse = True)\n",
    "if \n",
    "# print(sorted_edges)\n",
    "\n",
    "def find_area(list_edges):\n",
    "    a = 0\n",
    "    left_edge = 0\n",
    "    right_edge = 0\n",
    "    buff = []\n",
    "\n",
    "    for i in list_edges:\n",
    "        if not left_edge:\n",
    "            left_edge = i\n",
    "        elif i >= left_edge:\n",
    "            a += sum([left_edge-i for i, left_edge in buff])\n",
    "            left_edge = i \n",
    "            buff = []\n",
    "        elif i < left_edge:\n",
    "            buff.append((i, left_edge))\n",
    "\n",
    "        print (left_edge, buff, a)\n",
    "    if buff:\n",
    "        list_edges.reverse()\n",
    "        return find_area(list_edges)\n",
    "    return a\n",
    "    \n",
    "find_area(list_edges)    \n",
    "# print (buff, a)    "
   ]
  },
  {
   "cell_type": "code",
   "execution_count": null,
   "metadata": {},
   "outputs": [],
   "source": [
    "sorted_edges"
   ]
  },
  {
   "cell_type": "markdown",
   "metadata": {},
   "source": [
    "# Day 31\n",
    "\n",
    "This problem was asked by Google.\n",
    "\n",
    "The edit distance between two strings refers to the minimum number of character insertions, deletions, and substitutions required to change one string to the other. For example, the edit distance between “kitten” and “sitting” is three: substitute the “k” for “s”, substitute the “e” for “i”, and append a “g”.\n",
    "\n",
    "Given two strings, compute the edit distance between them."
   ]
  },
  {
   "cell_type": "code",
   "execution_count": null,
   "metadata": {},
   "outputs": [],
   "source": [
    "a = 'kitten'\n",
    "b = 'sitting'\n",
    "\n",
    "def distance (a, b):\n",
    "    print(\"distance between\", a , b)\n",
    "    c = 0\n",
    "\n",
    "    for i in range(len(b)):\n",
    "        \n",
    "        if i >= len(a): #longer than the given string\n",
    "            print(\"append\", b[i])\n",
    "            c += 1\n",
    "        \n",
    "        elif a[i] != b[i]:\n",
    "            print(a[i],b[i])\n",
    "        \n",
    "            if len(a)>len(b) and a[i+1] == b[i]:\n",
    "                print(\"delete \", a[i])\n",
    "                c += 1\n",
    "            \n",
    "            elif len(a) == len(b) and a[i+1] == b[i+1]:\n",
    "                print(\"substitute\", a[i], \"with \", b[i])\n",
    "                c += 1\n",
    "\n",
    "    print(\"distance between\", a , b, \"is: \",c)\n",
    "\n",
    "distance(a, b)\n",
    "\n",
    "\n",
    "distance (\"aaaaaaaaa\",\"aaaaaddda\")\n",
    "distance (\"a\",\"cat\")"
   ]
  },
  {
   "cell_type": "markdown",
   "metadata": {},
   "source": [
    "-----"
   ]
  },
  {
   "cell_type": "markdown",
   "metadata": {},
   "source": [
    "# Day 32\n",
    "\n",
    "This problem was asked by Jane Street.\n",
    "\n",
    "Suppose you are given a table of currency exchange rates, represented as a 2D array. Determine whether there is a possible arbitrage: that is, whether there is some sequence of trades you can make, starting with some amount A of any currency, so that you can end up with some amount greater than A of that currency.\n",
    "\n",
    "There are no transaction costs and you can trade fractional quantities.\n",
    "\n",
    "#new #graphs #Bellman-Ford\n",
    "\n",
    "#incomplete"
   ]
  },
  {
   "cell_type": "code",
   "execution_count": null,
   "metadata": {},
   "outputs": [],
   "source": [
    "# graphs used to hold the conversions\n",
    "# using bellman-ford algo to cal min distance between two nodes.\n",
    "# -------------\n",
    "# If we take the negative log of the edge weights, the problem of \n",
    "# finding a cumulative product that’s greater than 1 turns into \n",
    "# the problem of finding a negative sum cycle!\n",
    "\n",
    "# For example, say we have a weighted edge path a -> b -> c -> d. \n",
    "# Since we want to see if a * b * c * d > 1, we’ll take the \n",
    "# negative log of each edge:\n",
    "\n",
    "# -log(a) -> -log(b) -> -log(c) -> -log(d).\n",
    "\n",
    "# The total cost of this path will then be\n",
    "\n",
    "# -(log(a) + log(b) + log(c) + log(d)) = -log(a * b * c * d).\n",
    "\n",
    "# -log(x) < 0 if x is greater than 1, so that’s why if we have a \n",
    "# negative cost cycle, if means that the product of the weighted \n",
    "# edges is bigger than 1.\n",
    "    \n",
    "def gen_graph(table):\n",
    "    \n",
    "    for i in table:\n",
    "        \n",
    "\n",
    "    pass # for now\n",
    "    graph = {\n",
    "        'a': {'b': -1, 'c':  4},\n",
    "        'b': {'c':  3, 'd':  2, 'e':  2},\n",
    "        'c': {},\n",
    "        'd': {'b':  1, 'c':  5},\n",
    "        'e': {'d': -3}\n",
    "        }"
   ]
  },
  {
   "cell_type": "code",
   "execution_count": 325,
   "metadata": {},
   "outputs": [],
   "source": [
    "from math import log\n",
    "\n",
    "def arbitrage(table):\n",
    "    transformed_graph = [[-log(edge) for edge in row] for row in graph]\n",
    "\n",
    "    # Pick any source vertex -- we can run Bellman-Ford from any vertex and\n",
    "    # get the right result\n",
    "    source = 0\n",
    "    n = len(transformed_graph)\n",
    "    min_dist = [float('inf')] * n\n",
    "\n",
    "    min_dist[source] = 0\n",
    "\n",
    "    # Relax edges |V - 1| times\n",
    "    for i in range(n - 1):\n",
    "        for v in range(n):\n",
    "            for w in range(n):\n",
    "                if min_dist[w] > min_dist[v] + transformed_graph[v][w]:\n",
    "                    min_dist[w] = min_dist[v] + transformed_graph[v][w]\n",
    "\n",
    "    # If we can still relax edges, then we have a negative cycle\n",
    "    for v in range(n):\n",
    "        for w in range(n):\n",
    "            if min_dist[w] > min_dist[v] + transformed_graph[v][w]:\n",
    "                return True\n",
    "\n",
    "    return False\n"
   ]
  },
  {
   "cell_type": "markdown",
   "metadata": {},
   "source": [
    "# Day 33\n",
    "\n",
    "This problem was asked by Microsoft.\n",
    "\n",
    "Compute the running median of a sequence of numbers. That is, given a stream of numbers, print out the median of the list so far on each new element.\n",
    "\n",
    "Recall that the median of an even-numbered list is the average of the two middle numbers.\n",
    "\n",
    "For example, given the sequence [2, 1, 5, 7, 2, 0, 5], your algorithm should print out:\n",
    "\n",
    "2\n",
    "\n",
    "1.5\n",
    "\n",
    "2\n",
    "\n",
    "3.5\n",
    "\n",
    "2\n",
    "\n",
    "2\n",
    "\n",
    "2"
   ]
  },
  {
   "cell_type": "code",
   "execution_count": null,
   "metadata": {},
   "outputs": [],
   "source": [
    "from statistics import median, mean\n",
    "\n",
    "list = [2, 1, 5, 7, 2, 0, 5]\n",
    "buff = []\n",
    "\n",
    "for i, l in enumerate(list):\n",
    "    buff.append(l)\n",
    "    buff.sort()\n",
    "    if i % 2 == 1: #even elements\n",
    "        print(mean([buff[i//2], buff[(i//2)+1]]))\n",
    "    else:\n",
    "        print(buff[i//2])"
   ]
  },
  {
   "cell_type": "markdown",
   "metadata": {},
   "source": [
    "------"
   ]
  },
  {
   "cell_type": "markdown",
   "metadata": {},
   "source": [
    "# Day 34\n",
    "\n",
    "\n",
    "Good morning. Here's your coding interview problem for today.\n",
    "\n",
    "This problem was asked by Quora.\n",
    "\n",
    "Given a string, find the palindrome that can be made by inserting the fewest number of characters as possible anywhere in the word. If there is more than one palindrome of minimum length that can be made, return the lexicographically earliest one (the first one alphabetically).\n",
    "\n",
    "For example, given the string \"race\", you should return \"ecarace\", since we can add three letters to it (which is the smallest amount to make a palindrome). There are seven other palindromes that can be made from \"race\" by adding three letters, but \"ecarace\" comes first alphabetically.\n",
    "\n",
    "#new #Manacher's Algorithm\n",
    "\n",
    "#incomplete"
   ]
  },
  {
   "cell_type": "code",
   "execution_count": null,
   "metadata": {},
   "outputs": [],
   "source": [
    "def find_additions(string): #finds the number of letters to be added\n",
    "    add = 0\n",
    "    for i in range(len(string)):\n",
    "        sub_string = string[i:]\n",
    "        if sub_string == sub_string[::-1]:\n",
    "            break \n",
    "        else:\n",
    "            add+=1\n",
    "    return add\n",
    "\n",
    "def find_palin(string, add):\n",
    "    for _ in range (len(string)-add,0,-1):\n",
    "        pass\n",
    "    \n",
    "if __name__ == \"__main__\":\n",
    "    string = \"racer\"\n",
    "    string = \"abaccddccefe\"\n",
    "#     string = input()\n",
    "    l = len(string)\n",
    "\n",
    "    add = find_additions(string)\n",
    "    \n",
    "#     s = find_palin(string,add)"
   ]
  },
  {
   "cell_type": "code",
   "execution_count": null,
   "metadata": {},
   "outputs": [],
   "source": [
    "add"
   ]
  },
  {
   "cell_type": "markdown",
   "metadata": {},
   "source": [
    "--------"
   ]
  },
  {
   "cell_type": "markdown",
   "metadata": {},
   "source": [
    "# Day 35\n",
    "\n",
    "This problem was asked by Google.\n",
    "\n",
    "Given an array of strictly the characters 'R', 'G', and 'B', segregate the values of the array so that all the Rs come first, the Gs come second, and the Bs come last. You can only swap elements of the array.\n",
    "\n",
    "Do this in linear time and in-place.\n",
    "\n",
    "For example, given the array ['G', 'B', 'R', 'R', 'B', 'R', 'G'], it should become ['R', 'R', 'R', 'G', 'G', 'B', 'B'].\n",
    "\n",
    "#incomplete #check"
   ]
  },
  {
   "cell_type": "code",
   "execution_count": 4,
   "metadata": {},
   "outputs": [
    {
     "name": "stdout",
     "output_type": "stream",
     "text": [
      "['G', 'B', 'R', 'R', 'B', 'R', 'G']\n",
      "['G', 'B', 'R', 'R', 'B', 'R', 'G'] 0 G\n",
      "swap. 0 5\n",
      "['R', 'B', 'R', 'R', 'B', 'G', 'G']\n",
      "['R', 'B', 'R', 'R', 'B', 'G', 'G'] 1 B\n",
      "swap. 1 6\n",
      "['R', 'G', 'R', 'R', 'B', 'G', 'B']\n",
      "['R', 'G', 'R', 'R', 'B', 'G', 'B'] 2 R\n",
      "['R', 'G', 'R', 'R', 'B', 'G', 'B']\n",
      "['R', 'G', 'R', 'R', 'B', 'G', 'B'] 3 R\n",
      "swap. 3 1\n",
      "['R', 'R', 'R', 'G', 'B', 'G', 'B']\n",
      "['R', 'R', 'R', 'G', 'B', 'G', 'B'] 4 B\n",
      "swap. 4 5\n",
      "['R', 'R', 'R', 'G', 'G', 'B', 'B']\n",
      "['R', 'R', 'R', 'G', 'G', 'B', 'B'] 5 B\n"
     ]
    }
   ],
   "source": [
    "l = ['G', 'B', 'R', 'R', 'B', 'R', 'G']\n",
    "# l = ['G', 'G', 'G', 'G', 'B', 'R', 'G']\n",
    "# l = ['G', 'B', 'R', 'R', 'B', 'G', 'G']\n",
    "# l = ['G', 'B', 'G','B']\n",
    "start = 0\n",
    "end = len(l)-1 \n",
    "\n",
    "print(l)\n",
    "\n",
    "def swap (i , j, start = start):\n",
    "    print(\"swap.\",i,j)\n",
    "#     if l[j] == 'R':\n",
    "#         swap (j, start)    \n",
    "#     if l[j] == 'B':\n",
    "#         swap (j, end)    \n",
    "    temp = l[i]\n",
    "    l[i] = l[j]\n",
    "    l[j] = temp\n",
    "\n",
    "    \n",
    "for i, c in enumerate(l):\n",
    "    print(l,i,c)  \n",
    "#     print(\".\", start, end)\n",
    "    if i > end :\n",
    "        break\n",
    "    if c == 'R':\n",
    "        if l[start] != 'R':\n",
    "            swap (i, start)\n",
    "        start  += 1\n",
    "    elif c == 'B':\n",
    "        if l[end] != 'B':\n",
    "            swap(i, end)\n",
    "        end -= 1\n",
    "    elif c == 'G':\n",
    "        swap(i, end-1)\n",
    "    print(l)\n",
    "    \n",
    "    "
   ]
  },
  {
   "cell_type": "markdown",
   "metadata": {},
   "source": [
    "----"
   ]
  },
  {
   "cell_type": "markdown",
   "metadata": {},
   "source": [
    "Backtracking reduces the search space since we no longer have to follow down any paths we know are invalid. This is called pruning. We must be able to test partial solutions: for example, we can't find a global optimum using backtracking, since we have no idea if the solution we're currently on can lead to it or not. But we can, for example, solve Sudoku using backtracking. We can know immediately if our solution so far is invalid by testing if two of the same number appear in the same row, column, or square.\n",
    "\n",
    "Let's go through several examples of problems that can be nicely solved with backtracking to drill this concept down.\n",
    "\n",
    "1. The N queens puzzle\n",
    "The N queens puzzle is the classic backtracking problem. The question is this:\n",
    "\n",
    "You have an N by N board. Write a function that returns the number of possible arrangements of the board where N queens can be placed on the board without threatening each other, i.e. no two queens share the same row, column, or diagonal.\n",
    "\n",
    "Before continuing, you should take some time to try to solve it on your own!\n",
    "\n",
    "First off, let's describe the brute force solution to this problem, which means trying every single combination of N queens in each of N * N spots. That's n2 choose n, which is painfully slow. We can immediately improve the runtime of this algorithm by noticing that there's no point in ever placing two queens on the same row (or column), so we really only need to have one queen per row. Now, using brute force, we need to iterate over each row and over each spot on each row. Since we have N rows and N columns, our runtime will be O(NN). That's still hella slow, though.\n",
    "\n",
    "It's helpful to ask ourselves three questions to determine whether we can apply backtracking to a problem.\n",
    "\n",
    "Can we construct a partial solution?\n",
    "Yes, we can tentatively place queens on the board.\n",
    "\n",
    "Can we verify if the partial solution is invalid?\n",
    "Yes, we can check a solution is invalid if two queens threaten each other. To speed this up, we can assume that all queens already placed so far do not threaten each other, so we only need to check if the last queen we added attacks any other queen.\n",
    "\n",
    "Can we verify if the solution is complete?\n",
    "Yes, we know a solution is complete if all N queens have been placed.\n",
    "\n",
    "Now that we are confident that we can use backtracking, let's apply it to this problem. We'll loop through the first row and try placing a queen in column 0..N, and then the second, and so on up until N. What differs here from brute force is that we'll be adding the queens incrementally instead of all at once.\n",
    "\n",
    "We'll create an is_valid function that will check the board on each incremental addition. is_valid will look at the last queen placed and see if any other queen can threaten it. If so, then we prune the branch since there's no point pursuing it. Otherwise, we'll recursively call ourselves with the new incremental solution. We only stop once we hit the base case: we've placed all queens on the board already.\n",
    "\n",
    "We can represent our board as just a 1D array of integers from 1..N, where the value at the index i that represents the column the queen on row i is on. Since we're working incrementally, we don't even need to have the whole board initialized. We can just append and pop as we go down the stack.\n",
    "\n",
    "Here's the actual code in Python:\n",
    "\n",
    "def n_queens(n, board=[]):\n",
    "    if n == len(board):\n",
    "        return 1\n",
    "\n",
    "    count = 0\n",
    "    for col in range(n):\n",
    "        board.append(col)\n",
    "        if is_valid(board):\n",
    "            count += n_queens(n, board)\n",
    "        board.pop()\n",
    "    return count\n",
    "\n",
    "def is_valid(board):\n",
    "    current_queen_row, current_queen_col = len(board) - 1, board[-1]\n",
    "    # Check if any queens can attack the last queen.\n",
    "    for row, col in enumerate(board[:-1]):\n",
    "        diff = abs(current_queen_col - col)\n",
    "        if diff == 0 or diff == current_queen_row - row:\n",
    "            return False\n",
    "    return True\n",
    "Let's try it out.\n",
    "\n",
    "for i in range(10):\n",
    "    print(n_queens(i))\n",
    "1\n",
    "1\n",
    "0\n",
    "0\n",
    "2\n",
    "10\n",
    "4\n",
    "40\n",
    "92\n",
    "352\n",
    "Looks correct, according to OEIS!\n",
    "\n",
    "2. Flight itinerary problem\n",
    "The flight itinerary problem is as follows:\n",
    "\n",
    "Given an unordered list of flights taken by someone, each represented as (origin, destination) pairs, and a starting airport, compute the person's itinerary. If no such itinerary exists, return null. All flights must be used in the itinerary.\n",
    "\n",
    "For example, given the following list of flights:\n",
    "\n",
    "HNL ➔ AKL\n",
    "YUL ➔ ORD\n",
    "ORD ➔ SFO\n",
    "SFO ➔ HNL\n",
    "and starting airport YUL, you should return YUL ➔ ORD ➔ SFO ➔ HNL ➔ AKL. (This also happens to be the actual itinerary for the trip I'm about to take.)\n",
    "\n",
    "You should take some time to try to solve it on your own! Notice that a greedy solution won't work, since it's possible to have a cycle in the graph.\n",
    "\n",
    "Let's again describe the brute force solution to this problem, which is to try every permutation of flights and verify that it's a valid itinerary. That would be O(n!). Now let's ask ourselves if we can improve this with backtracking.\n",
    "\n",
    "Can we construct a partial solution?\n",
    "Yes, we can build an (incomplete) itinerary and extend it by adding more flights to the end.\n",
    "\n",
    "Can we verify if the partial solution is invalid?\n",
    "Yes, we can check a solution is invalid if 1) there are no flights leaving from our last destination and 2) there are still flights remaining that can be taken. Since we must use all flights, this means we're at a dead end.\n",
    "\n",
    "Can we verify if the solution is complete?\n",
    "Yes, we can check if a solution is complete if our itinerary uses all the flights.\n",
    "\n",
    "Let's use this to construct our solution:\n",
    "\n",
    "def get_itinerary(flights, current_itinerary):\n",
    "    # If we've used up all the flights, we're done\n",
    "    if not flights:\n",
    "        return current_itinerary\n",
    "    last_stop = current_itinerary[-1]\n",
    "    for i, (origin, destination) in enumerate(flights):\n",
    "        # Make a copy of flights without the current one to mark it as used\n",
    "        flights_minus_current = flights[:i] + flights[i + 1:]\n",
    "        current_itinerary.append(destination)\n",
    "        if origin == last_stop:\n",
    "            return get_itinerary(flights_minus_current, current_itinerary)\n",
    "        current_itinerary.pop()\n",
    "    return None\n",
    "3. Sudoku\n",
    "Here's the problem: solve a well-posed sudoku puzzle.\n",
    "\n",
    "Let's try using backtracking:\n",
    "\n",
    "Can we construct a partial solution?\n",
    "Yes, we can fill in some portions of the board.\n",
    "\n",
    "Can we verify if the partial solution is invalid?\n",
    "Yes, we can check that the board is valid so far if there are no rows, columns, or squares that contain the same digit.\n",
    "\n",
    "Can we verify if the solution is complete?\n",
    "Yes, the solution is complete when the board has been filled up.\n",
    "\n",
    "Let's try to solve it using our template. We'll try filling each empty cell one by one, and backtrack once we hit an invalid state. That'll look something like this:\n",
    "\n",
    "EMPTY = 0\n",
    "\n",
    "def sudoku(board):\n",
    "    if is_complete(board):\n",
    "        return board\n",
    "\n",
    "    r, c = find_first_empty(board)\n",
    "    # set r, c to a val from 1 to 9\n",
    "    for i in range(1, 10):\n",
    "        board[r][c] = i\n",
    "        if valid_so_far(board):\n",
    "            result = sudoku(board)\n",
    "            if is_complete(result):\n",
    "                return result\n",
    "        board[r][c] = EMPTY\n",
    "    return board\n",
    "\n",
    "def is_complete(board):\n",
    "    return all(all(val is not EMPTY for val in row) for row in board)\n",
    "\n",
    "def find_first_empty(board):\n",
    "    for i, row in enumerate(board):\n",
    "        for j, val in enumerate(row):\n",
    "            if val == EMPTY:\n",
    "                return i, j\n",
    "    return False\n",
    "\n",
    "def valid_so_far(board):\n",
    "    if not rows_valid(board):\n",
    "        return False\n",
    "    if not cols_valid(board):\n",
    "        return False\n",
    "    if not blocks_valid(board):\n",
    "        return False\n",
    "    return True\n",
    "\n",
    "def rows_valid(board):\n",
    "    for row in board:\n",
    "        if duplicates(row):\n",
    "            return False\n",
    "    return True\n",
    "\n",
    "def cols_valid(board):\n",
    "    for j in range(len(board[0])):\n",
    "        if duplicates([board[i][j] for i in range(len(board))]):\n",
    "            return False\n",
    "    return True\n",
    "\n",
    "def blocks_valid(board):\n",
    "    for i in range(0, 9, 3):\n",
    "        for j in range(0, 9, 3):\n",
    "            block = []\n",
    "            for k in range(3):\n",
    "                for l in range(3):\n",
    "                    block.append(board[i + k][j + l])\n",
    "            if duplicates(block):\n",
    "                return False\n",
    "    return True\n",
    "\n",
    "def duplicates(arr):\n",
    "    c = {}\n",
    "    for val in arr:\n",
    "        if val in c and val is not EMPTY:\n",
    "            return True\n",
    "        c[val] = True\n",
    "    return False\n",
    "Best of luck!\n",
    "\n",
    "Lawrence"
   ]
  },
  {
   "cell_type": "markdown",
   "metadata": {},
   "source": [
    "# Day 36\n",
    "\n",
    "This problem was asked by Dropbox.\n",
    "\n",
    "Given the root to a binary search tree, find the second largest node in the tree.\n",
    "\n",
    "#incomplete\n"
   ]
  },
  {
   "cell_type": "code",
   "execution_count": 6,
   "metadata": {},
   "outputs": [],
   "source": [
    "# skipping tree formation\n",
    "\n",
    "# second largest is the second last element when traversed in order or the second element if traversed in reverse order\n",
    "\n",
    "class BST:\n",
    "    \n",
    "    def __init__(value = None, right = None, left = None):\n",
    "        \n",
    "        self.val = value\n",
    "        self.right = right\n",
    "        self.left = left\n",
    "\n",
    "    def inv_traverse(self):\n",
    "        if self.right:\n",
    "            inv_traverse(self.right)\n",
    "        elif self.left:\n",
    "            inv_traverse(self.right)"
   ]
  },
  {
   "cell_type": "markdown",
   "metadata": {},
   "source": [
    "----"
   ]
  },
  {
   "cell_type": "markdown",
   "metadata": {},
   "source": [
    "# Day 37\n",
    "\n",
    "This problem was asked by Google.\n",
    "\n",
    "The power set of a set is the set of all its subsets. Write a function that, given a set, generates its power set.\n",
    "\n",
    "For example, given the set {1, 2, 3}, it should return {{}, {1}, {2}, {3}, {1, 2}, {1, 3}, {2, 3}, {1, 2, 3}}.\n",
    "\n",
    "You may also use a list or array to represent a set."
   ]
  },
  {
   "cell_type": "code",
   "execution_count": 84,
   "metadata": {},
   "outputs": [
    {
     "name": "stdout",
     "output_type": "stream",
     "text": [
      "0 000\n",
      "1 001\n",
      "2 010\n",
      "3 011\n",
      "4 100\n",
      "5 101\n",
      "6 110\n",
      "7 111\n"
     ]
    }
   ],
   "source": [
    "# binary numbers till 2^len(set)\n",
    "\n",
    "set1 = {1 ,2, 3}\n",
    "l = len(set1)\n",
    "\n",
    "set_pow = []\n",
    "\n",
    "for i in range(2**l):\n",
    "    a = str(bin(i)).replace('0b','')\n",
    "    b = str(0) * (l - len(a)) + a\n",
    "    c = [int(x) for x in b]\n",
    "    print (i , b)\n",
    "    set_pow.append({d for d, s in zip(set1, c) if s})\n",
    "    \n"
   ]
  },
  {
   "cell_type": "code",
   "execution_count": 85,
   "metadata": {},
   "outputs": [
    {
     "data": {
      "text/plain": [
       "[set(), {3}, {2}, {2, 3}, {1}, {1, 3}, {1, 2}, {1, 2, 3}]"
      ]
     },
     "execution_count": 85,
     "metadata": {},
     "output_type": "execute_result"
    }
   ],
   "source": [
    "set_pow"
   ]
  },
  {
   "cell_type": "markdown",
   "metadata": {},
   "source": [
    "---"
   ]
  },
  {
   "cell_type": "markdown",
   "metadata": {},
   "source": [
    "# Day 38\n",
    "\n",
    "This problem was asked by Microsoft.\n",
    "\n",
    "You have an N by N board. Write a function that, given N, returns the number of possible arrangements of the board where N queens can be placed on the board without threatening each other, i.e. no two queens share the same row, column, or diagonal.\n",
    "\n"
   ]
  },
  {
   "cell_type": "code",
   "execution_count": 100,
   "metadata": {},
   "outputs": [
    {
     "name": "stdout",
     "output_type": "stream",
     "text": [
      "0 1\n",
      "1 1\n",
      "2 0\n",
      "3 0\n",
      "4 2\n",
      "5 10\n",
      "6 4\n",
      "7 40\n",
      "8 92\n",
      "9 352\n"
     ]
    }
   ],
   "source": [
    "# solved earlier in the email about backtracking\n",
    "# pasting same solution here\n",
    "\n",
    "def check_board(board): \n",
    "    current_queen_row, current_queen_col = len(board) - 1, board[-1]\n",
    "\n",
    "    # Check if any queens can attack the last queen.\n",
    "    for row, col in enumerate(board[:-1]):\n",
    "        diff = abs(current_queen_col - col)\n",
    "        if diff == 0 or diff == current_queen_row - row:\n",
    "            return False\n",
    "    return True\n",
    "def n_queens(n, board=[]): \n",
    "    if n == len(board): \n",
    "        return 1\n",
    "    count = 0\n",
    "    for col in range(n):\n",
    "        board.append(col)\n",
    "        if check_board(board):\n",
    "            count += n_queens(n, board)\n",
    "        board.pop()\n",
    "    return count\n",
    "    \n",
    "for i in range (10):\n",
    "    print(i , n_queens(i,[]) )"
   ]
  },
  {
   "cell_type": "markdown",
   "metadata": {},
   "source": [
    "---"
   ]
  },
  {
   "cell_type": "markdown",
   "metadata": {},
   "source": [
    "# Day 40\n",
    "\n",
    "This problem was asked by Dropbox.\n",
    "\n",
    "Conway's Game of Life takes place on an infinite two-dimensional board of square cells. Each cell is either dead or alive, and at each tick, the following rules apply:\n",
    "\n",
    "Any live cell with less than two live neighbours dies.\n",
    "Any live cell with two or three live neighbours remains living.\n",
    "Any live cell with more than three live neighbours dies.\n",
    "Any dead cell with exactly three live neighbours becomes a live cell.\n",
    "A cell neighbours another cell if it is horizontally, vertically, or diagonally adjacent.\n",
    "\n",
    "Implement Conway's Game of Life. It should be able to be initialized with a starting list of live cell coordinates and the number of steps it should run for. Once initialized, it should print out the board state at each step. Since it's an infinite board, print out only the relevant coordinates, i.e. from the top-leftmost live cell to bottom-rightmost live cell.\n",
    "\n",
    "You can represent a live cell with an asterisk (*) and a dead cell with a dot (.).\n",
    "\n",
    "#new_concept #[sparse_matrix](https://stackoverflow.com/questions/15297834/infinite-board-conways-game-of-life-python)\n",
    "\n"
   ]
  },
  {
   "cell_type": "code",
   "execution_count": 290,
   "metadata": {},
   "outputs": [],
   "source": [
    "def sparse(m):\n",
    "    sm = {}\n",
    "    for i,e in enumerate((m)):\n",
    "        for j in range(len(e)):\n",
    "            if m[i][j]:\n",
    "                sm.update({(i,j):1})\n",
    "    return sm"
   ]
  },
  {
   "cell_type": "code",
   "execution_count": 298,
   "metadata": {
    "scrolled": true
   },
   "outputs": [],
   "source": [
    "def print_board(board):\n",
    "    l = board.keys()\n",
    "    if (len(board) == 0):\n",
    "        return\n",
    "#     print (\"printing ------\", board)\n",
    "    x1, y2 = min(l, key = lambda x:x[0])[0] , max(l, key = lambda x:x[1])[1] \n",
    "    x2, y1 = max(l, key = lambda x:x[0])[0] , min(l, key = lambda x:x[1])[1]  \n",
    "    \n",
    "    for i in range(x1, x2 + 1):\n",
    "        s = ''\n",
    "        for j in range(y1, y2 + 1):\n",
    "            s += '*' if board.get((i, j), 0) else '.'\n",
    "        print(s)\n",
    "\n",
    "def neighbours(row, col, start):\n",
    "    c = 0\n",
    "    for i in range (row - 1, row + 2):\n",
    "        for j in range (col - 1, col + 2):\n",
    "            if not(i == row and j == col) :\n",
    "                c += start.get((i,j), 0)\n",
    "    return c\n",
    "\n",
    "def g_o_l (start, steps):\n",
    "    print(steps)\n",
    "    if steps == 0 :#or len(start)==0:\n",
    "        return\n",
    "    live = start.keys()\n",
    "    end = {}\n",
    "\n",
    "    #live area computation\n",
    "    x1, y2 = min(live, key = lambda x:x[0])[0] - 1, max(live, key = lambda x:x[1])[1] + 1\n",
    "    x2, y1 = max(live, key = lambda x:x[0])[0] + 1, min(live, key = lambda x:x[1])[1] -1 \n",
    "    \n",
    "    # computing new state\n",
    "    for x in range(x1, x2 + 1):\n",
    "        for y in range(y1, y2 + 1):\n",
    "            alive = 0\n",
    "            no_of_n = neighbours(x, y, start)\n",
    "            if start.get((x,y),0):\n",
    "                alive = 2 <= no_of_n <= 3\n",
    "            else:\n",
    "                alive = no_of_n == 3 # reborn\n",
    "\n",
    "            if alive: \n",
    "                end.update({(x,y):alive})\n",
    "\n",
    "    print_board(end)\n",
    "    \n",
    "    g_o_l(end, steps - 1)"
   ]
  },
  {
   "cell_type": "code",
   "execution_count": 299,
   "metadata": {
    "scrolled": true
   },
   "outputs": [
    {
     "name": "stdout",
     "output_type": "stream",
     "text": [
      "*..\n",
      ".**\n",
      "**.\n",
      "20\n",
      ".*.\n",
      "..*\n",
      "***\n",
      "19\n",
      "*.*\n",
      ".**\n",
      ".*.\n",
      "18\n",
      "..*\n",
      "*.*\n",
      ".**\n",
      "17\n",
      "*..\n",
      ".**\n",
      "**.\n",
      "16\n",
      ".*.\n",
      "..*\n",
      "***\n",
      "15\n",
      "*.*\n",
      ".**\n",
      ".*.\n",
      "14\n",
      "..*\n",
      "*.*\n",
      ".**\n",
      "13\n",
      "*..\n",
      ".**\n",
      "**.\n",
      "12\n",
      ".*.\n",
      "..*\n",
      "***\n",
      "11\n",
      "*.*\n",
      ".**\n",
      ".*.\n",
      "10\n",
      "..*\n",
      "*.*\n",
      ".**\n",
      "9\n",
      "*..\n",
      ".**\n",
      "**.\n",
      "8\n",
      ".*.\n",
      "..*\n",
      "***\n",
      "7\n",
      "*.*\n",
      ".**\n",
      ".*.\n",
      "6\n",
      "..*\n",
      "*.*\n",
      ".**\n",
      "5\n",
      "*..\n",
      ".**\n",
      "**.\n",
      "4\n",
      ".*.\n",
      "..*\n",
      "***\n",
      "3\n",
      "*.*\n",
      ".**\n",
      ".*.\n",
      "2\n",
      "..*\n",
      "*.*\n",
      ".**\n",
      "1\n",
      "*..\n",
      ".**\n",
      "**.\n",
      "0\n"
     ]
    }
   ],
   "source": [
    "a = [[1, 1, 1, 0],\n",
    "        [0, 1, 1, 1]]\n",
    "# a ={(0, 0): 1, (0, 1): 1, (0, 2): 1, (1, 1): 1, (1, 2): 1, (1, 3): 1}\n",
    "a = [[1, 0, 0],\n",
    "          [0, 1, 1],\n",
    "          [1, 1, 0]]\n",
    "\n",
    "sa = sparse(a)\n",
    "\n",
    "\n",
    "# print(sglider)\n",
    "print_board(sa)\n",
    "g_o_l(sa, 20)"
   ]
  },
  {
   "cell_type": "markdown",
   "metadata": {},
   "source": [
    "### sparse matrix"
   ]
  },
  {
   "cell_type": "code",
   "execution_count": 141,
   "metadata": {},
   "outputs": [],
   "source": [
    "matrix = [['.','.','.'], ['.','*','.'], ['.','.','.']]\n",
    "sparse_matrix = {(1, 1): '*', (1, 3): '*', (2, 1): '*'}\n",
    "a = sparse_matrix.keys()"
   ]
  },
  {
   "cell_type": "markdown",
   "metadata": {},
   "source": [
    "---"
   ]
  },
  {
   "cell_type": "markdown",
   "metadata": {},
   "source": [
    "# Day 40\n",
    "\n",
    "This problem was asked by Google.\n",
    "\n",
    "Given an array of integers where every integer occurs three times except for one integer, which only occurs once, find and return the non-duplicated integer.\n",
    "\n",
    "For example, given [6, 1, 3, 3, 3, 6, 6], return 1. Given [13, 19, 13, 13], return 19.\n",
    "\n",
    "Do this in O(N) time and O(1) space"
   ]
  },
  {
   "cell_type": "code",
   "execution_count": 308,
   "metadata": {},
   "outputs": [],
   "source": [
    "list = [6, 1, 3, 3, 3, 6, 6]\n",
    "set = set(list)"
   ]
  },
  {
   "cell_type": "code",
   "execution_count": 314,
   "metadata": {},
   "outputs": [
    {
     "name": "stdout",
     "output_type": "stream",
     "text": [
      "1\n"
     ]
    }
   ],
   "source": [
    "for i in set:\n",
    "    if list.count(i) % 3 != 0:\n",
    "        print(i)"
   ]
  },
  {
   "cell_type": "code",
   "execution_count": 327,
   "metadata": {},
   "outputs": [
    {
     "name": "stdout",
     "output_type": "stream",
     "text": [
      ". 3 0 3\n",
      ".. 0 3\n",
      ". 3 3 0\n",
      ".. 3 0\n",
      ". 2 3 2\n",
      ".. 1 0\n",
      ". 3 1 3\n",
      ".. 0 2\n",
      "The element with single occurrence is  2\n"
     ]
    }
   ],
   "source": [
    "def getSingle(arr, n):\n",
    "    ones = 0\n",
    "    twos = 0\n",
    "     \n",
    "    for i in range(n):\n",
    "        # one & arr[i]\" gives the bits that\n",
    "        # are there in both 'ones' and new\n",
    "        # element from arr[]. We add these\n",
    "        # bits to 'twos' using bitwise OR\n",
    "        twos = twos | (ones & arr[i])\n",
    "         \n",
    "        # one & arr[i]\" gives the bits that\n",
    "        # are there in both 'ones' and new\n",
    "        # element from arr[]. We add these\n",
    "        # bits to 'twos' using bitwise OR\n",
    "        ones = ones ^ arr[i]\n",
    "         \n",
    "        # The common bits are those bits \n",
    "        # which appear third time. So these\n",
    "        # bits should not be there in both \n",
    "        # 'ones' and 'twos'. common_bit_mask\n",
    "        # contains all these bits as 0, so\n",
    "        # that the bits can be removed from\n",
    "        # 'ones' and 'twos'\n",
    "        common_bit_mask = ~(ones & twos)\n",
    "        \n",
    "        print(\".\", arr[i], twos, ones)\n",
    "        # Remove common bits (the bits that \n",
    "        # appear third time) from 'ones'\n",
    "        ones &= common_bit_mask\n",
    "         \n",
    "        # Remove common bits (the bits that\n",
    "        # appear third time) from 'twos'\n",
    "        twos &= common_bit_mask\n",
    "        print(\"..\", twos, ones)\n",
    "    return ones\n",
    "     \n",
    "# driver code\n",
    "arr = [3, 3, 2, 3]\n",
    "n = len(arr)\n",
    "print(\"The element with single occurrence is \",\n",
    "        getSingle(arr, n))\n",
    " \n",
    "# This code is contributed by \"Abhishek Sharma 44\"\n"
   ]
  },
  {
   "cell_type": "markdown",
   "metadata": {},
   "source": [
    "---"
   ]
  },
  {
   "cell_type": "markdown",
   "metadata": {},
   "source": [
    "Didnt understand the algorithm at first. \n",
    "This [video](https://www.youtube.com/watch?v=mHfvInveXDQ) helped"
   ]
  },
  {
   "cell_type": "code",
   "execution_count": 72,
   "metadata": {},
   "outputs": [
    {
     "name": "stdout",
     "output_type": "stream",
     "text": [
      "single occurance(non-3 multiple) number :  6\n"
     ]
    }
   ],
   "source": [
    "# Redo the same with my logic (understood from the video)\n",
    "\n",
    "array = [6, 1, 3, 3, 3, 6, 6]\n",
    "array = [6, 6, 1, 1, 1, 3, 3, 3, 6, 6]\n",
    "s = '0'* 8\n",
    "for i, c in enumerate(array) :\n",
    "    bi = '{0:08b}'.format(c) #useful conversion of int to bit without the baggage\n",
    "    \n",
    "    s = [int(x)+int(y) for (x,y) in list(zip(s,bi))]    \n",
    "#     print(bi, s)\n",
    "\n",
    "s = [ s_bit % 3 for s_bit  in s]\n",
    "\n",
    "print(\"single occurance(non-3 multiple) number : \", int(\"\".join(str(i) for i in s), 2))"
   ]
  },
  {
   "cell_type": "markdown",
   "metadata": {},
   "source": [
    "---"
   ]
  },
  {
   "cell_type": "markdown",
   "metadata": {},
   "source": [
    "# Day 41\n",
    "\n",
    "This problem was asked by Facebook.\n",
    "\n",
    "Given an unordered list of flights taken by someone, each represented as (origin, destination) pairs, and a starting airport, compute the person's itinerary. If no such itinerary exists, return null. If there are multiple possible itineraries, return the lexicographically smallest one. All flights must be used in the itinerary.\n",
    "\n",
    "For example, given the list of flights [('SFO', 'HKO'), ('YYZ', 'SFO'), ('YUL', 'YYZ'), ('HKO', 'ORD')] and starting airport 'YUL', you should return the list ['YUL', 'YYZ', 'SFO', 'HKO', 'ORD'].\n",
    "\n",
    "Given the list of flights [('SFO', 'COM'), ('COM', 'YYZ')] and starting airport 'COM', you should return null.\n",
    "\n",
    "Given the list of flights [('A', 'B'), ('A', 'C'), ('B', 'C'), ('C', 'A')] and starting airport 'A', you should return the list ['A', 'B', 'C', 'A', 'C'] even though ['A', 'C', 'A', 'B', 'C'] is also a valid itinerary. However, the first one is lexicographically smaller.\n",
    "\n",
    "#incomplete"
   ]
  },
  {
   "cell_type": "code",
   "execution_count": 84,
   "metadata": {},
   "outputs": [],
   "source": [
    "flights = [('A', 'B'), ('A', 'C'), ('B', 'C'), ('C', 'A')] \n",
    "\n",
    "start = 'A'\n",
    "\n",
    "graph = { a: set(b) for i,(a,b) in enumerate(flights) }"
   ]
  },
  {
   "cell_type": "code",
   "execution_count": 82,
   "metadata": {},
   "outputs": [
    {
     "data": {
      "text/plain": [
       "{'A': {'C'}, 'B': {'C'}, 'C': {'A'}}"
      ]
     },
     "execution_count": 82,
     "metadata": {},
     "output_type": "execute_result"
    }
   ],
   "source": [
    "graph"
   ]
  },
  {
   "cell_type": "markdown",
   "metadata": {},
   "source": [
    "----"
   ]
  },
  {
   "cell_type": "markdown",
   "metadata": {},
   "source": [
    "# Day 42\n",
    "\n",
    "Given a list of integers S and a target number k, write a function that returns a subset of S that adds up to k. If such a subset cannot be made, then return null.\n",
    "\n",
    "Integers can appear more than once in the list. You may assume all numbers in the list are positive.\n",
    "\n",
    "For example, given S = [12, 1, 61, 5, 9, 2] and k = 24, return [12, 9, 2, 1] since it sums up to 24."
   ]
  },
  {
   "cell_type": "code",
   "execution_count": null,
   "metadata": {},
   "outputs": [],
   "source": [
    "def split(list, k):\n",
    "    \n",
    "    if sum(list) == k:\n",
    "        return list\n",
    "    \n",
    "    for i in \n",
    "\n"
   ]
  },
  {
   "cell_type": "markdown",
   "metadata": {},
   "source": [
    "----"
   ]
  },
  {
   "cell_type": "markdown",
   "metadata": {},
   "source": [
    "# Day 43\n",
    "\n",
    "This problem was asked by Amazon.\n",
    "\n",
    "Implement a stack that has the following methods:\n",
    "\n",
    "- push(val), which pushes an element onto the stack\n",
    "- pop(), which pops off and returns the topmost element of the stack. If there are no elements in the stack, then it should throw an error or return null.\n",
    "- max(), which returns the maximum value in the stack currently. If there are no elements in the stack, then it should throw an error or return null.\n",
    "\n",
    "Each method should run in constant time."
   ]
  },
  {
   "cell_type": "code",
   "execution_count": 2,
   "metadata": {},
   "outputs": [],
   "source": [
    "\n",
    "class stack:\n",
    "    \n",
    "    def __init__ (self):\n",
    "        self.items = []\n",
    "        \n",
    "\n",
    "    def push(self, val):\n",
    "\n",
    "        self.items.append(val)\n",
    "    \n",
    "    def empty(self):\n",
    "        return self.items == []\n",
    "\n",
    "    def pop(self):\n",
    "        if self.empty():\n",
    "            print('error')\n",
    "            return None\n",
    "        return self.items.pop()\n",
    "    def max(self):\n",
    "        if self.empty():\n",
    "            print('error')\n",
    "            return None\n",
    "        return max(self.items)"
   ]
  },
  {
   "cell_type": "markdown",
   "metadata": {},
   "source": [
    "---"
   ]
  },
  {
   "cell_type": "markdown",
   "metadata": {},
   "source": [
    "# Day 44\n",
    "This problem was asked by Google.\n",
    "\n",
    "We can determine how \"out of order\" an array A is by counting the number of inversions it has. Two elements A[i] and A[j] form an inversion if A[i] > A[j] but i < j. That is, a smaller element appears after a larger element.\n",
    "\n",
    "Given an array, count the number of inversions it has. Do this faster than O(N^2) time.\n",
    "\n",
    "You may assume each element in the array is distinct.\n",
    "\n",
    "For example, a sorted list has zero inversions. The array [2, 4, 1, 3, 5] has three inversions: (2, 1), (4, 1), and (4, 3). The array [5, 4, 3, 2, 1] has ten inversions: every distinct pair forms an inversion."
   ]
  },
  {
   "cell_type": "code",
   "execution_count": 3,
   "metadata": {},
   "outputs": [
    {
     "name": "stdout",
     "output_type": "stream",
     "text": [
      "0 2\n",
      "1 4\n",
      "2 1\n",
      "3 3\n",
      "4 5\n"
     ]
    }
   ],
   "source": [
    "a = [2, 4, 1, 3, 5]\n",
    "\n",
    "# smallest = min(a)\n",
    "\n",
    "for i,a in enumerate(a):\n",
    "    print(i,a)\n",
    "    \n",
    "pass\n",
    "    \n",
    "    "
   ]
  },
  {
   "cell_type": "markdown",
   "metadata": {},
   "source": [
    "____"
   ]
  },
  {
   "cell_type": "markdown",
   "metadata": {},
   "source": [
    "# Day 45\n",
    "\n",
    "This problem was asked by Two Sigma.\n",
    "\n",
    "Using a function rand5() that returns an integer from 1 to 5 (inclusive) with uniform probability, implement a function rand7() that returns an integer from 1 to 7 (inclusive).\n",
    "\n",
    "#new_concept\n",
    "\n",
    "#[expanding_range](https://www.quora.com/How-do-you-design-a-rand7-function-using-a-rand5-function)"
   ]
  },
  {
   "cell_type": "code",
   "execution_count": 46,
   "metadata": {},
   "outputs": [],
   "source": [
    "import random\n",
    "\n",
    "def rand5():\n",
    "    return random.randint(1,5)\n",
    "\n",
    "def rand2():\n",
    "    s = rand5() \n",
    "    return s % 2 if s < 5 else rand2()\n",
    "    \n",
    "def rand7():\n",
    "    s = rand2()*4 + rand2() * 2 + rand2()\n",
    "    return s if not s else rand7()\n",
    "#     s = 0\n",
    "#     while s > 7 or not s :\n",
    "#         s = 5 * rand5() + rand5()\n",
    "#     return s % 7 + 1\n",
    "\n",
    "def rand25():\n",
    "    return 4*rand5()+rand5()\n"
   ]
  },
  {
   "cell_type": "code",
   "execution_count": 47,
   "metadata": {},
   "outputs": [
    {
     "name": "stdout",
     "output_type": "stream",
     "text": [
      "{0: 1000000}\n"
     ]
    }
   ],
   "source": [
    "s = []\n",
    "for i in range(1000000):\n",
    "    s.append(rand7())\n",
    "print({a: s.count(a) for a in set(s)})"
   ]
  },
  {
   "cell_type": "markdown",
   "metadata": {},
   "source": [
    "___"
   ]
  },
  {
   "cell_type": "markdown",
   "metadata": {},
   "source": [
    "# Day 46\n",
    "This problem was asked by Amazon.\n",
    "\n",
    "Given a string, find the longest palindromic contiguous substring. If there are more than one with the maximum length, return any one.\n",
    "\n",
    "For example, the longest palindromic substring of \"aabcdcb\" is \"bcdcb\". The longest palindromic substring of \"bananas\" is \"anana\"."
   ]
  },
  {
   "cell_type": "code",
   "execution_count": 103,
   "metadata": {},
   "outputs": [
    {
     "name": "stdout",
     "output_type": "stream",
     "text": [
      "['n', 'ana', 'a', 'nan', 'anana', 'n', 'ana']\n"
     ]
    },
    {
     "data": {
      "text/plain": [
       "'anana'"
      ]
     },
     "execution_count": 103,
     "metadata": {},
     "output_type": "execute_result"
    }
   ],
   "source": [
    "# new solution\n",
    "\n",
    "def palin(s):\n",
    "    p_points = []\n",
    "    for index, _ in enumerate(s[1:-1:]):\n",
    "        if s[index-1] == s[index+1]:\n",
    "            p_points.append(index)\n",
    "#             print(index,_)\n",
    "    \n",
    "    list = longest_palin(p_points)\n",
    "    print(list)\n",
    "    return max(list, key = len)\n",
    "    \n",
    "def longest_palin(p_points):\n",
    "    palin = []\n",
    "    for p in p_points:\n",
    "        for j in range(p):\n",
    "            min, max = p-j, p+j\n",
    "            if min < 0 or max > len(s):\n",
    "                break\n",
    "            sub_string = s[min:max+1]\n",
    "            if sub_string == sub_string[::-1]:\n",
    "                palin.append(sub_string)\n",
    "                \n",
    "    return palin\n",
    "\n",
    "palin('bananas')"
   ]
  },
  {
   "cell_type": "markdown",
   "metadata": {},
   "source": [
    "___"
   ]
  },
  {
   "cell_type": "markdown",
   "metadata": {},
   "source": [
    "# Day 47\n",
    "This problem was asked by Facebook.\n",
    "\n",
    "Given a array of numbers representing the stock prices of a company in chronological order, write a function that calculates the maximum profit you could have made from buying and selling that stock once. You must buy before you can sell it.\n",
    "\n",
    "For example, given [9, 11, 8, 5, 7, 10], you should return 5, since you could buy the stock at 5 dollars and sell it at 10 dollars."
   ]
  },
  {
   "cell_type": "code",
   "execution_count": 126,
   "metadata": {},
   "outputs": [
    {
     "name": "stdout",
     "output_type": "stream",
     "text": [
      "max is : 5 sell and buy at : 3 5\n",
      "5 10\n"
     ]
    }
   ],
   "source": [
    "stock = [9, 11, 8, 5, 7, 10]\n",
    "\n",
    "max = 0\n",
    "min = stock[0]\n",
    "\n",
    "for i,s in enumerate(stock[1:]):\n",
    "#     print (s)\n",
    "\n",
    "    if s - min > max:\n",
    "        max = s - min\n",
    "        imax = i+1\n",
    "    if s < min:\n",
    "        min = s\n",
    "        imin = i+1\n",
    "print('max is :',max, \"sell and buy at :\", imin, imax)\n",
    "print (stock[imin], stock[imax])"
   ]
  },
  {
   "cell_type": "markdown",
   "metadata": {},
   "source": [
    "---"
   ]
  },
  {
   "cell_type": "markdown",
   "metadata": {},
   "source": [
    "# Day 48\n",
    "\n",
    "This problem was asked by Google.\n",
    "\n",
    "Given pre-order and in-order traversals of a binary tree, write a function to reconstruct the tree.\n",
    "\n",
    "For example, given the following preorder traversal:\n",
    "\n",
    "[a, b, d, e, c, f, g]\n",
    "\n",
    "And the following inorder traversal:\n",
    "\n",
    "[d, b, e, a, f, c, g]\n",
    "\n",
    "You should return the following tree:\n",
    "\n",
    "   a\n",
    "    \n",
    "   / \\\n",
    "\n",
    "  b   c\n",
    "\n",
    " / \\ / \\\n",
    "\n",
    "d  e f  g"
   ]
  },
  {
   "cell_type": "code",
   "execution_count": 216,
   "metadata": {},
   "outputs": [
    {
     "data": {
      "text/plain": [
       "('a', ['d', 'b', 'e'], ['b', 'd', 'e'], ['f', 'c', 'g'], ['c', 'f', 'g'])"
      ]
     },
     "execution_count": 216,
     "metadata": {},
     "output_type": "execute_result"
    }
   ],
   "source": [
    "pre = [\"a\", \"b\", \"d\", \"e\", \"c\", \"f\", \"g\"]\n",
    "\n",
    "ino = [\"d\", \"b\", \"e\", \"a\", \"f\", \"c\", \"g\"]\n",
    "\n",
    "a = (pre[0])\n",
    "s_ino = [c for i,c in enumerate(ino[:ino.index(pre[0])]) ]\n",
    "s_pre = pre[1:len(s_ino)+1]\n",
    "\n",
    "ss_ino = ino[len(s_ino)+1:]\n",
    "ss_pre = pre[len(s_ino)+1:]\n",
    "\n",
    "a, s_ino, s_pre, ss_ino, ss_pre"
   ]
  },
  {
   "cell_type": "code",
   "execution_count": 217,
   "metadata": {},
   "outputs": [
    {
     "name": "stdout",
     "output_type": "stream",
     "text": [
      "leaf d\n",
      "leaf e\n",
      "parent b\n",
      "leaf f\n",
      "leaf g\n",
      "parent c\n",
      "parent a\n",
      "___\n",
      "a\n",
      "c\n",
      "f\n"
     ]
    },
    {
     "ename": "AttributeError",
     "evalue": "'tuple' object has no attribute 'print_node'",
     "output_type": "error",
     "traceback": [
      "\u001b[0;31m---------------------------------------------------------------------------\u001b[0m",
      "\u001b[0;31mAttributeError\u001b[0m                            Traceback (most recent call last)",
      "\u001b[0;32m<ipython-input-217-cb320924ef86>\u001b[0m in \u001b[0;36m<module>\u001b[0;34m()\u001b[0m\n\u001b[1;32m     45\u001b[0m \u001b[0ma\u001b[0m \u001b[0;34m.\u001b[0m \u001b[0mbuild_tree\u001b[0m\u001b[0;34m(\u001b[0m \u001b[0mpre\u001b[0m\u001b[0;34m,\u001b[0m\u001b[0mino\u001b[0m\u001b[0;34m)\u001b[0m\u001b[0;34m\u001b[0m\u001b[0m\n\u001b[1;32m     46\u001b[0m \u001b[0mprint\u001b[0m\u001b[0;34m(\u001b[0m\u001b[0;34m\"___\"\u001b[0m\u001b[0;34m)\u001b[0m\u001b[0;34m\u001b[0m\u001b[0m\n\u001b[0;32m---> 47\u001b[0;31m \u001b[0ma\u001b[0m\u001b[0;34m.\u001b[0m\u001b[0mprint_node\u001b[0m\u001b[0;34m(\u001b[0m\u001b[0;34m)\u001b[0m\u001b[0;34m\u001b[0m\u001b[0m\n\u001b[0m",
      "\u001b[0;32m<ipython-input-217-cb320924ef86>\u001b[0m in \u001b[0;36mprint_node\u001b[0;34m(self)\u001b[0m\n\u001b[1;32m     34\u001b[0m             \u001b[0mprint\u001b[0m\u001b[0;34m(\u001b[0m\u001b[0mself\u001b[0m\u001b[0;34m.\u001b[0m\u001b[0mnode\u001b[0m\u001b[0;34m)\u001b[0m\u001b[0;34m\u001b[0m\u001b[0m\n\u001b[1;32m     35\u001b[0m             \u001b[0;32mif\u001b[0m \u001b[0mself\u001b[0m\u001b[0;34m.\u001b[0m\u001b[0mleft\u001b[0m\u001b[0;34m:\u001b[0m\u001b[0;34m\u001b[0m\u001b[0m\n\u001b[0;32m---> 36\u001b[0;31m                 \u001b[0mself\u001b[0m\u001b[0;34m.\u001b[0m\u001b[0mleft\u001b[0m\u001b[0;34m.\u001b[0m\u001b[0mprint_node\u001b[0m\u001b[0;34m(\u001b[0m\u001b[0;34m)\u001b[0m\u001b[0;34m\u001b[0m\u001b[0m\n\u001b[0m\u001b[1;32m     37\u001b[0m \u001b[0;34m\u001b[0m\u001b[0m\n\u001b[1;32m     38\u001b[0m             \u001b[0;32mif\u001b[0m \u001b[0mself\u001b[0m\u001b[0;34m.\u001b[0m\u001b[0mright\u001b[0m\u001b[0;34m:\u001b[0m\u001b[0;34m\u001b[0m\u001b[0m\n",
      "\u001b[0;32m<ipython-input-217-cb320924ef86>\u001b[0m in \u001b[0;36mprint_node\u001b[0;34m(self)\u001b[0m\n\u001b[1;32m     34\u001b[0m             \u001b[0mprint\u001b[0m\u001b[0;34m(\u001b[0m\u001b[0mself\u001b[0m\u001b[0;34m.\u001b[0m\u001b[0mnode\u001b[0m\u001b[0;34m)\u001b[0m\u001b[0;34m\u001b[0m\u001b[0m\n\u001b[1;32m     35\u001b[0m             \u001b[0;32mif\u001b[0m \u001b[0mself\u001b[0m\u001b[0;34m.\u001b[0m\u001b[0mleft\u001b[0m\u001b[0;34m:\u001b[0m\u001b[0;34m\u001b[0m\u001b[0m\n\u001b[0;32m---> 36\u001b[0;31m                 \u001b[0mself\u001b[0m\u001b[0;34m.\u001b[0m\u001b[0mleft\u001b[0m\u001b[0;34m.\u001b[0m\u001b[0mprint_node\u001b[0m\u001b[0;34m(\u001b[0m\u001b[0;34m)\u001b[0m\u001b[0;34m\u001b[0m\u001b[0m\n\u001b[0m\u001b[1;32m     37\u001b[0m \u001b[0;34m\u001b[0m\u001b[0m\n\u001b[1;32m     38\u001b[0m             \u001b[0;32mif\u001b[0m \u001b[0mself\u001b[0m\u001b[0;34m.\u001b[0m\u001b[0mright\u001b[0m\u001b[0;34m:\u001b[0m\u001b[0;34m\u001b[0m\u001b[0m\n",
      "\u001b[0;32m<ipython-input-217-cb320924ef86>\u001b[0m in \u001b[0;36mprint_node\u001b[0;34m(self)\u001b[0m\n\u001b[1;32m     37\u001b[0m \u001b[0;34m\u001b[0m\u001b[0m\n\u001b[1;32m     38\u001b[0m             \u001b[0;32mif\u001b[0m \u001b[0mself\u001b[0m\u001b[0;34m.\u001b[0m\u001b[0mright\u001b[0m\u001b[0;34m:\u001b[0m\u001b[0;34m\u001b[0m\u001b[0m\n\u001b[0;32m---> 39\u001b[0;31m                 \u001b[0mself\u001b[0m\u001b[0;34m.\u001b[0m\u001b[0mright\u001b[0m\u001b[0;34m.\u001b[0m\u001b[0mprint_node\u001b[0m\u001b[0;34m(\u001b[0m\u001b[0;34m)\u001b[0m\u001b[0;34m\u001b[0m\u001b[0m\n\u001b[0m\u001b[1;32m     40\u001b[0m \u001b[0;34m\u001b[0m\u001b[0m\n\u001b[1;32m     41\u001b[0m \u001b[0;34m\u001b[0m\u001b[0m\n",
      "\u001b[0;31mAttributeError\u001b[0m: 'tuple' object has no attribute 'print_node'"
     ]
    }
   ],
   "source": [
    "# node, left, right\n",
    "# left, node, right\n",
    "\n",
    "class treeNode:\n",
    "    def __init__(self, node = None):\n",
    "        self.node = node,\n",
    "        self.right = None,\n",
    "        self.left = None\n",
    "\n",
    "    def build_tree(self, pre, ino):\n",
    "\n",
    "        a = treeNode()\n",
    "\n",
    "        if len(pre) == 1:\n",
    "            print(\"leaf\",  pre[0])\n",
    "            a.node = pre[0]\n",
    "            return a #treeNode(pre[0])\n",
    "\n",
    "        s_ino = [c for i,c in enumerate(ino[:ino.index(pre[0])])]\n",
    "        s_pre = pre[1:len(s_ino)+1]\n",
    "\n",
    "        self.left = a.build_tree(s_pre, s_ino)\n",
    "\n",
    "        self.right = a.build_tree( pre[len(s_ino)+1:], ino[len(s_ino)+1:])\n",
    "\n",
    "        self.node = pre[0]\n",
    "\n",
    "        print(\"parent\", self.node)\n",
    "\n",
    "        return self\n",
    "    \n",
    "    def print_node(self):\n",
    "        if self.node:\n",
    "            print(self.node)\n",
    "            if self.left: \n",
    "                self.left.print_node()\n",
    "            \n",
    "            if self.right:\n",
    "                self.right.print_node()\n",
    "\n",
    "\n",
    "        \n",
    "        \n",
    "a = treeNode(None)\n",
    "a . build_tree( pre,ino)\n",
    "print(\"___\")\n",
    "a.print_node()"
   ]
  },
  {
   "cell_type": "code",
   "execution_count": null,
   "metadata": {},
   "outputs": [],
   "source": []
  }
 ],
 "metadata": {
  "kernelspec": {
   "display_name": "Python 3",
   "language": "python",
   "name": "python3"
  },
  "language_info": {
   "codemirror_mode": {
    "name": "ipython",
    "version": 3
   },
   "file_extension": ".py",
   "mimetype": "text/x-python",
   "name": "python",
   "nbconvert_exporter": "python",
   "pygments_lexer": "ipython3",
   "version": "3.6.5"
  }
 },
 "nbformat": 4,
 "nbformat_minor": 2
}
