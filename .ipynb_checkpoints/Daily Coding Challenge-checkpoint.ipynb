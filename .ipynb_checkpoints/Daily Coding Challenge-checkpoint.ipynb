{
 "cells": [
  {
   "cell_type": "markdown",
   "metadata": {},
   "source": [
    "# Day 1 \n",
    "\n",
    "Given a list of numbers, return whether any two sums to k.\n",
    "\n",
    "For example, given [10, 15, 3, 7] and k of 17, return true since 10 + 7 is 17.\n",
    "\n",
    "Bonus: Can you do this in one pass?"
   ]
  },
  {
   "cell_type": "code",
   "execution_count": 1,
   "metadata": {},
   "outputs": [
    {
     "name": "stdout",
     "output_type": "stream",
     "text": [
      "Enter the number you want to test: 34\n",
      "enter list of numbers separated by \" \": 3 4 5 2 1 1\n",
      "False\n"
     ]
    }
   ],
   "source": [
    "#day 1 challenge\n",
    "k = int(input('Enter the number you want to test: '))\n",
    "c = list(map(int, input('enter list of numbers separated by \" \": ').rstrip().split()))\n",
    "flag = False \n",
    "for i in c: #single run\n",
    "    temp = k - i\n",
    "    if temp in c:\n",
    "        flag = True\n",
    "        break\n",
    "if flag:\n",
    "    print(\"True: \", i, temp)\n",
    "else:\n",
    "    print(\"False\")\n",
    "        "
   ]
  },
  {
   "cell_type": "markdown",
   "metadata": {},
   "source": [
    "-----"
   ]
  },
  {
   "cell_type": "markdown",
   "metadata": {},
   "source": [
    "# Day 2\n",
    "\n",
    "This problem was asked by Uber.\n",
    "\n",
    "Given an array of integers, return a new array such that each element at index i of the new array is the product of all the numbers in the original array except the one at i.\n",
    "\n",
    "For example, if our input was [1, 2, 3, 4, 5], the expected output would be [120, 60, 40, 30, 24]. If our input was [3, 2, 1], the expected output would be [2, 3, 6].\n",
    "\n",
    "Follow-up: what if you can't use division?"
   ]
  },
  {
   "cell_type": "code",
   "execution_count": 9,
   "metadata": {},
   "outputs": [
    {
     "name": "stdout",
     "output_type": "stream",
     "text": [
      "enter the list of numbers:  1 2 3 4\n",
      "Using division:\n",
      "[24, 12, 8, 6]\n",
      "No division:\n",
      "[24, 12, 8, 6]\n"
     ]
    }
   ],
   "source": [
    "\n",
    "\n",
    "def mul(c, n = -1):\n",
    "    temp = c[:]\n",
    "    r = 1\n",
    "    if (n != -1):\n",
    "        temp[n] = 1\n",
    "    for x in temp:\n",
    "        r *= x\n",
    "    return r\n",
    "\n",
    "if __name__ == '__main__':\n",
    "    c = list(map(int,input(\"enter the list of numbers:  \").rstrip().split()))\n",
    "\n",
    "    # using division\n",
    "    print('Using division:')\n",
    "\n",
    "    c2 = []\n",
    "    for i,n in enumerate(c):\n",
    "        c2.append(mul(c) // n)  \n",
    "    print(c2)\n",
    "\n",
    "    # without division\n",
    "    print('No division:')\n",
    "\n",
    "    c3 = []\n",
    "    for j in range(len(c)):\n",
    "        c3.append(mul(c, j))\n",
    "#         print (j, c3, c)\n",
    "\n",
    "    print(c3)"
   ]
  },
  {
   "cell_type": "markdown",
   "metadata": {},
   "source": [
    "---------"
   ]
  },
  {
   "cell_type": "markdown",
   "metadata": {},
   "source": [
    "# Day 3\n",
    "\n",
    "This problem was asked by Google.\n",
    "\n",
    "Given the root to a binary tree, implement serialize(root), which serializes the tree into a string, and deserialize(s), which deserializes the string back into the tree."
   ]
  },
  {
   "cell_type": "code",
   "execution_count": 15,
   "metadata": {},
   "outputs": [
    {
     "name": "stdout",
     "output_type": "stream",
     "text": [
      "Serialized:  [1, 3, 6, -1, -1, -1, 4, 7, -1, -1, 8, -1, -1]\n",
      "Deserialized: \n",
      "1\n",
      "3\n",
      "6\n",
      "4\n",
      "7\n",
      "8\n"
     ]
    }
   ],
   "source": [
    "class Node():\n",
    "    def __init__(self, value):\n",
    "        self.left = None\n",
    "        self.right = None\n",
    "        self.value = value\n",
    "\n",
    "\"\"\"\n",
    "dummy tree\n",
    "          1\n",
    "         / \\\n",
    "        3   4\n",
    "       /   / \\\n",
    "      6   7   8\n",
    "\"\"\"\n",
    "\n",
    "BT = Node(1)\n",
    "BT.left = Node(3)\n",
    "BT.left.left = Node(6)\n",
    "BT.right = Node(4)\n",
    "BT.right.left = Node(7)\n",
    "BT.right.right = Node(8)\n",
    "\n",
    "def serialize_bt(root, serial):\n",
    "    if root != None:\n",
    "        serial.append(root.value)\n",
    "        serialize_bt(root.left, serial)\n",
    "        serialize_bt(root.right, serial)\n",
    "    else:\n",
    "        serial.append(-1)\n",
    "    return serial\n",
    "\n",
    "def deserialize_bt(newRoot, serial):\n",
    "    if serial[0] == -1:\n",
    "        serial.pop(0)\n",
    "    else:\n",
    "        if len(serial) > 0:\n",
    "            newRoot = Node(serial.pop(0))\n",
    "            print(newRoot.value)\n",
    "            deserialize(newRoot.left, serial)\n",
    "            deserialize(newRoot.right, serial)\n",
    "\n",
    "if __name__ == '__main__':\n",
    "    serial = serialize_bt(BT,[])\n",
    "    print('Serialized: ', serial)\n",
    "    print('Deserialized: ')\n",
    "    newRoot = Node(None)\n",
    "    deserialize_bt(newRoot, serial)\n",
    "\n",
    "        "
   ]
  },
  {
   "cell_type": "markdown",
   "metadata": {},
   "source": [
    "----"
   ]
  },
  {
   "cell_type": "markdown",
   "metadata": {},
   "source": [
    "# Day 4\n",
    "\n",
    "This problem was asked by Stripe.\n",
    "\n",
    "Given an array of integers, find the first missing positive integer in linear time and constant space. In other words, find the lowest positive integer that does not exist in the array. The array can contain duplicates and negative numbers as well.\n",
    "\n",
    "For example, the input [3, 4, -1, 1] should give 2. The input [1, 2, 0] should give 3.\n",
    "\n",
    "You can modify the input array in-place."
   ]
  },
  {
   "cell_type": "code",
   "execution_count": 29,
   "metadata": {},
   "outputs": [
    {
     "name": "stdout",
     "output_type": "stream",
     "text": [
      "Input list of numbers: 3 4 -1 1\n",
      "2\n"
     ]
    }
   ],
   "source": [
    "c = list(map(int,input('Input list of numbers: ').rstrip().split()))\n",
    "\n",
    "x = sorted(c)\n",
    "flag = False\n",
    "for i,n in enumerate(x[1:]):\n",
    "    if n > 0 and n-1 != x[i]:\n",
    "        print(n+1)\n",
    "        flag = True\n",
    "        break\n",
    "if not flag:\n",
    "    print(n+1)"
   ]
  },
  {
   "cell_type": "markdown",
   "metadata": {},
   "source": [
    "----"
   ]
  },
  {
   "cell_type": "markdown",
   "metadata": {},
   "source": [
    "# Day 5\n",
    "This problem was asked by Jane Street.\n",
    "\n",
    "cons(a, b) constructs a pair, and car(pair) and cdr(pair) returns the first and last element of that pair. For example, car(cons(3, 4)) returns 3, and cdr(cons(3, 4)) returns 4.\n",
    "\n",
    "Given this implementation of cons:\n",
    "\n",
    "def cons(a, b):\n",
    "    return lambda f : f(a, b)\n",
    "Implement car and cdr.\n",
    "\n",
    "### link on lambda functions:\n",
    "https://medium.com/@happymishra66/lambda-map-and-filter-in-python-4935f248593"
   ]
  },
  {
   "cell_type": "code",
   "execution_count": 40,
   "metadata": {},
   "outputs": [
    {
     "name": "stdout",
     "output_type": "stream",
     "text": [
      "Input a and b separated by space: 1 2\n",
      "1\n",
      "2\n"
     ]
    }
   ],
   "source": [
    "def cons(a, b): return lambda f : f(a, b)\n",
    "\n",
    "def car(f): return f(lambda a, b: a)\n",
    "\n",
    "def cdr(f): return f(lambda a, b: b)\n",
    "\n",
    "a, b = (int(n) for n in input('Input a and b separated by space: ').split())\n",
    "print(car(cons(a, b)))\n",
    "print(cdr(cons(a, b)))\n",
    "\n"
   ]
  },
  {
   "cell_type": "markdown",
   "metadata": {},
   "source": [
    "-----"
   ]
  },
  {
   "cell_type": "markdown",
   "metadata": {},
   "source": [
    "# Day 6\n",
    "This problem was asked by Google.\n",
    "\n",
    "An XOR linked list is a more memory efficient doubly linked list. Instead of each node holding next and prev fields, it holds a field named both, which is an XOR of the next node and the previous node. Implement an XOR linked list; it has an add(element) which adds the element to the end, and a get(index) which returns the node at index.\n",
    "\n",
    "If using a language that has no pointers (such as Python), you can assume you have access to get_pointer and dereference_pointer functions that converts between nodes and memory addresses."
   ]
  },
  {
   "cell_type": "code",
   "execution_count": null,
   "metadata": {},
   "outputs": [],
   "source": []
  },
  {
   "cell_type": "markdown",
   "metadata": {},
   "source": [
    "-----"
   ]
  },
  {
   "cell_type": "markdown",
   "metadata": {},
   "source": [
    "# Day 7\n",
    "\n",
    "This problem was asked by Facebook.\n",
    "\n",
    "Given the mapping a = 1, b = 2, ... z = 26, and an encoded message, count the number of ways it can be decoded.\n",
    "\n",
    "For example, the message '111' would give 3, since it could be decoded as 'aaa', 'ka', and 'ak'.\n",
    "\n",
    "You can assume that the messages are decodable. For example, '001' is not allowed.\n",
    "\n",
    "### Dynamic programing"
   ]
  },
  {
   "cell_type": "code",
   "execution_count": 48,
   "metadata": {},
   "outputs": [
    {
     "name": "stdout",
     "output_type": "stream",
     "text": [
      "enter code: 34\n",
      "Count is  1\n"
     ]
    }
   ],
   "source": [
    "c = (input(\"enter code: \"))\n",
    "n = len(c)\n",
    "\n",
    "def decode(a, n):\n",
    "    count = [0] * (n+1) \n",
    "    count[0] = 1\n",
    "    count[1] = 1\n",
    "    \n",
    "    for i in range(2, n+1):\n",
    "        count[i] = 0\n",
    "        if (a[i-1] > '0'):\n",
    "            count[i] = count[i-1]\n",
    "        if (a[i-2] == '1' or (a[i-2] == '2' and a[i-1] < '7') ):\n",
    "            count[i] += count[i-2]\n",
    "     \n",
    "    return count[n]\n",
    "            \n",
    "\n",
    "print(\"Count is \",decode(c, n))"
   ]
  },
  {
   "cell_type": "markdown",
   "metadata": {},
   "source": [
    "----"
   ]
  },
  {
   "cell_type": "markdown",
   "metadata": {},
   "source": [
    "# Day 8\n",
    "\n",
    "This problem was asked by Google.\n",
    "\n",
    "A unival tree (which stands for \"universal value\") is a tree where all nodes under it have the same value.\n",
    "\n",
    "Given the root to a binary tree, count the number of unival subtrees.\n",
    "\n",
    "For example, the following tree has 5 unival subtrees:\n",
    "\n",
    "   0\n",
    "  / \\\n",
    " 1   0\n",
    "    / \\\n",
    "   1   0\n",
    "  / \\\n",
    " 1   1"
   ]
  },
  {
   "cell_type": "code",
   "execution_count": 1,
   "metadata": {},
   "outputs": [
    {
     "data": {
      "text/plain": [
       "(5, False)"
      ]
     },
     "execution_count": 1,
     "metadata": {},
     "output_type": "execute_result"
    }
   ],
   "source": [
    "\n",
    "# tree node\n",
    "\n",
    "class Node():\n",
    "    def __init__(self, value):\n",
    "        self.value = value\n",
    "        self.left = None\n",
    "        self.right = None\n",
    "\n",
    "# creating a tree\n",
    "t = Node(0)\n",
    "t.left = Node(1)\n",
    "t.right = Node(0)\n",
    "t.right.left = Node(1)\n",
    "t.right.right = Node(0)\n",
    "t.right.left.left = Node(1)\n",
    "t.right.left.right = Node(1)\n",
    "\n",
    "\n",
    "def cal_unival(root):\n",
    "    if root == None:\n",
    "        return 0, True\n",
    "    \n",
    "    left, is_left = cal_unival(root.left)\n",
    "    right, is_right = cal_unival(root.right)  \n",
    "    total_count = right + left\n",
    "    \n",
    "    if is_left and is_right:\n",
    "        if root.left != None and root.left.value != root.value:\n",
    "            return total_count, False\n",
    "        if root.right != None and root.right.value != root.value:\n",
    "            return total_count, False\n",
    "        return total_count+1, True\n",
    "    return total_count, False\n",
    "\n",
    "cal_unival(t)"
   ]
  },
  {
   "cell_type": "markdown",
   "metadata": {},
   "source": [
    "----"
   ]
  },
  {
   "cell_type": "markdown",
   "metadata": {},
   "source": [
    "# Day 9\n",
    "\n",
    "This problem was asked by Airbnb.\n",
    "\n",
    "Given a list of integers, write a function that returns the largest sum of non-adjacent numbers. Numbers can be 0 or negative.\n",
    "\n",
    "For example, [2, 4, 6, 8] should return 12, since we pick 4 and 8. [5, 1, 1, 5] should return 10, since we pick 5 and 5."
   ]
  },
  {
   "cell_type": "code",
   "execution_count": 36,
   "metadata": {},
   "outputs": [
    {
     "name": "stdout",
     "output_type": "stream",
     "text": [
      "Enter the list of nos. separated by space: 2 4 6 8 10\n"
     ]
    },
    {
     "data": {
      "text/plain": [
       "18"
      ]
     },
     "execution_count": 36,
     "metadata": {},
     "output_type": "execute_result"
    }
   ],
   "source": [
    "c = list(map(int,input('Enter the list of nos. separated by space: ').rstrip().split()))\n",
    "\n",
    "\n",
    "def find_max_sum(c):\n",
    "    incl = 0\n",
    "    excl = 0\n",
    "    \n",
    "    for i in c:\n",
    "         \n",
    "        new_excl = excl if excl>incl else incl\n",
    "\n",
    "        incl = excl + i\n",
    "        excl = new_excl\n",
    "     \n",
    "\n",
    "    return (excl if excl>incl else incl)\n",
    "    \n",
    "\n",
    "find_max_sum(c)\n",
    "    "
   ]
  },
  {
   "cell_type": "markdown",
   "metadata": {},
   "source": [
    "-----"
   ]
  },
  {
   "cell_type": "markdown",
   "metadata": {},
   "source": [
    "# Day 10\n",
    "\n",
    "This problem was asked by Apple.\n",
    "\n",
    "Implement a job scheduler which takes in a function f and an integer n, and calls f after n milliseconds."
   ]
  },
  {
   "cell_type": "markdown",
   "metadata": {},
   "source": [
    "----"
   ]
  },
  {
   "cell_type": "markdown",
   "metadata": {},
   "source": [
    "# Day 11\n",
    "\n",
    "This problem was asked by Twitter.\n",
    "\n",
    "Implement an autocomplete system. That is, given a query string s and a set of all possible query strings, return all strings in the set that have s as a prefix.\n",
    "\n",
    "For example, given the query string de and the set of strings [dog, deer, deal], return [deer, deal].\n",
    "\n",
    "Hint: Try preprocessing the dictionary into a more efficient data structure to speed up queries.\n",
    "\n",
    "-----\n",
    "\n",
    "### Trie data structure\n",
    "\n",
    "videos: https://www.youtube.com/watch?v=AXjmTQ8LEoI\n",
    "\n",
    "https://towardsdatascience.com/implementing-a-trie-data-structure-in-python-in-less-than-100-lines-of-code-a877ea23c1a1\n",
    "\n",
    "trie is a tree for characters\n",
    "\n",
    "implemenation : https://www.geeksforgeeks.org/trie-insert-and-search/\n",
    "\n",
    "### Learned the use of set().\n",
    "http://devdocs.io/python~3.6/library/stdtypes#frozenset.add\n"
   ]
  },
  {
   "cell_type": "code",
   "execution_count": 5,
   "metadata": {},
   "outputs": [
    {
     "name": "stdout",
     "output_type": "stream",
     "text": [
      "Enter words in dictionary separated by \",\": the,they,thought,time,apple\n",
      "Enter query: t\n",
      "['the', 'time', 'thought', 'they']\n"
     ]
    }
   ],
   "source": [
    "\n",
    "class Trie(object):\n",
    "    def __init__(self):\n",
    "        self.children = {}\n",
    "        self.flag = False # Flag to represent that a word ends at this node\n",
    "\n",
    "    def add(self, char):\n",
    "        self.children[char] = Trie()\n",
    "\n",
    "    def insert(self, word):\n",
    "        node = self\n",
    "        for char in word:\n",
    "            if char not in node.children:\n",
    "                node.add(char)\n",
    "            node = node.children[char]\n",
    "        node.flag = True\n",
    "\n",
    "    def contains(self, word):\n",
    "        node = self\n",
    "        for char in word:\n",
    "            if char not in node.children:\n",
    "                return False\n",
    "            node = node.children[char]\n",
    "        return node.flag\n",
    "\n",
    "    def all_suffixes(self, prefix):\n",
    "        results = set()\n",
    "        if self.flag:\n",
    "            results.add(prefix)\n",
    "        if not self.children: \n",
    "            return results\n",
    "        \n",
    "        for char, node in self.children.items():\n",
    "            results = results | (node.all_suffixes(prefix + char))\n",
    "        return results\n",
    "\n",
    "    def autocomplete(self, prefix):\n",
    "        node = self\n",
    "        for char in prefix:\n",
    "            if char not in node.children:\n",
    "                return set()\n",
    "            node = node.children[char]\n",
    "        return list(node.all_suffixes(prefix))\n",
    "\n",
    "        \n",
    "\n",
    "if __name__ == '__main__':\n",
    "    \n",
    "    dictionary = list(input('Enter words in dictionary separated by \",\": ').split(','))\n",
    "\n",
    "    query = input('Enter query: ')\n",
    "    \n",
    "    t = Trie()\n",
    " \n",
    "    # Construct trie\n",
    "    for key in dictionary:\n",
    "        t.insert(key)\n",
    "        \n",
    "    print(t.autocomplete(query))\n",
    " \n",
    "    \n",
    "     \n",
    "            "
   ]
  },
  {
   "cell_type": "markdown",
   "metadata": {},
   "source": [
    "# Day 12\n",
    "\n",
    "This problem was asked by Amazon.\n",
    "\n",
    "There exists a staircase with N steps, and you can climb up either 1 or 2 steps at a time. Given N, write a function that returns the number of unique ways you can climb the staircase. The order of the steps matters.\n",
    "\n",
    "For example, if N is 4, then there are 5 unique ways:\n",
    "\n",
    "1, 1, 1, 1\n",
    "\n",
    "2, 1, 1\n",
    "\n",
    "1, 2, 1\n",
    "\n",
    "1, 1, 2\n",
    "\n",
    "2, 2\n",
    "\n",
    "What if, instead of being able to climb 1 or 2 steps at a time, you could climb any number from a set of positive integers X? For example, if X = {1, 3, 5}, you could climb 1, 3, or 5 steps at a time.\n",
    "\n",
    "----\n",
    "#difficult #dynamic programming"
   ]
  },
  {
   "cell_type": "code",
   "execution_count": 41,
   "metadata": {},
   "outputs": [
    {
     "name": "stdout",
     "output_type": "stream",
     "text": [
      "Enter the total number of steps: 6\n",
      "Enter the list of steps allowed separated by space:1 3 5\n",
      "pre buff:  [1, 1, 0, 0, 0, 0, 0]\n",
      "Ways to get to  6 using jumps of  [1, 3, 5] is:  8\n"
     ]
    }
   ],
   "source": [
    "c = int(input('Enter the total number of steps: '))\n",
    "step = list(map(int,input('Enter the list of steps allowed separated by space:').rstrip().split()))\n",
    "\n",
    "\n",
    "def cal_step(n, step):\n",
    "    \n",
    "#     Any steps to be made below the least possible steps will \n",
    "#     be impossible.\n",
    "#     Find the smallest allowed step and all steps below that has 0 ways\n",
    "    \n",
    "    step.sort()\n",
    "    buff = [0] * (step[0]+n)    \n",
    "    for i in range(0, step[0]):\n",
    "        buff[i] = 1\n",
    "    buff[step[0]] = 1\n",
    "    \n",
    "\n",
    "#     fibonacci logic \n",
    "\n",
    "    for i in range(step[0], n + step[0]):\n",
    "#         print(i)\n",
    "        for j in step:\n",
    "#             print('.',j, n-j)\n",
    "            if n - j < 0 : \n",
    "                print(\"break\")\n",
    "                break\n",
    "            buff[i] += buff[i-j]\n",
    "    return buff\n",
    "        \n",
    "\n",
    "ans = cal_step(c, step)\n",
    "    \n",
    "print('Ways to get to ',c,'using jumps of ',step, 'is: ',ans[c-1])"
   ]
  },
  {
   "cell_type": "markdown",
   "metadata": {},
   "source": [
    "----"
   ]
  },
  {
   "cell_type": "markdown",
   "metadata": {},
   "source": [
    "# Day 13\n",
    "\n",
    "This problem was asked by Amazon.\n",
    "\n",
    "Given an integer k and a string s, find the length of the longest substring that contains at most k distinct characters.\n",
    "\n",
    "For example, given s = \"abcba\" and k = 2, the longest substring with k distinct characters is \"bcb\"."
   ]
  },
  {
   "cell_type": "code",
   "execution_count": 58,
   "metadata": {},
   "outputs": [
    {
     "name": "stdout",
     "output_type": "stream",
     "text": [
      "enter the string:appletinnit\n",
      "Enter no of distinct subcharacters to be included in the result: 2\n",
      "7\n",
      "Substring is : ppl length of the string is : 3\n"
     ]
    }
   ],
   "source": [
    "\n",
    "\n",
    "s = input('enter the string:').rstrip()\n",
    "k = int(input('Enter no of distinct subcharacters to be included in the result: '))\n",
    "\n",
    "print(len(set(s)))\n",
    "\n",
    "# returns the number of unique characters and the characters themselves in a set\n",
    "\n",
    "def getChars(s):\n",
    "    return len(set(s)),set(s)\n",
    "\n",
    "def subString(s, k):\n",
    "    \n",
    "    unique = set(s)\n",
    "    \n",
    "#     k is less than the unqiue characters in the string to start off with\n",
    "\n",
    "    if k >= len(unique):\n",
    "        return s\n",
    "    \n",
    "    buff = [0] * (k+1)\n",
    "\n",
    "#     pointers to start and end of the substring that is to be recognised.\n",
    "    start = 0\n",
    "    end = 1  \n",
    "    \n",
    "    for i in range(2, (k+1)):\n",
    "        \n",
    "        for i in range(2,len(s)):\n",
    "            test = s[start:i]\n",
    "            unique_count, chars = getChars(test)\n",
    "            \n",
    "            if unique_count <= k:\n",
    "                end +=1\n",
    "                \n",
    "            if unique_count > k:\n",
    "                l,c=getChars(s[start+1:i])\n",
    "                if l == k:\n",
    "                    start = start+1\n",
    "                    end = i\n",
    "        return (s[start:end])\n",
    "            \n",
    "            \n",
    "        \n",
    "ans = subString(s, k)\n",
    "print ('Substring is :',ans, 'length of the string is :', len(ans))\n",
    "    \n"
   ]
  },
  {
   "cell_type": "markdown",
   "metadata": {},
   "source": [
    "## Error in logic\n",
    "\n",
    "The program fails for this case:\n",
    "\n",
    "appletinnit\n",
    "\n",
    "2\n",
    "\n",
    "Substring is : ppl length of the string is : 3\n",
    "\n",
    "### it should be inni at 4"
   ]
  },
  {
   "cell_type": "markdown",
   "metadata": {},
   "source": [
    "-----"
   ]
  },
  {
   "cell_type": "markdown",
   "metadata": {},
   "source": [
    "# Day 14\n",
    "Missing"
   ]
  },
  {
   "cell_type": "markdown",
   "metadata": {},
   "source": [
    "-----"
   ]
  },
  {
   "cell_type": "markdown",
   "metadata": {},
   "source": [
    "# Day 15\n",
    "\n",
    "This problem was asked by Facebook.\n",
    "\n",
    "Given a stream of elements too large to store in memory, pick a random element from the stream with uniform probability.\n",
    "\n"
   ]
  },
  {
   "cell_type": "markdown",
   "metadata": {},
   "source": [
    "---"
   ]
  },
  {
   "cell_type": "markdown",
   "metadata": {},
   "source": [
    "# Day 16\n",
    "\n",
    "This problem was asked by Twitter.\n",
    "\n",
    "You run an e-commerce website and want to record the last N order ids in a log. Implement a data structure to accomplish this, with the following API:\n",
    "\n",
    "record(order_id): adds the order_id to the log\n",
    "get_last(i): gets the ith last element from the log. i is guaranteed to be smaller than or equal to N.\n",
    "You should be as efficient with time and space as possible.\n",
    "\n"
   ]
  },
  {
   "cell_type": "markdown",
   "metadata": {},
   "source": [
    "----"
   ]
  },
  {
   "cell_type": "markdown",
   "metadata": {},
   "source": [
    "# Day 17\n",
    "\n",
    "This problem was asked by Google.\n",
    "\n",
    "Suppose we represent our file system by a string in the following manner:\n",
    "\n",
    "The string \"dir\\n\\tsubdir1\\n\\tsubdir2\\n\\t\\tfile.ext\" represents:\n",
    "\n",
    "dir\n",
    "\n",
    "    subdir1\n",
    "    \n",
    "    subdir2\n",
    "    \n",
    "        file.ext\n",
    "        \n",
    "The directory dir contains an empty sub-directory subdir1 and a sub-directory subdir2 containing a file file.ext.\n",
    "\n",
    "The string \"dir\\n\\tsubdir1\\n\\t\\tfile1.ext\\n\\t\\tsubsubdir1\\n\\tsubdir2\\n\\t\\tsubsubdir2\\n\\t\\t\\tfile2.ext\" represents:\n",
    "\n",
    "dir\n",
    "\n",
    "    subdir1\n",
    "    \n",
    "        file1.ext\n",
    "        \n",
    "        subsubdir1\n",
    "        \n",
    "    subdir2\n",
    "    \n",
    "        subsubdir2\n",
    "        \n",
    "            file2.ext\n",
    "            \n",
    "The directory dir contains two sub-directories subdir1 and subdir2. subdir1 contains a file file1.ext and an empty second-level sub-directory subsubdir1. subdir2 contains a second-level sub-directory subsubdir2 containing a file file2.ext.\n",
    "\n",
    "We are interested in finding the longest (number of characters) absolute path to a file within our file system. For example, in the second example above, the longest absolute path is \"dir/subdir2/subsubdir2/file2.ext\", and its length is 32 (not including the double quotes).\n",
    "\n",
    "Given a string representing the file system in the above format, return the length of the longest absolute path to a file in the abstracted file system. If there is no file in the system, return 0.\n",
    "\n",
    "Note:\n",
    "\n",
    "The name of a file contains at least a period and an extension.\n",
    "\n",
    "The name of a directory or sub-directory will not contain a period."
   ]
  },
  {
   "cell_type": "code",
   "execution_count": 59,
   "metadata": {},
   "outputs": [
    {
     "data": {
      "text/plain": [
       "32"
      ]
     },
     "execution_count": 59,
     "metadata": {},
     "output_type": "execute_result"
    }
   ],
   "source": [
    "len('')"
   ]
  },
  {
   "cell_type": "code",
   "execution_count": 150,
   "metadata": {},
   "outputs": [
    {
     "name": "stdout",
     "output_type": "stream",
     "text": [
      "Enter the directory: dir\\n\\tsubdir1\\n\\t\\tfile1.ext\\n\\t\\tsubsubdir1\\n\\tsubdir2\\n\\t\\tsubsubdir2\\n\\t\\t\\tfile2.ext\n",
      "[2, 0]\n",
      "[21, 3]\n",
      "Maximum characters for a particular file is :  32\n"
     ]
    }
   ],
   "source": [
    "# a is the line split file structure and b is the number of tabs (*)\n",
    "\n",
    "def length(i):\n",
    "    return len(a[i])-b[i]\n",
    "\n",
    "if __name__ == '__main__': \n",
    "    \n",
    "    c = input(\"Enter the directory: \").rstrip()#+'\\\\n'#.split('\\\\n')\n",
    "\n",
    "    a = c.split('\\\\n') #splits the sting into list of strings with each list one specific folder/file\n",
    "    b = [0] * len(a) #stores the depth of the current node\n",
    "    \n",
    "    dots = [] # stores the index of the list that have files \n",
    "    \n",
    "    for i,j in enumerate(a):\n",
    "        a[i] = j.replace('\\\\t','*')\n",
    "        b[i] = a[i].count('*')\n",
    "        if j.find('.') != -1:\n",
    "            dots.append(i)\n",
    "\n",
    "    if len(dots) == 0:\n",
    "        print (0)\n",
    "\n",
    "    else:\n",
    "        lgt = list(length(x) for x in range(len(b)))\n",
    "        ln = [0] * len(dots) # Stores the length of the directory to that file\n",
    "        for i, j in enumerate(dots):\n",
    "            ln[i] = b[j] # add the number of back slashes\n",
    "            print(ln)\n",
    "            for k in range(b[j],-1,-1): # counting levels down\n",
    "                for l in range(j,-1,-1): # moving across the b list to find closest approprite parent \n",
    "                    if k == b[l]:\n",
    "                        ln[i]+= lgt[l]\n",
    "#                         print (ln,l,k, lgt[l])\n",
    "                        break\n",
    "\n",
    "                \n",
    "            \n",
    "        print('Maximum characters for a particular file is : ', max(ln))\n",
    "    "
   ]
  },
  {
   "cell_type": "markdown",
   "metadata": {},
   "source": [
    "-----"
   ]
  },
  {
   "cell_type": "markdown",
   "metadata": {},
   "source": [
    "# Day 18\n",
    "\n",
    "This problem was asked by Google.\n",
    "\n",
    "Given an array of integers and a number k, where 1 <= k <= length of the array, compute the maximum values of each subarray of length k.\n",
    "\n",
    "For example, given array = [10, 5, 2, 7, 8, 7] and k = 3, we should get: [10, 7, 8, 8], since:\n",
    "\n",
    "10 = max(10, 5, 2)\n",
    "\n",
    "7 = max(5, 2, 7)\n",
    "\n",
    "8 = max(2, 7, 8)\n",
    "\n",
    "8 = max(7, 8, 7)\n",
    "\n",
    "Do this in O(n) time and O(k) space. You can modify the input array in-place and you do not need to store the \n",
    "results. You can simply print them out as you compute them.\n",
    "\n"
   ]
  },
  {
   "cell_type": "code",
   "execution_count": 154,
   "metadata": {},
   "outputs": [
    {
     "name": "stdout",
     "output_type": "stream",
     "text": [
      "enter array: 10 5 2 7 8 7\n",
      "enter k : 3\n",
      "10\n",
      "7\n",
      "8\n",
      "8\n"
     ]
    }
   ],
   "source": [
    "\n",
    "c = list(map(int, input('enter array: ').rstrip().split(' ')))\n",
    "k = int(input(\"enter k : \"))\n",
    "\n",
    "\n",
    "for i in range(len(c) - k + 1):\n",
    "    print (max(c[i:i+k]))"
   ]
  },
  {
   "cell_type": "markdown",
   "metadata": {},
   "source": [
    "----"
   ]
  },
  {
   "cell_type": "markdown",
   "metadata": {},
   "source": [
    "# Day 19\n",
    "\n",
    "This problem was asked by Facebook.\n",
    "\n",
    "A builder is looking to build a row of N houses that can be of K different colors. He has a goal of minimizing cost while ensuring that no two neighboring houses are of the same color.\n",
    "\n",
    "Given an N by K matrix where the nth row and kth column represents the cost to build the nth house with kth color, return the minimum cost which achieves this goal.\n",
    "\n",
    "----\n",
    "\n",
    "### minimum distance problem\n",
    "\n",
    "\n",
    "minCost(m, n) = min (minCost(m-1, n-1), minCost(m-1, n), minCost(m, n-1)) + cost[m][n]\n",
    "\n",
    "\n",
    "\n"
   ]
  },
  {
   "cell_type": "code",
   "execution_count": 1,
   "metadata": {},
   "outputs": [
    {
     "name": "stdout",
     "output_type": "stream",
     "text": [
      "[[(0, 2), (1, 2), (2, 2)], [(0, 4), (2, 6), (1, 51)], [(1, 8), (2, 9), (0, 71)], [(1, 11), (2, 12), (0, 102)]]\n"
     ]
    }
   ],
   "source": [
    "c = [[2,2,2],\n",
    "     [4,51,6],\n",
    "     [71,8,9],\n",
    "     [102,11,12]]\n",
    "n = 4\n",
    "k = 3\n",
    "\n",
    "# convert each cost to associated paint and then convert to a tuple and sort it.\n",
    "for a in range(n):\n",
    "    c[a] = list(enumerate(c[a]))\n",
    "    c[a].sort(key=lambda x: x[1])\n",
    "\n",
    "print (c)\n",
    "def color_index(hi, ci):\n",
    "    return c[hi][ci][0]\n",
    "def cost(hi, ci):\n",
    "    return c[hi][ci][1]\n",
    "\n",
    "cost = cost(0, 0)\n",
    "paintSeq = [color_index(0, 0)]\n",
    "\n",
    "# for i in range(1, n):\n",
    "#     print(i)\n",
    "#     if color_index(i, 0) == paintSeq[i-1]:\n",
    "#         temp1 = cost(i,1) + cost (i-1,0)\n",
    "#         temp2 = cost(i,0) + cost (i-1,1)\n",
    "#         if temp1 > temp2:\n",
    "#             cost -= cost(i-1,0) + temp2\n",
    "#         else: \n",
    "#             cost += cost(i,1) \n",
    "#             paintSeq.append(c[i][1][0])\n",
    "#     else: \n",
    "#         cost += c[i][0][1]\n",
    "#         paintSeq.append(c[i][0][0])\n",
    "#     print('.', cost, paintSeq)\n",
    "    \n"
   ]
  },
  {
   "cell_type": "code",
   "execution_count": 2,
   "metadata": {
    "scrolled": true
   },
   "outputs": [
    {
     "ename": "TypeError",
     "evalue": "'int' object is not subscriptable",
     "output_type": "error",
     "traceback": [
      "\u001b[0;31m---------------------------------------------------------------------------\u001b[0m",
      "\u001b[0;31mTypeError\u001b[0m                                 Traceback (most recent call last)",
      "\u001b[0;32m<ipython-input-2-0a707e1bc65b>\u001b[0m in \u001b[0;36m<module>\u001b[0;34m()\u001b[0m\n\u001b[1;32m      7\u001b[0m         \u001b[0;32mreturn\u001b[0m \u001b[0mcost\u001b[0m\u001b[0;34m[\u001b[0m\u001b[0mn\u001b[0m\u001b[0;34m]\u001b[0m\u001b[0;34m[\u001b[0m\u001b[0mk\u001b[0m\u001b[0;34m]\u001b[0m \u001b[0;34m+\u001b[0m \u001b[0mmin\u001b[0m\u001b[0;34m(\u001b[0m\u001b[0mminCost\u001b[0m\u001b[0;34m(\u001b[0m\u001b[0mc\u001b[0m\u001b[0;34m,\u001b[0m \u001b[0;34m)\u001b[0m \u001b[0;34m)\u001b[0m\u001b[0;34m\u001b[0m\u001b[0m\n\u001b[1;32m      8\u001b[0m \u001b[0;34m\u001b[0m\u001b[0m\n\u001b[0;32m----> 9\u001b[0;31m \u001b[0mminCost\u001b[0m\u001b[0;34m(\u001b[0m\u001b[0mc\u001b[0m\u001b[0;34m,\u001b[0m \u001b[0mn\u001b[0m\u001b[0;34m,\u001b[0m \u001b[0mk\u001b[0m\u001b[0;34m)\u001b[0m\u001b[0;34m\u001b[0m\u001b[0m\n\u001b[0m",
      "\u001b[0;32m<ipython-input-2-0a707e1bc65b>\u001b[0m in \u001b[0;36mminCost\u001b[0;34m(c, n, k)\u001b[0m\n\u001b[1;32m      5\u001b[0m         \u001b[0;32mreturn\u001b[0m \u001b[0;36m999\u001b[0m\u001b[0;34m\u001b[0m\u001b[0m\n\u001b[1;32m      6\u001b[0m     \u001b[0;32melse\u001b[0m\u001b[0;34m:\u001b[0m\u001b[0;34m\u001b[0m\u001b[0m\n\u001b[0;32m----> 7\u001b[0;31m         \u001b[0;32mreturn\u001b[0m \u001b[0mcost\u001b[0m\u001b[0;34m[\u001b[0m\u001b[0mn\u001b[0m\u001b[0;34m]\u001b[0m\u001b[0;34m[\u001b[0m\u001b[0mk\u001b[0m\u001b[0;34m]\u001b[0m \u001b[0;34m+\u001b[0m \u001b[0mmin\u001b[0m\u001b[0;34m(\u001b[0m\u001b[0mminCost\u001b[0m\u001b[0;34m(\u001b[0m\u001b[0mc\u001b[0m\u001b[0;34m,\u001b[0m \u001b[0;34m)\u001b[0m \u001b[0;34m)\u001b[0m\u001b[0;34m\u001b[0m\u001b[0m\n\u001b[0m\u001b[1;32m      8\u001b[0m \u001b[0;34m\u001b[0m\u001b[0m\n\u001b[1;32m      9\u001b[0m \u001b[0mminCost\u001b[0m\u001b[0;34m(\u001b[0m\u001b[0mc\u001b[0m\u001b[0;34m,\u001b[0m \u001b[0mn\u001b[0m\u001b[0;34m,\u001b[0m \u001b[0mk\u001b[0m\u001b[0;34m)\u001b[0m\u001b[0;34m\u001b[0m\u001b[0m\n",
      "\u001b[0;31mTypeError\u001b[0m: 'int' object is not subscriptable"
     ]
    }
   ],
   "source": [
    "def minCost(c, n, k):\n",
    "    if n == 0 and k == 0:\n",
    "        return c[n][k]\n",
    "    elif n < 0 and k < 0:\n",
    "        return 999\n",
    "    else:\n",
    "        return cost[n][k] + min(minCost(c, ) )\n",
    "    \n",
    "minCost(c, n, k)"
   ]
  },
  {
   "cell_type": "code",
   "execution_count": 4,
   "metadata": {},
   "outputs": [
    {
     "name": "stdout",
     "output_type": "stream",
     "text": [
      "(26, '1012')\n"
     ]
    }
   ],
   "source": [
    "def minimizeColorCost(given_array):\n",
    "    results = []\n",
    "    helper(given_array, results, 0, -1, 0, \"\")\n",
    "    return min(results)\n",
    "\n",
    "def helper(given_array, results, curr_house, prev_color, curr_cost, curr_sequence):\n",
    "    if curr_house == len(given_array):\n",
    "        results.append((curr_cost, curr_sequence))\n",
    "#         print(results)\n",
    "        return\n",
    "    for i in range(0, len(given_array[0])):\n",
    "#         print(results, curr_house, prev_color, curr_cost, curr_sequence)\n",
    "        if i != prev_color:\n",
    "            helper(given_array, results, curr_house + 1, i, given_array[curr_house][i] + curr_cost, curr_sequence + str(i))\n",
    "\n",
    "# arr = [[1,2,3,4], \n",
    "#        [1,2,1,0], \n",
    "#        [6,1,1,5], \n",
    "#        [2,3,5,5]]\n",
    "\n",
    "arr = [[2,2,2],\n",
    "     [4,51,6],\n",
    "     [71,8,9],\n",
    "     [102,11,12]]\n",
    "\n",
    "print(minimizeColorCost(arr))"
   ]
  },
  {
   "cell_type": "code",
   "execution_count": 7,
   "metadata": {},
   "outputs": [
    {
     "data": {
      "text/plain": [
       "4"
      ]
     },
     "execution_count": 7,
     "metadata": {},
     "output_type": "execute_result"
    }
   ],
   "source": [
    "len(arr)"
   ]
  },
  {
   "cell_type": "markdown",
   "metadata": {},
   "source": [
    "----"
   ]
  },
  {
   "cell_type": "markdown",
   "metadata": {},
   "source": [
    "# Day 20\n",
    "\n",
    "This problem was asked by Google.\n",
    "\n",
    "Given two singly linked lists that intersect at some point, find the intersecting node. The lists are non-cyclical.\n",
    "\n",
    "For example, given A = 3 -> 7 -> 8 -> 10 and B = 99 -> 1 -> 8 -> 10, return the node with value 8.\n",
    "\n",
    "In this example, assume nodes with the same value are the exact same node objects.\n",
    "\n",
    "Do this in O(M + N) time (where M and N are the lengths of the lists) and constant space.\n",
    "\n",
    "#new_concept #linkedList #incomplete\n"
   ]
  },
  {
   "cell_type": "code",
   "execution_count": 1,
   "metadata": {},
   "outputs": [
    {
     "ename": "IndentationError",
     "evalue": "expected an indented block (<ipython-input-1-ba35b174bd5d>, line 15)",
     "output_type": "error",
     "traceback": [
      "\u001b[1;36m  File \u001b[1;32m\"<ipython-input-1-ba35b174bd5d>\"\u001b[1;36m, line \u001b[1;32m15\u001b[0m\n\u001b[1;33m    def insert_list(list_input, linked_list):\u001b[0m\n\u001b[1;37m    ^\u001b[0m\n\u001b[1;31mIndentationError\u001b[0m\u001b[1;31m:\u001b[0m expected an indented block\n"
     ]
    }
   ],
   "source": [
    "class Node:\n",
    "    def __init__(self, data = None):\n",
    "        self.data = data\n",
    "        self.next_node = None\n",
    "        self.flag = False\n",
    "        \n",
    "# class SLinkedList:\n",
    "#     def __init__(self):\n",
    "#         self.headval = None\n",
    "\n",
    "    def find_int(list1, list2):\n",
    "        while list1.headval.next_node is not None:\n",
    "            \n",
    "        \n",
    "    def insert_list(list_input, linked_list):\n",
    "        \n",
    "        for i in range (len(list_input)):\n",
    "            \n",
    "            \n",
    "if __name__ == '__main__':\n",
    "    \n",
    "    list1 = list(map(int, input('list1: ').rstrip().split(' ')))\n",
    "    list2 = list(map(int, input('list2: ').rstrip().split(' ')))    \n",
    "    l1, l2 = SLinkedList(), SLinkedList()\n",
    "    for i in range (len(list1)):\n",
    "        list1.headval = Node(\"Mon\")\n",
    "        e2 = Node(\"Tue\")\n",
    "        e3 = Node(\"Wed\")\n",
    "        list1.headval.nextval = e2\n",
    "    \n",
    "        e2.nextval = e3\n",
    "\n"
   ]
  },
  {
   "cell_type": "markdown",
   "metadata": {},
   "source": [
    "-----"
   ]
  },
  {
   "cell_type": "markdown",
   "metadata": {},
   "source": [
    "# Day 21\n",
    "\n",
    "This problem was asked by Snapchat.\n",
    "\n",
    "Given an array of time intervals (start, end) for classroom lectures (possibly overlapping), find the minimum number of rooms required.\n",
    "\n",
    "For example, given [(30, 75), (0, 50), (60, 150)], you should return 2."
   ]
  },
  {
   "cell_type": "code",
   "execution_count": 72,
   "metadata": {},
   "outputs": [
    {
     "name": "stdout",
     "output_type": "stream",
     "text": [
      "Enter the number of class timings:3\n",
      "enter class timing 20 75\n",
      "enter class timing 0 50\n",
      "enter class timing 60 150\n",
      "Number of classes needed:  2\n"
     ]
    }
   ],
   "source": [
    "# find the number of overlaps\n",
    "\n",
    "#base case: overlap is start_time2<end_time1 or end_time2 > start_time1\n",
    "#recurrance: \n",
    "\n",
    "classes = int(input(\"Enter the number of class timings:\"))\n",
    "timing = []\n",
    "\n",
    "for i in range(classes): #input the timings\n",
    "    timing.append(tuple(map(int,input(\"enter class timing \").rstrip().split())))\n",
    "\n",
    "timing.sort(key=lambda x: x[0])\n",
    "\n",
    "# timing = [(1, 5), (2, 3), (3, 4)]\n",
    "# timing =  [(30, 75), (0, 50), (60, 150)]\n",
    "\n",
    "max_timing = max(timing, key = lambda x : x[1]) [1]\n",
    "# print(max_timing)\n",
    "\n",
    "cls = [0] * max_timing\n",
    "# print(max_timing, cls)\n",
    "\n",
    "no_of_classes = 1\n",
    "\n",
    "buff = set(range(timing[0][0], timing[0][1]))\n",
    "\n",
    "for i,j in timing: #combinations of times\n",
    "    for a in range (i-1, j-1): # j-1 so that there is a check for same time \n",
    "        if not cls[a]:\n",
    "            cls[a] = 1\n",
    "        else:\n",
    "            cls[a] = cls[a]+1\n",
    "\n",
    "print(\"Number of classes needed: \", max(cls))\n",
    "\n",
    "\n",
    "\n",
    "#---\n",
    "t =  [(30, 75), (0, 50), (60, 150)]\n",
    "start_times = [(t[0], 1) for t in times]  # [(30, 1), (0, 1), (60, 1)]\n",
    "end_times = [(t[1], -1) for t in times]  # [(75, -1), (50, -1), (150, -1)]\n",
    "room_allocation = [t[1] for t in sorted(start_times + end_times, key=lambda t: t[0])]  # [1, 1, -1, 1, -1, -1]\n",
    "\n",
    "rooms, max_rooms = 0, 0\n",
    "for event in room_allocation:\n",
    "    rooms += event  # occupied or released\n",
    "    max_rooms = max(max_rooms, rooms)\n",
    "assert(rooms == 0)\n",
    "\n",
    "print max_rooms"
   ]
  },
  {
   "cell_type": "markdown",
   "metadata": {},
   "source": [
    "------"
   ]
  },
  {
   "cell_type": "markdown",
   "metadata": {},
   "source": [
    "# Day 22\n",
    "\n",
    "This problem was asked by Microsoft.\n",
    "\n",
    "Given a dictionary of words and a string made up of those words (no spaces), return the original sentence in a list. If there is more than one possible reconstruction, return any of them. If there is no possible reconstruction, then return null.\n",
    "\n",
    "For example, given the set of words 'quick', 'brown', 'the', 'fox', and the string \"thequickbrownfox\", you should return ['the', 'quick', 'brown', 'fox'].\n",
    "\n",
    "Given the set of words 'bed', 'bath', 'bedbath', 'and', 'beyond', and the string \"bedbathandbeyond\", return either ['bed', 'bath', 'and', 'beyond] or ['bedbath', 'and', 'beyond']."
   ]
  },
  {
   "cell_type": "code",
   "execution_count": 97,
   "metadata": {},
   "outputs": [
    {
     "name": "stdout",
     "output_type": "stream",
     "text": [
      "Words present in the string  bedbathandbeyond :  ['bed', 'bath', 'and', 'beyond']\n"
     ]
    }
   ],
   "source": [
    "# dict = input('Enter disctionary of words separated by \",\": ').rstrip().split(',') \n",
    "# string = input('Enter string:')\n",
    "\n",
    "dict = ['bed', 'bath', 'bedbath', 'and', 'beyond']\n",
    "string = \"bedbathandbeyond\"\n",
    "buff = string\n",
    "words = []\n",
    "\n",
    "for i in dict: #check for words in dictionary in given order because the ask is to print either of the exhaustive combinations\n",
    "    if i in string: # word found in the string\n",
    "        words.append(i)\n",
    "        string = string[:string.find(i)] + string[string.find(i)+len(i):]\n",
    "\n",
    "print (\"Words present in the string \", buff, \": \",words)         "
   ]
  },
  {
   "cell_type": "markdown",
   "metadata": {},
   "source": [
    "-----"
   ]
  },
  {
   "cell_type": "markdown",
   "metadata": {},
   "source": [
    "# Day 23\n",
    "\n",
    "This problem was asked by Google.\n",
    "\n",
    "You are given an M by N matrix consisting of booleans that represents a board. Each True boolean represents a wall. Each False boolean represents a tile you can walk on.\n",
    "\n",
    "Given this matrix, a start coordinate, and an end coordinate, return the minimum number of steps required to reach the end coordinate from the start. If there is no possible path, then return null. You can move up, left, down, and right. You cannot move through walls. You cannot wrap around the edges of the board.\n",
    "\n",
    "For example, given the following board:\n",
    "\n",
    "[[f, f, f, f],\n",
    "\n",
    "[t, t, f, t],\n",
    "\n",
    "[f, f, f, f],\n",
    "\n",
    "[f, f, f, f]]\n",
    "\n",
    "and start = (3, 0) (bottom left) and end = (0, 0) (top left), the minimum number of steps required to reach the end is 7, since we would need to go through (1, 2) because there is a wall everywhere else on the second row."
   ]
  },
  {
   "cell_type": "code",
   "execution_count": 18,
   "metadata": {},
   "outputs": [
    {
     "name": "stdout",
     "output_type": "stream",
     "text": [
      "[(3, 0)]\n",
      "[(2, 0), (3, 1)]\n",
      "[(2, 1), (3, 2)]\n",
      "[(2, 2), (3, 3)]\n",
      "[(1, 2), (2, 3)]\n",
      "[(0, 2)]\n",
      "[(0, 1), (0, 3)]\n",
      "[(0, 0)]\n",
      "[]\n"
     ]
    },
    {
     "data": {
      "text/plain": [
       "7"
      ]
     },
     "execution_count": 18,
     "metadata": {},
     "output_type": "execute_result"
    }
   ],
   "source": [
    "map = [[False, False, False, False], \n",
    "       [True, True, False, True],\n",
    "       [False, False, False, False], \n",
    "       [False, False, False, False]]\n",
    "\n",
    "def find_route(map, start, end):\n",
    "    \n",
    "    coords = [(index_r, index_c) for index_r, row in enumerate(map)  \n",
    "              for index_c, element in enumerate(row) if not element] # locations where the values are false ie the path\n",
    "    \n",
    "    current_distance = 0\n",
    "    distances = [[None for col in range(len(map[0]))] for row in range(len(map))] # Distance matrix\n",
    "    distances[start[0]][start[1]] = 0 #initial starting position\n",
    "    \n",
    "    \n",
    "    while True:\n",
    "        wavefront = [coord for coord in coords if distances[coord[0]][coord[1]] == current_distance] #identifying the \n",
    "        print (wavefront)\n",
    "        if not wavefront:\n",
    "            break\n",
    "        current_distance += 1\n",
    "        for node in wavefront:\n",
    "            neighbours = [coord for coord in coords if (abs(node[0] - coord[0]) + abs(node[1] - coord[1])) == 1]\n",
    "            for n in neighbours:\n",
    "                if distances[n[0]][n[1]] is None:\n",
    "                    distances[n[0]][n[1]] = current_distance\n",
    "    return distances[end[0]][end[1]]\n",
    "\n",
    "find_route(map, (3, 0), (0, 0))"
   ]
  },
  {
   "cell_type": "markdown",
   "metadata": {},
   "source": [
    "# Day 24\n",
    "\n",
    "This problem was asked by Google.\n",
    "\n",
    "Implement locking in a binary tree. A binary tree node can be locked or unlocked only if all of its descendants or ancestors are not locked.\n",
    "\n",
    "Design a binary tree node class with the following methods:\n",
    "\n",
    "- is_locked, which returns whether the node is locked\n",
    "\n",
    "- lock, which attempts to lock the node. If it cannot be locked, then it should return false. Otherwise, it should lock it and return true.\n",
    "\n",
    "- unlock, which unlocks the node. If it cannot be unlocked, then it should return false. Otherwise, it should unlock it and return true.\n",
    "\n",
    "You may augment the node to add parent pointers or any other property you would like. You may assume the class is used in a single-threaded program, so there is no need for actual locks or mutexes. Each method should run in O(h), where h is the height of the tree."
   ]
  },
  {
   "cell_type": "code",
   "execution_count": 19,
   "metadata": {},
   "outputs": [],
   "source": [
    "\n",
    "\n",
    "class LockingBinaryTreeNode(object):\n",
    "\n",
    "    def __init__(self, p, l=None, r=None):\n",
    "        self.left = l\n",
    "        self.right = r\n",
    "        self.parent = p\n",
    "        self.lock = False\n",
    "        \n",
    "    def is_locked(self):\n",
    "        return self.lock\n",
    "    \n",
    "    def can_lock(self):\n",
    "        walk_up = self\n",
    "        while walk_up:\n",
    "            if walk_up.lock:\n",
    "                return False\n",
    "            walk_up = walk_up.parent\n",
    "        return self.recursive_walk_down(self.left) and self.recursive_walk_down(self.right)\n",
    "\n",
    "    @staticmethod\n",
    "    def recursive_walk_down(node):\n",
    "\n",
    "        if node is None:\n",
    "            return True\n",
    "\n",
    "        if node.lock:\n",
    "            return False\n",
    "\n",
    "        return LockingBinaryTreeNode.recursive_walk_down(node.left) and \\\n",
    "               LockingBinaryTreeNode.recursive_walk_down(node.right)\n",
    "\n",
    "    def set_lock_state(self, lock_state):\n",
    "        success = self.can_lock()\n",
    "        if success:\n",
    "            self.lock = lock_state\n",
    "        return success\n",
    "\n",
    "    def lock(self):\n",
    "        return self.set_lock_state(True)\n",
    "\n",
    "    def unlock(self):\n",
    "        return self.set_lock_state(False)"
   ]
  },
  {
   "cell_type": "markdown",
   "metadata": {},
   "source": [
    "# Day 25\n",
    "\n",
    "This problem was asked by Facebook.\n",
    "\n",
    "Implement regular expression matching with the following special characters:\n",
    "\n",
    ". (period) which matches any single character\n",
    "\n",
    "* (asterisk) which matches zero or more of the preceding element\n",
    "\n",
    "That is, implement a function that takes in a string and a valid regular expression and returns whether or not the string matches the regular expression.\n",
    "\n",
    "For example, given the regular expression \"ra.\" and the string \"ray\", your function should return true. The same regular expression on the string \"raymond\" should return false.\n",
    "\n",
    "Given the regular expression \".*at\" and the string \"chat\", your function should return true. The same regular expression on the string \"chats\" should return false."
   ]
  },
  {
   "cell_type": "code",
   "execution_count": 59,
   "metadata": {},
   "outputs": [],
   "source": [
    "# exp = input ()\n",
    "# string = input()\n",
    "# buff = string\n",
    "\n",
    "def re(exp, string):\n",
    "\n",
    "    while exp and string:\n",
    "        print (exp, string)        \n",
    "        if len(exp) >= 2 and exp[1] == '*':\n",
    "            for i in range(len(string)):\n",
    "                if re(''.join(exp[0] * i) + exp[2:], string):\n",
    "                    return True\n",
    "            return False\n",
    "        else:\n",
    "            if exp[0] != string[0] and exp[0] != '.':\n",
    "                print ('found')\n",
    "                return False\n",
    "        \n",
    "\n",
    "        exp, string = exp [1:], string [1:]\n",
    "     \n",
    "    if not string and not exp:\n",
    "        return True\n",
    "        \n",
    "    "
   ]
  },
  {
   "cell_type": "code",
   "execution_count": 60,
   "metadata": {},
   "outputs": [
    {
     "name": "stdout",
     "output_type": "stream",
     "text": [
      "ra.*d raymond\n",
      "a.*d aymond\n",
      ".*d ymond\n",
      "d ymond\n",
      "found\n",
      ".d ymond\n",
      "d mond\n",
      "found\n",
      "..d ymond\n",
      ".d mond\n",
      "d ond\n",
      "found\n",
      "...d ymond\n",
      "..d mond\n",
      ".d ond\n",
      "d nd\n",
      "found\n",
      "....d ymond\n",
      "...d mond\n",
      "..d ond\n",
      ".d nd\n",
      "d d\n"
     ]
    },
    {
     "data": {
      "text/plain": [
       "True"
      ]
     },
     "execution_count": 60,
     "metadata": {},
     "output_type": "execute_result"
    }
   ],
   "source": [
    "re('ra.*d', 'raymond')"
   ]
  },
  {
   "cell_type": "markdown",
   "metadata": {},
   "source": [
    "-----"
   ]
  },
  {
   "cell_type": "markdown",
   "metadata": {},
   "source": [
    "# Day 26\n",
    "\n",
    "This problem was asked by Google.\n",
    "\n",
    "Given a singly linked list and an integer k, remove the kth last element from the list. k is guaranteed to be smaller than the length of the list.\n",
    "\n",
    "The list is very long, so making more than one pass is prohibitively expensive.\n",
    "\n",
    "Do this in constant space and in one pass.\n",
    "\n",
    "#incomplete"
   ]
  },
  {
   "cell_type": "code",
   "execution_count": 95,
   "metadata": {},
   "outputs": [],
   "source": [
    "class node(object):\n",
    "    \n",
    "    def __init__(self, val = None, nex = None):\n",
    "        self.val = val\n",
    "        self.next = nex\n",
    "        \n",
    "    def add(self, a):\n",
    "        e = self\n",
    "        while e.val is not None:\n",
    "            e = e.next\n",
    "        \n",
    "        e = node(a[0])\n",
    "        for i in a[1:]:\n",
    "            e.next = node(i, None)\n",
    "            e.next = e.next\n",
    "            print(i)\n",
    "\n",
    "    def traverse(self):\n",
    "        a = self\n",
    "        print (a.val)\n",
    "        a = a.next\n",
    "        \n",
    "\n",
    "        \n",
    "        "
   ]
  },
  {
   "cell_type": "code",
   "execution_count": 96,
   "metadata": {},
   "outputs": [
    {
     "name": "stdout",
     "output_type": "stream",
     "text": [
      "1\n",
      "2\n",
      "3\n",
      "4\n",
      "5\n",
      "6\n",
      "7\n",
      "8\n",
      "9\n",
      "None\n"
     ]
    }
   ],
   "source": [
    "a = node()\n",
    "a.add(list(range(10)))\n",
    "\n",
    "a.traverse()"
   ]
  },
  {
   "cell_type": "markdown",
   "metadata": {},
   "source": [
    "-----"
   ]
  },
  {
   "cell_type": "markdown",
   "metadata": {},
   "source": [
    "# Day 27\n",
    "\n",
    "This problem was asked by Facebook.\n",
    "\n",
    "Given a string of round, curly, and square open and closing brackets, return whether the brackets are balanced (well-formed).\n",
    "\n",
    "For example, given the string \"([])[]({})\", you should return true.\n",
    "\n",
    "Given the string \"([)]\" or \"((()\", you should return false."
   ]
  },
  {
   "cell_type": "code",
   "execution_count": 179,
   "metadata": {},
   "outputs": [],
   "source": [
    "string = \"([])[]({(})\"\n",
    "\n",
    "brackets = {\")\":\"(\", \"}\":\"{\", \"]\":\"[\"} # dictionary to lookup the corresponding opening brackets"
   ]
  },
  {
   "cell_type": "code",
   "execution_count": 180,
   "metadata": {},
   "outputs": [],
   "source": [
    "def check(string):\n",
    "    stack = [] # used to store the brackets \n",
    "    for i in string:\n",
    "        if i in '({[':\n",
    "            stack.append(i) # stored in the order they are coming in and popped from the end\n",
    "        elif i in ']})':\n",
    "            if brackets[i] not in stack[-1:]: # check corresponding opening bracket with that in the stack\n",
    "                return False\n",
    "            stack = stack[:-1]\n",
    "        else:\n",
    "            pass\n",
    "    return True\n",
    "        "
   ]
  },
  {
   "cell_type": "code",
   "execution_count": 181,
   "metadata": {},
   "outputs": [
    {
     "data": {
      "text/plain": [
       "False"
      ]
     },
     "execution_count": 181,
     "metadata": {},
     "output_type": "execute_result"
    }
   ],
   "source": [
    "check(string)"
   ]
  },
  {
   "cell_type": "markdown",
   "metadata": {},
   "source": [
    "-----"
   ]
  },
  {
   "cell_type": "markdown",
   "metadata": {},
   "source": [
    "# Day 28\n",
    "This problem was asked by Palantir.\n",
    "\n",
    "Write an algorithm to justify text. Given a sequence of words and an integer line length k, return a list of strings which represents each line, fully justified.\n",
    "\n",
    "More specifically, you should have as many words as possible in each line. There should be at least one space between each word. Pad extra spaces when necessary so that each line has exactly length k. Spaces should be distributed as equally as possible, with the extra spaces, if any, distributed starting from the left.\n",
    "\n",
    "If you can only fit one word on a line, then you should pad the right-hand side with spaces.\n",
    "\n",
    "Each word is guaranteed not to be longer than k.\n",
    "\n",
    "For example, given the list of words [\"the\", \"quick\", \"brown\", \"fox\", \"jumps\", \"over\", \"the\", \"lazy\", \"dog\"] and k = 16, you should return the following:\n",
    "\n",
    "[\"the  quick brown\", # 1 extra space on the left\n",
    "\"fox  jumps  over\", # 2 extra spaces distributed evenly\n",
    "\"the   lazy   dog\"] # 4 extra spaces distributed evenly\n"
   ]
  },
  {
   "cell_type": "code",
   "execution_count": 31,
   "metadata": {},
   "outputs": [],
   "source": [
    "string = [\"the\", \"quick\", \"brown\", \"fox\", \"jumps\", \"over\", \"the\", \"lazy\", \"dog\"]\n",
    "s = ' '.join(string) # one long string\n",
    "length  = 16 # line lenght\n",
    "\n",
    "\n",
    "def split_to_lines(s):\n",
    "    out = []\n",
    "    while len(s) > length:\n",
    "        end = s.rindex(\" \",0,16)\n",
    "        out.append(s[:end]) \n",
    "        s = s[end:].lstrip()\n",
    "    out.append(s)\n",
    "    return out\n",
    "\n",
    "mat = split_to_lines(s)\n",
    "new_mat = []\n",
    "\n",
    "for h, i in enumerate(mat): # adding the spaces\n",
    "    missing_char = length - len(i)\n",
    "    no_of_spaces = i.count(' ')\n",
    "    \n",
    "    if not missing_char % no_of_spaces:\n",
    "        new_mat.append(i.replace(' ', ' ' * ((missing_char//no_of_spaces)+1)))\n",
    "    else:\n",
    "        start = 0\n",
    "        while missing_char > 0:\n",
    "            start = i.find(' ',start)-1\n",
    "            new_mat.append(i[:start]+ i[start:].replace(' ','  ',1))\n",
    "            missing_char -= 1\n",
    "        \n",
    "    \n",
    "def check(o):\n",
    "    print (\"test\")\n",
    "    for i in o:\n",
    "        print (i, \":\", len(i))"
   ]
  },
  {
   "cell_type": "code",
   "execution_count": 32,
   "metadata": {},
   "outputs": [
    {
     "name": "stdout",
     "output_type": "stream",
     "text": [
      "test\n",
      "the  quick brown : 16\n",
      "fox  jumps  over : 16\n",
      "the   lazy   dog : 16\n"
     ]
    }
   ],
   "source": [
    "check(new_mat)"
   ]
  },
  {
   "cell_type": "markdown",
   "metadata": {},
   "source": [
    "-----"
   ]
  },
  {
   "cell_type": "markdown",
   "metadata": {},
   "source": [
    "# Day 29\n",
    "\n",
    "This problem was asked by Amazon.\n",
    "\n",
    "Run-length encoding is a fast and simple method of encoding strings. The basic idea is to represent repeated successive characters as a single count and character. For example, the string \"AAAABBBCCDAA\" would be encoded as \"4A3B2C1D2A\".\n",
    "\n",
    "Implement run-length encoding and decoding. You can assume the string to be encoded have no digits and consists solely of alphabetic characters. You can assume the string to be decoded is valid."
   ]
  },
  {
   "cell_type": "code",
   "execution_count": 30,
   "metadata": {},
   "outputs": [],
   "source": [
    "string = \"AAAABBBCCDAA\"\n",
    "\n",
    "def encode(string):\n",
    "    out = [] # holds output\n",
    "    while string: #characters still left to encode\n",
    "        count = 1\n",
    "        i = string[0] \n",
    "        j = 1\n",
    "        while j < len(string) and string[j] == i: #same characters\n",
    "            count += 1\n",
    "            j += 1\n",
    "        out.append(str(count)+str(i))\n",
    "        string = string[count:]\n",
    "    out = ''.join(out)\n",
    "    print (out)\n",
    "            \n",
    "        "
   ]
  },
  {
   "cell_type": "code",
   "execution_count": 31,
   "metadata": {},
   "outputs": [
    {
     "name": "stdout",
     "output_type": "stream",
     "text": [
      "4A3B2C1D2A\n"
     ]
    }
   ],
   "source": [
    "encode(string)"
   ]
  },
  {
   "cell_type": "markdown",
   "metadata": {},
   "source": [
    "-----"
   ]
  },
  {
   "cell_type": "markdown",
   "metadata": {},
   "source": [
    "# Day 30\n",
    "\n",
    "This problem was asked by Facebook.\n",
    "\n",
    "You are given an array of non-negative integers that represents a two-dimensional elevation map where each element is unit-width wall and the integer is the height. Suppose it will rain and all spots between two walls get filled up.\n",
    "\n",
    "Compute how many units of water remain trapped on the map in O(N) time and O(1) space.\n",
    "\n",
    "For example, given the input [2, 1, 2], we can hold 1 unit of water in the middle.\n",
    "\n",
    "Given the input [3, 0, 1, 3, 0, 5], we can hold 3 units in the first index, 2 in the second, and 3 in the fourth index (we cannot hold 5 since it would run off to the left), so we can trap 8 units of water."
   ]
  },
  {
   "cell_type": "code",
   "execution_count": 143,
   "metadata": {},
   "outputs": [
    {
     "name": "stdout",
     "output_type": "stream",
     "text": [
      "area for  [3, 0, 1, 3, 0, 5] 8\n"
     ]
    },
    {
     "data": {
      "text/plain": [
       "8"
      ]
     },
     "execution_count": 143,
     "metadata": {},
     "output_type": "execute_result"
    }
   ],
   "source": [
    "# area is area of the largest rectangle formed by the 2 largest sides - the wall area\n",
    "\n",
    "edges = [3, 0, 1, 3, 0, 5]\n",
    "# edges = [2,1,2]\n",
    "\n",
    "def cal_area(list_d):\n",
    "    a = 0\n",
    "    ht = min(list_d[0],list_d[-1])\n",
    "    for i in list_d[1:-1]:\n",
    "        a += ht - i\n",
    "    print(\"area for \", list_d, a)\n",
    "    return a\n",
    "\n",
    "def find_area(edges, area):\n",
    "#     print(edges, area)\n",
    "    if len(edges) < 3: # not enough space to hold liquid\n",
    "        return 0\n",
    "    sorted_edges = sorted([(e, i) for i, e in enumerate(edges)], key = lambda x:x[0], reverse = True) #sorting by size of edge while maintaining edge position\n",
    "    largest = sorted_edges[0]\n",
    "    s_largest = max([(e, i) for (e,i) in sorted_edges[1:] if e == sorted_edges[1][0]],key = lambda x : largest[1] - x[1]) #second largest but also the most distant from the largest in case there are multiple of same size\n",
    "    \n",
    "    start , end = min(largest[1],s_largest[1]), max(largest[1],s_largest[1]) # bounds of liq containing walls\n",
    "    \n",
    "    area += cal_area(edges[start:end+1])\n",
    "    \n",
    "    area += find_area(list(edges[:start])+list(edges[end:]), area)\n",
    "    \n",
    "    return area\n",
    "    \n",
    "find_area(edges, 0)\n",
    "\n",
    "\n"
   ]
  },
  {
   "cell_type": "code",
   "execution_count": 196,
   "metadata": {},
   "outputs": [
    {
     "name": "stdout",
     "output_type": "stream",
     "text": [
      "5 [] 0\n",
      "5 [(0, 5)] 0\n",
      "5 [(0, 5), (1, 5)] 0\n",
      "5 [(0, 5), (1, 5), (3, 5)] 0\n",
      "5 [(0, 5), (1, 5), (3, 5), (0, 5)] 0\n",
      "5 [] 16\n"
     ]
    },
    {
     "data": {
      "text/plain": [
       "16"
      ]
     },
     "execution_count": 196,
     "metadata": {},
     "output_type": "execute_result"
    }
   ],
   "source": [
    "# smarter implementation\n",
    "\n",
    "# area = list_edges[0]\n",
    "\n",
    "list_edges = [2,1,2]\n",
    "list_edges = [5, 0, 1, 3, 0, 5]\n",
    "\n",
    "sorted_edges = sorted([(e,i) for i,e in enumerate(list_edges)], reverse = True)\n",
    "if \n",
    "# print(sorted_edges)\n",
    "\n",
    "def find_area(list_edges):\n",
    "    a = 0\n",
    "    left_edge = 0\n",
    "    right_edge = 0\n",
    "    buff = []\n",
    "\n",
    "    for i in list_edges:\n",
    "        if not left_edge:\n",
    "            left_edge = i\n",
    "        elif i >= left_edge:\n",
    "            a += sum([left_edge-i for i, left_edge in buff])\n",
    "            left_edge = i \n",
    "            buff = []\n",
    "        elif i < left_edge:\n",
    "            buff.append((i, left_edge))\n",
    "\n",
    "        print (left_edge, buff, a)\n",
    "    if buff:\n",
    "        list_edges.reverse()\n",
    "        return find_area(list_edges)\n",
    "    return a\n",
    "    \n",
    "find_area(list_edges)    \n",
    "# print (buff, a)    "
   ]
  },
  {
   "cell_type": "code",
   "execution_count": 197,
   "metadata": {},
   "outputs": [
    {
     "data": {
      "text/plain": [
       "[(5, 5), (5, 0), (3, 3), (1, 2), (0, 4), (0, 1)]"
      ]
     },
     "execution_count": 197,
     "metadata": {},
     "output_type": "execute_result"
    }
   ],
   "source": [
    "sorted_edges"
   ]
  },
  {
   "cell_type": "markdown",
   "metadata": {},
   "source": [
    "# Day 31\n",
    "\n",
    "This problem was asked by Google.\n",
    "\n",
    "The edit distance between two strings refers to the minimum number of character insertions, deletions, and substitutions required to change one string to the other. For example, the edit distance between “kitten” and “sitting” is three: substitute the “k” for “s”, substitute the “e” for “i”, and append a “g”.\n",
    "\n",
    "Given two strings, compute the edit distance between them."
   ]
  },
  {
   "cell_type": "code",
   "execution_count": 232,
   "metadata": {},
   "outputs": [
    {
     "name": "stdout",
     "output_type": "stream",
     "text": [
      "distance between kitten sitting\n",
      "k s\n",
      "e i\n",
      "append g\n",
      "distance between kitten sitting is:  1\n",
      "distance between aaaaaaaaa aaaaaddda\n",
      "a d\n",
      "a d\n",
      "a d\n",
      "substitute a with  d\n",
      "distance between aaaaaaaaa aaaaaddda is:  1\n",
      "distance between a cat\n",
      "a c\n",
      "append a\n",
      "append t\n",
      "distance between a cat is:  2\n"
     ]
    }
   ],
   "source": [
    "a = 'kitten'\n",
    "b = 'sitting'\n",
    "\n",
    "def distance (a, b):\n",
    "    print(\"distance between\", a , b)\n",
    "    c = 0\n",
    "\n",
    "    for i in range(len(b)):\n",
    "        \n",
    "        if i >= len(a): #longer than the given string\n",
    "            print(\"append\", b[i])\n",
    "            c += 1\n",
    "        \n",
    "        elif a[i] != b[i]:\n",
    "            print(a[i],b[i])\n",
    "        \n",
    "            if len(a)>len(b) and a[i+1] == b[i]:\n",
    "                print(\"delete \", a[i])\n",
    "                c += 1\n",
    "            \n",
    "            elif len(a) == len(b) and a[i+1] == b[i+1]:\n",
    "                print(\"substitute\", a[i], \"with \", b[i])\n",
    "                c += 1\n",
    "\n",
    "    print(\"distance between\", a , b, \"is: \",c)\n",
    "\n",
    "distance(a, b)\n",
    "\n",
    "\n",
    "distance (\"aaaaaaaaa\",\"aaaaaddda\")\n",
    "distance (\"a\",\"cat\")"
   ]
  },
  {
   "cell_type": "markdown",
   "metadata": {},
   "source": [
    "-----"
   ]
  },
  {
   "cell_type": "markdown",
   "metadata": {},
   "source": [
    "# Day 32\n",
    "\n",
    "This problem was asked by Jane Street.\n",
    "\n",
    "Suppose you are given a table of currency exchange rates, represented as a 2D array. Determine whether there is a possible arbitrage: that is, whether there is some sequence of trades you can make, starting with some amount A of any currency, so that you can end up with some amount greater than A of that currency.\n",
    "\n",
    "There are no transaction costs and you can trade fractional quantities.\n",
    "\n",
    "#new #graphs #Bellman-Ford"
   ]
  },
  {
   "cell_type": "code",
   "execution_count": 233,
   "metadata": {},
   "outputs": [],
   "source": [
    "# graphs used to hold the conversions\n",
    "# using bellman-ford algo to cal min distance between two nodes.\n",
    "# -------------\n",
    "# If we take the negative log of the edge weights, the problem of \n",
    "# finding a cumulative product that’s greater than 1 turns into \n",
    "# the problem of finding a negative sum cycle!\n",
    "\n",
    "# For example, say we have a weighted edge path a -> b -> c -> d. \n",
    "# Since we want to see if a * b * c * d > 1, we’ll take the \n",
    "# negative log of each edge:\n",
    "\n",
    "# -log(a) -> -log(b) -> -log(c) -> -log(d).\n",
    "\n",
    "# The total cost of this path will then be\n",
    "\n",
    "# -(log(a) + log(b) + log(c) + log(d)) = -log(a * b * c * d).\n",
    "\n",
    "# -log(x) < 0 if x is greater than 1, so that’s why if we have a \n",
    "# negative cost cycle, if means that the product of the weighted \n",
    "# edges is bigger than 1.\n",
    "    \n",
    "    \n",
    "    pass # for now\n",
    "    graph = {\n",
    "        'a': {'b': -1, 'c':  4},\n",
    "        'b': {'c':  3, 'd':  2, 'e':  2},\n",
    "        'c': {},\n",
    "        'd': {'b':  1, 'c':  5},\n",
    "        'e': {'d': -3}\n",
    "        }"
   ]
  },
  {
   "cell_type": "code",
   "execution_count": 235,
   "metadata": {},
   "outputs": [],
   "source": [
    "\n",
    "from math import log\n"
   ]
  },
  {
   "cell_type": "code",
   "execution_count": 237,
   "metadata": {},
   "outputs": [
    {
     "data": {
      "text/plain": [
       "-2.3025850929940455"
      ]
     },
     "execution_count": 237,
     "metadata": {},
     "output_type": "execute_result"
    }
   ],
   "source": [
    "log(.10)"
   ]
  },
  {
   "cell_type": "markdown",
   "metadata": {},
   "source": [
    "# Day 33\n",
    "\n",
    "This problem was asked by Microsoft.\n",
    "\n",
    "Compute the running median of a sequence of numbers. That is, given a stream of numbers, print out the median of the list so far on each new element.\n",
    "\n",
    "Recall that the median of an even-numbered list is the average of the two middle numbers.\n",
    "\n",
    "For example, given the sequence [2, 1, 5, 7, 2, 0, 5], your algorithm should print out:\n",
    "\n",
    "2\n",
    "\n",
    "1.5\n",
    "\n",
    "2\n",
    "\n",
    "3.5\n",
    "\n",
    "2\n",
    "\n",
    "2\n",
    "\n",
    "2"
   ]
  },
  {
   "cell_type": "code",
   "execution_count": 260,
   "metadata": {},
   "outputs": [
    {
     "name": "stdout",
     "output_type": "stream",
     "text": [
      "2\n",
      "1.5\n",
      "2\n",
      "3.5\n",
      "2\n",
      "2\n",
      "2\n"
     ]
    }
   ],
   "source": [
    "from statistics import median, mean\n",
    "\n",
    "list = [2, 1, 5, 7, 2, 0, 5]\n",
    "buff = []\n",
    "\n",
    "for i, l in enumerate(list):\n",
    "    buff.append(l)\n",
    "    buff.sort()\n",
    "    if i % 2 == 1: #even elements\n",
    "        print(mean([buff[i//2], buff[(i//2)+1]]))\n",
    "    else:\n",
    "        print(buff[i//2])"
   ]
  },
  {
   "cell_type": "markdown",
   "metadata": {},
   "source": [
    "------"
   ]
  },
  {
   "cell_type": "markdown",
   "metadata": {},
   "source": [
    "# Day 34\n",
    "\n",
    "\n",
    "Good morning. Here's your coding interview problem for today.\n",
    "\n",
    "This problem was asked by Quora.\n",
    "\n",
    "Given a string, find the palindrome that can be made by inserting the fewest number of characters as possible anywhere in the word. If there is more than one palindrome of minimum length that can be made, return the lexicographically earliest one (the first one alphabetically).\n",
    "\n",
    "For example, given the string \"race\", you should return \"ecarace\", since we can add three letters to it (which is the smallest amount to make a palindrome). There are seven other palindromes that can be made from \"race\" by adding three letters, but \"ecarace\" comes first alphabetically."
   ]
  },
  {
   "cell_type": "code",
   "execution_count": 272,
   "metadata": {},
   "outputs": [
    {
     "ename": "TypeError",
     "evalue": "'list' object is not callable",
     "output_type": "error",
     "traceback": [
      "\u001b[0;31m---------------------------------------------------------------------------\u001b[0m",
      "\u001b[0;31mTypeError\u001b[0m                                 Traceback (most recent call last)",
      "\u001b[0;32m<ipython-input-272-1997b9ad4a1f>\u001b[0m in \u001b[0;36m<module>\u001b[0;34m()\u001b[0m\n\u001b[1;32m     12\u001b[0m     \u001b[0mtest\u001b[0m \u001b[0;34m=\u001b[0m \u001b[0mstring\u001b[0m \u001b[0;34m+\u001b[0m \u001b[0;34m'.'\u001b[0m \u001b[0;34m*\u001b[0m \u001b[0madd\u001b[0m\u001b[0;34m\u001b[0m\u001b[0m\n\u001b[1;32m     13\u001b[0m \u001b[0;34m\u001b[0m\u001b[0m\n\u001b[0;32m---> 14\u001b[0;31m     \u001b[0mprint\u001b[0m\u001b[0;34m(\u001b[0m\u001b[0mlist\u001b[0m\u001b[0;34m(\u001b[0m\u001b[0mit\u001b[0m\u001b[0;34m.\u001b[0m\u001b[0mcombinations\u001b[0m\u001b[0;34m(\u001b[0m\u001b[0mtest\u001b[0m\u001b[0;34m,\u001b[0m \u001b[0mlen\u001b[0m\u001b[0;34m(\u001b[0m\u001b[0mtest\u001b[0m\u001b[0;34m)\u001b[0m\u001b[0;34m)\u001b[0m\u001b[0;34m)\u001b[0m\u001b[0;34m)\u001b[0m\u001b[0;34m\u001b[0m\u001b[0m\n\u001b[0m\u001b[1;32m     15\u001b[0m     \u001b[0;32mbreak\u001b[0m\u001b[0;34m\u001b[0m\u001b[0m\n\u001b[1;32m     16\u001b[0m \u001b[0;34m\u001b[0m\u001b[0m\n",
      "\u001b[0;31mTypeError\u001b[0m: 'list' object is not callable"
     ]
    }
   ],
   "source": [
    "\n",
    "import re\n",
    "from itertools import *\n",
    "\n",
    "string = \"race\"\n",
    "l = len(string)\n",
    "\n",
    "add = 1 if l % 2 == 0 else 2\n",
    "\n",
    "while True:\n",
    "    \n",
    "    test = string + '.' * add\n",
    "    \n",
    "    print(it.combinations(test, len(test)))\n",
    "    break\n",
    "    \n",
    "    \n",
    "    \n",
    "    \n",
    "    "
   ]
  },
  {
   "cell_type": "code",
   "execution_count": null,
   "metadata": {},
   "outputs": [],
   "source": [
    "import re\n",
    "\n",
    "a = ''"
   ]
  }
 ],
 "metadata": {
  "kernelspec": {
   "display_name": "Python 3",
   "language": "python",
   "name": "python3"
  },
  "language_info": {
   "codemirror_mode": {
    "name": "ipython",
    "version": 3
   },
   "file_extension": ".py",
   "mimetype": "text/x-python",
   "name": "python",
   "nbconvert_exporter": "python",
   "pygments_lexer": "ipython3",
   "version": "3.6.5"
  }
 },
 "nbformat": 4,
 "nbformat_minor": 2
}
