{
 "cells": [
  {
   "cell_type": "markdown",
   "metadata": {},
   "source": [
    "# Day 1 \n",
    "\n",
    "Given a list of numbers, return whether any two sums to k.\n",
    "\n",
    "For example, given [10, 15, 3, 7] and k of 17, return true since 10 + 7 is 17.\n",
    "\n",
    "Bonus: Can you do this in one pass?"
   ]
  },
  {
   "cell_type": "code",
   "execution_count": 1,
   "metadata": {},
   "outputs": [
    {
     "name": "stdout",
     "output_type": "stream",
     "text": [
      "Enter the number you want to test: 17\n",
      "enter list of numbers separated by \" \": 10 5 6 7 3\n",
      "True:  10 7\n"
     ]
    }
   ],
   "source": [
    "\n",
    "k = int(input('Enter the number you want to test: '))\n",
    "c = list(map(int, input('enter list of numbers separated by \" \": ').rstrip().split()))\n",
    "flag = False \n",
    "for i in c: #single run\n",
    "    temp = k - i\n",
    "    if temp in c:\n",
    "        flag = True\n",
    "        break\n",
    "if flag:\n",
    "    print(\"True: \", i, temp)\n",
    "else:\n",
    "    print(\"False\")\n",
    "        "
   ]
  },
  {
   "cell_type": "markdown",
   "metadata": {},
   "source": [
    "-----"
   ]
  },
  {
   "cell_type": "markdown",
   "metadata": {},
   "source": [
    "# Day 2\n",
    "\n",
    "This problem was asked by Uber.\n",
    "\n",
    "Given an array of integers, return a new array such that each element at index i of the new array is the product of all the numbers in the original array except the one at i.\n",
    "\n",
    "For example, if our input was [1, 2, 3, 4, 5], the expected output would be [120, 60, 40, 30, 24]. If our input was [3, 2, 1], the expected output would be [2, 3, 6].\n",
    "\n",
    "Follow-up: what if you can't use division?"
   ]
  },
  {
   "cell_type": "code",
   "execution_count": 9,
   "metadata": {},
   "outputs": [
    {
     "name": "stdout",
     "output_type": "stream",
     "text": [
      "enter the list of numbers:  1 2 3 4\n",
      "Using division:\n",
      "[24, 12, 8, 6]\n",
      "No division:\n",
      "[24, 12, 8, 6]\n"
     ]
    }
   ],
   "source": [
    "\n",
    "\n",
    "def mul(c, n = -1):\n",
    "    temp = c[:]\n",
    "    r = 1\n",
    "    if (n != -1):\n",
    "        temp[n] = 1\n",
    "    for x in temp:\n",
    "        r *= x\n",
    "    return r\n",
    "\n",
    "if __name__ == '__main__':\n",
    "    c = list(map(int,input(\"enter the list of numbers:  \").rstrip().split()))\n",
    "\n",
    "    # using division\n",
    "    print('Using division:')\n",
    "\n",
    "    c2 = []\n",
    "    for i,n in enumerate(c):\n",
    "        c2.append(mul(c) // n)  \n",
    "    print(c2)\n",
    "\n",
    "    # without division\n",
    "    print('No division:')\n",
    "\n",
    "    c3 = []\n",
    "    for j in range(len(c)):\n",
    "        c3.append(mul(c, j))\n",
    "#         print (j, c3, c)\n",
    "\n",
    "    print(c3)"
   ]
  },
  {
   "cell_type": "markdown",
   "metadata": {},
   "source": [
    "---------"
   ]
  },
  {
   "cell_type": "markdown",
   "metadata": {},
   "source": [
    "# Day 3\n",
    "\n",
    "This problem was asked by Google.\n",
    "\n",
    "Given the root to a binary tree, implement serialize(root), which serializes the tree into a string, and deserialize(s), which deserializes the string back into the tree."
   ]
  },
  {
   "cell_type": "code",
   "execution_count": 15,
   "metadata": {},
   "outputs": [
    {
     "name": "stdout",
     "output_type": "stream",
     "text": [
      "Serialized:  [1, 3, 6, -1, -1, -1, 4, 7, -1, -1, 8, -1, -1]\n",
      "Deserialized: \n",
      "1\n",
      "3\n",
      "6\n",
      "4\n",
      "7\n",
      "8\n"
     ]
    }
   ],
   "source": [
    "class Node():\n",
    "    def __init__(self, value):\n",
    "        self.left = None\n",
    "        self.right = None\n",
    "        self.value = value\n",
    "\n",
    "\"\"\"\n",
    "dummy tree\n",
    "          1\n",
    "         / \\\n",
    "        3   4\n",
    "       /   / \\\n",
    "      6   7   8\n",
    "\"\"\"\n",
    "\n",
    "BT = Node(1)\n",
    "BT.left = Node(3)\n",
    "BT.left.left = Node(6)\n",
    "BT.right = Node(4)\n",
    "BT.right.left = Node(7)\n",
    "BT.right.right = Node(8)\n",
    "\n",
    "def serialize_bt(root, serial):\n",
    "    if root != None:\n",
    "        serial.append(root.value)\n",
    "        serialize_bt(root.left, serial)\n",
    "        serialize_bt(root.right, serial)\n",
    "    else:\n",
    "        serial.append(-1)\n",
    "    return serial\n",
    "\n",
    "def deserialize_bt(newRoot, serial):\n",
    "    if serial[0] == -1:\n",
    "        serial.pop(0)\n",
    "    else:\n",
    "        if len(serial) > 0:\n",
    "            newRoot = Node(serial.pop(0))\n",
    "            print(newRoot.value)\n",
    "            deserialize(newRoot.left, serial)\n",
    "            deserialize(newRoot.right, serial)\n",
    "\n",
    "if __name__ == '__main__':\n",
    "    serial = serialize_bt(BT,[])\n",
    "    print('Serialized: ', serial)\n",
    "    print('Deserialized: ')\n",
    "    newRoot = Node(None)\n",
    "    deserialize_bt(newRoot, serial)\n",
    "\n",
    "        "
   ]
  },
  {
   "cell_type": "markdown",
   "metadata": {},
   "source": [
    "----"
   ]
  },
  {
   "cell_type": "markdown",
   "metadata": {},
   "source": [
    "# Day 4\n",
    "\n",
    "This problem was asked by Stripe.\n",
    "\n",
    "Given an array of integers, find the first missing positive integer in linear time and constant space. In other words, find the lowest positive integer that does not exist in the array. The array can contain duplicates and negative numbers as well.\n",
    "\n",
    "For example, the input [3, 4, -1, 1] should give 2. The input [1, 2, 0] should give 3.\n",
    "\n",
    "You can modify the input array in-place."
   ]
  },
  {
   "cell_type": "code",
   "execution_count": 29,
   "metadata": {},
   "outputs": [
    {
     "name": "stdout",
     "output_type": "stream",
     "text": [
      "Input list of numbers: 3 4 -1 1\n",
      "2\n"
     ]
    }
   ],
   "source": [
    "c = list(map(int,input('Input list of numbers: ').rstrip().split()))\n",
    "\n",
    "x = sorted(c)\n",
    "flag = False\n",
    "for i,n in enumerate(x[1:]):\n",
    "    if n > 0 and n-1 != x[i]:\n",
    "        print(n+1)\n",
    "        flag = True\n",
    "        break\n",
    "if not flag:\n",
    "    print(n+1)"
   ]
  },
  {
   "cell_type": "markdown",
   "metadata": {},
   "source": [
    "----"
   ]
  },
  {
   "cell_type": "markdown",
   "metadata": {},
   "source": [
    "# Day 5\n",
    "This problem was asked by Jane Street.\n",
    "\n",
    "cons(a, b) constructs a pair, and car(pair) and cdr(pair) returns the first and last element of that pair. For example, car(cons(3, 4)) returns 3, and cdr(cons(3, 4)) returns 4.\n",
    "\n",
    "Given this implementation of cons:\n",
    "\n",
    "def cons(a, b):\n",
    "    return lambda f : f(a, b)\n",
    "Implement car and cdr.\n",
    "\n",
    "### link on lambda functions:\n",
    "https://medium.com/@happymishra66/lambda-map-and-filter-in-python-4935f248593"
   ]
  },
  {
   "cell_type": "code",
   "execution_count": 40,
   "metadata": {},
   "outputs": [
    {
     "name": "stdout",
     "output_type": "stream",
     "text": [
      "Input a and b separated by space: 1 2\n",
      "1\n",
      "2\n"
     ]
    }
   ],
   "source": [
    "def cons(a, b): return lambda f : f(a, b)\n",
    "\n",
    "def car(f): return f(lambda a, b: a)\n",
    "\n",
    "def cdr(f): return f(lambda a, b: b)\n",
    "\n",
    "a, b = (int(n) for n in input('Input a and b separated by space: ').split())\n",
    "print(car(cons(a, b)))\n",
    "print(cdr(cons(a, b)))\n",
    "\n"
   ]
  },
  {
   "cell_type": "markdown",
   "metadata": {},
   "source": [
    "-----"
   ]
  },
  {
   "cell_type": "markdown",
   "metadata": {},
   "source": [
    "# Day 6\n",
    "This problem was asked by Google.\n",
    "\n",
    "An XOR linked list is a more memory efficient doubly linked list. Instead of each node holding next and prev fields, it holds a field named both, which is an XOR of the next node and the previous node. Implement an XOR linked list; it has an add(element) which adds the element to the end, and a get(index) which returns the node at index.\n",
    "\n",
    "If using a language that has no pointers (such as Python), you can assume you have access to get_pointer and dereference_pointer functions that converts between nodes and memory addresses."
   ]
  },
  {
   "cell_type": "code",
   "execution_count": null,
   "metadata": {},
   "outputs": [],
   "source": []
  },
  {
   "cell_type": "markdown",
   "metadata": {},
   "source": [
    "-----"
   ]
  },
  {
   "cell_type": "markdown",
   "metadata": {},
   "source": [
    "# Day 7\n",
    "\n",
    "This problem was asked by Facebook.\n",
    "\n",
    "Given the mapping a = 1, b = 2, ... z = 26, and an encoded message, count the number of ways it can be decoded.\n",
    "\n",
    "For example, the message '111' would give 3, since it could be decoded as 'aaa', 'ka', and 'ak'.\n",
    "\n",
    "You can assume that the messages are decodable. For example, '001' is not allowed.\n",
    "\n",
    "### Dynamic programing"
   ]
  },
  {
   "cell_type": "code",
   "execution_count": 48,
   "metadata": {},
   "outputs": [
    {
     "name": "stdout",
     "output_type": "stream",
     "text": [
      "enter code: 34\n",
      "Count is  1\n"
     ]
    }
   ],
   "source": [
    "c = (input(\"enter code: \"))\n",
    "n = len(c)\n",
    "\n",
    "def decode(a, n):\n",
    "    count = [0] * (n+1) \n",
    "    count[0] = 1\n",
    "    count[1] = 1\n",
    "    \n",
    "    for i in range(2, n+1):\n",
    "        count[i] = 0\n",
    "        if (a[i-1] > '0'):\n",
    "            count[i] = count[i-1]\n",
    "        if (a[i-2] == '1' or (a[i-2] == '2' and a[i-1] < '7') ):\n",
    "            count[i] += count[i-2]\n",
    "     \n",
    "    return count[n]\n",
    "            \n",
    "\n",
    "print(\"Count is \",decode(c, n))"
   ]
  },
  {
   "cell_type": "markdown",
   "metadata": {},
   "source": [
    "----"
   ]
  },
  {
   "cell_type": "markdown",
   "metadata": {},
   "source": [
    "# Day 8\n",
    "\n",
    "This problem was asked by Google.\n",
    "\n",
    "A unival tree (which stands for \"universal value\") is a tree where all nodes under it have the same value.\n",
    "\n",
    "Given the root to a binary tree, count the number of unival subtrees.\n",
    "\n",
    "For example, the following tree has 5 unival subtrees:\n",
    "\n",
    "   0\n",
    "  / \\\n",
    " 1   0\n",
    "    / \\\n",
    "   1   0\n",
    "  / \\\n",
    " 1   1"
   ]
  },
  {
   "cell_type": "code",
   "execution_count": 1,
   "metadata": {},
   "outputs": [
    {
     "data": {
      "text/plain": [
       "(5, False)"
      ]
     },
     "execution_count": 1,
     "metadata": {},
     "output_type": "execute_result"
    }
   ],
   "source": [
    "\n",
    "# tree node\n",
    "\n",
    "class Node():\n",
    "    def __init__(self, value):\n",
    "        self.value = value\n",
    "        self.left = None\n",
    "        self.right = None\n",
    "\n",
    "# creating a tree\n",
    "t = Node(0)\n",
    "t.left = Node(1)\n",
    "t.right = Node(0)\n",
    "t.right.left = Node(1)\n",
    "t.right.right = Node(0)\n",
    "t.right.left.left = Node(1)\n",
    "t.right.left.right = Node(1)\n",
    "\n",
    "\n",
    "def cal_unival(root):\n",
    "    if root == None:\n",
    "        return 0, True\n",
    "    \n",
    "    left, is_left = cal_unival(root.left)\n",
    "    right, is_right = cal_unival(root.right)  \n",
    "    total_count = right + left\n",
    "    \n",
    "    if is_left and is_right:\n",
    "        if root.left != None and root.left.value != root.value:\n",
    "            return total_count, False\n",
    "        if root.right != None and root.right.value != root.value:\n",
    "            return total_count, False\n",
    "        return total_count+1, True\n",
    "    return total_count, False\n",
    "\n",
    "cal_unival(t)"
   ]
  },
  {
   "cell_type": "markdown",
   "metadata": {},
   "source": [
    "----"
   ]
  },
  {
   "cell_type": "markdown",
   "metadata": {},
   "source": [
    "# Day 9\n",
    "\n",
    "This problem was asked by Airbnb.\n",
    "\n",
    "Given a list of integers, write a function that returns the largest sum of non-adjacent numbers. Numbers can be 0 or negative.\n",
    "\n",
    "For example, [2, 4, 6, 8] should return 12, since we pick 4 and 8. [5, 1, 1, 5] should return 10, since we pick 5 and 5."
   ]
  },
  {
   "cell_type": "code",
   "execution_count": 36,
   "metadata": {},
   "outputs": [
    {
     "name": "stdout",
     "output_type": "stream",
     "text": [
      "Enter the list of nos. separated by space: 2 4 6 8 10\n"
     ]
    },
    {
     "data": {
      "text/plain": [
       "18"
      ]
     },
     "execution_count": 36,
     "metadata": {},
     "output_type": "execute_result"
    }
   ],
   "source": [
    "c = list(map(int,input('Enter the list of nos. separated by space: ').rstrip().split()))\n",
    "\n",
    "\n",
    "def find_max_sum(c):\n",
    "    incl = 0\n",
    "    excl = 0\n",
    "    \n",
    "    for i in c:\n",
    "         \n",
    "        new_excl = excl if excl>incl else incl\n",
    "\n",
    "        incl = excl + i\n",
    "        excl = new_excl\n",
    "     \n",
    "\n",
    "    return (excl if excl>incl else incl)\n",
    "    \n",
    "\n",
    "find_max_sum(c)\n",
    "    "
   ]
  },
  {
   "cell_type": "markdown",
   "metadata": {},
   "source": [
    "-----"
   ]
  },
  {
   "cell_type": "markdown",
   "metadata": {},
   "source": [
    "# Day 10\n",
    "\n",
    "This problem was asked by Apple.\n",
    "\n",
    "Implement a job scheduler which takes in a function f and an integer n, and calls f after n milliseconds."
   ]
  },
  {
   "cell_type": "markdown",
   "metadata": {},
   "source": [
    "----"
   ]
  },
  {
   "cell_type": "markdown",
   "metadata": {},
   "source": [
    "# Day 11\n",
    "\n",
    "This problem was asked by Twitter.\n",
    "\n",
    "Implement an autocomplete system. That is, given a query string s and a set of all possible query strings, return all strings in the set that have s as a prefix.\n",
    "\n",
    "For example, given the query string de and the set of strings [dog, deer, deal], return [deer, deal].\n",
    "\n",
    "Hint: Try preprocessing the dictionary into a more efficient data structure to speed up queries.\n",
    "\n",
    "-----\n",
    "\n",
    "### Trie data structure\n",
    "\n",
    "videos: https://www.youtube.com/watch?v=AXjmTQ8LEoI\n",
    "\n",
    "https://towardsdatascience.com/implementing-a-trie-data-structure-in-python-in-less-than-100-lines-of-code-a877ea23c1a1\n",
    "\n",
    "trie is a tree for characters\n",
    "\n",
    "implemenation : https://www.geeksforgeeks.org/trie-insert-and-search/\n",
    "\n",
    "### Learned the use of set().\n",
    "http://devdocs.io/python~3.6/library/stdtypes#frozenset.add\n"
   ]
  },
  {
   "cell_type": "code",
   "execution_count": 5,
   "metadata": {},
   "outputs": [
    {
     "name": "stdout",
     "output_type": "stream",
     "text": [
      "Enter words in dictionary separated by \",\": the,they,thought,time,apple\n",
      "Enter query: t\n",
      "['the', 'time', 'thought', 'they']\n"
     ]
    }
   ],
   "source": [
    "\n",
    "class Trie(object):\n",
    "    def __init__(self):\n",
    "        self.children = {}\n",
    "        self.flag = False # Flag to represent that a word ends at this node\n",
    "\n",
    "    def add(self, char):\n",
    "        self.children[char] = Trie()\n",
    "\n",
    "    def insert(self, word):\n",
    "        node = self\n",
    "        for char in word:\n",
    "            if char not in node.children:\n",
    "                node.add(char)\n",
    "            node = node.children[char]\n",
    "        node.flag = True\n",
    "\n",
    "    def contains(self, word):\n",
    "        node = self\n",
    "        for char in word:\n",
    "            if char not in node.children:\n",
    "                return False\n",
    "            node = node.children[char]\n",
    "        return node.flag\n",
    "\n",
    "    def all_suffixes(self, prefix):\n",
    "        results = set()\n",
    "        if self.flag:\n",
    "            results.add(prefix)\n",
    "        if not self.children: \n",
    "            return results\n",
    "        \n",
    "        for char, node in self.children.items():\n",
    "            results = results | (node.all_suffixes(prefix + char))\n",
    "        return results\n",
    "\n",
    "    def autocomplete(self, prefix):\n",
    "        node = self\n",
    "        for char in prefix:\n",
    "            if char not in node.children:\n",
    "                return set()\n",
    "            node = node.children[char]\n",
    "        return list(node.all_suffixes(prefix))\n",
    "\n",
    "        \n",
    "\n",
    "if __name__ == '__main__':\n",
    "    \n",
    "    dictionary = list(input('Enter words in dictionary separated by \",\": ').split(','))\n",
    "\n",
    "    query = input('Enter query: ')\n",
    "    \n",
    "    t = Trie()\n",
    " \n",
    "    # Construct trie\n",
    "    for key in dictionary:\n",
    "        t.insert(key)\n",
    "        \n",
    "    print(t.autocomplete(query))\n",
    " \n",
    "    \n",
    "     \n",
    "            "
   ]
  },
  {
   "cell_type": "markdown",
   "metadata": {},
   "source": [
    "# Day 12\n",
    "\n",
    "This problem was asked by Amazon.\n",
    "\n",
    "There exists a staircase with N steps, and you can climb up either 1 or 2 steps at a time. Given N, write a function that returns the number of unique ways you can climb the staircase. The order of the steps matters.\n",
    "\n",
    "For example, if N is 4, then there are 5 unique ways:\n",
    "\n",
    "1, 1, 1, 1\n",
    "\n",
    "2, 1, 1\n",
    "\n",
    "1, 2, 1\n",
    "\n",
    "1, 1, 2\n",
    "\n",
    "2, 2\n",
    "\n",
    "What if, instead of being able to climb 1 or 2 steps at a time, you could climb any number from a set of positive integers X? For example, if X = {1, 3, 5}, you could climb 1, 3, or 5 steps at a time.\n",
    "\n",
    "----\n",
    "#difficult #dynamic programming"
   ]
  },
  {
   "cell_type": "code",
   "execution_count": 41,
   "metadata": {},
   "outputs": [
    {
     "name": "stdout",
     "output_type": "stream",
     "text": [
      "Enter the total number of steps: 6\n",
      "Enter the list of steps allowed separated by space:1 3 5\n",
      "pre buff:  [1, 1, 0, 0, 0, 0, 0]\n",
      "Ways to get to  6 using jumps of  [1, 3, 5] is:  8\n"
     ]
    }
   ],
   "source": [
    "c = int(input('Enter the total number of steps: '))\n",
    "step = list(map(int,input('Enter the list of steps allowed separated by space:').rstrip().split()))\n",
    "\n",
    "\n",
    "def cal_step(n, step):\n",
    "    \n",
    "#     Any steps to be made below the least possible steps will \n",
    "#     be impossible.\n",
    "#     Find the smallest allowed step and all steps below that has 0 ways\n",
    "    \n",
    "    step.sort()\n",
    "    buff = [0] * (step[0]+n)    \n",
    "    for i in range(0, step[0]):\n",
    "        buff[i] = 1\n",
    "    buff[step[0]] = 1\n",
    "    \n",
    "\n",
    "#     fibonacci logic \n",
    "\n",
    "    for i in range(step[0], n + step[0]):\n",
    "#         print(i)\n",
    "        for j in step:\n",
    "#             print('.',j, n-j)\n",
    "            if n - j < 0 : \n",
    "                print(\"break\")\n",
    "                break\n",
    "            buff[i] += buff[i-j]\n",
    "    return buff\n",
    "        \n",
    "\n",
    "ans = cal_step(c, step)\n",
    "    \n",
    "print('Ways to get to ',c,'using jumps of ',step, 'is: ',ans[c-1])"
   ]
  },
  {
   "cell_type": "markdown",
   "metadata": {},
   "source": [
    "----"
   ]
  },
  {
   "cell_type": "markdown",
   "metadata": {},
   "source": [
    "# Day 13\n",
    "\n",
    "This problem was asked by Amazon.\n",
    "\n",
    "Given an integer k and a string s, find the length of the longest substring that contains at most k distinct characters.\n",
    "\n",
    "For example, given s = \"abcba\" and k = 2, the longest substring with k distinct characters is \"bcb\"."
   ]
  },
  {
   "cell_type": "code",
   "execution_count": 42,
   "metadata": {},
   "outputs": [
    {
     "name": "stdout",
     "output_type": "stream",
     "text": [
      "enter the string:abcd\n",
      "Enter no of distinct subcharacters: 4\n"
     ]
    }
   ],
   "source": [
    "\n",
    "\n",
    "s = input('enter the string:').rstrip()\n",
    "k = int(input('Enter no of distinct subcharacters: '))\n",
    "\n"
   ]
  },
  {
   "cell_type": "code",
   "execution_count": null,
   "metadata": {},
   "outputs": [],
   "source": []
  }
 ],
 "metadata": {
  "kernelspec": {
   "display_name": "Python 3",
   "language": "python",
   "name": "python3"
  },
  "language_info": {
   "codemirror_mode": {
    "name": "ipython",
    "version": 3
   },
   "file_extension": ".py",
   "mimetype": "text/x-python",
   "name": "python",
   "nbconvert_exporter": "python",
   "pygments_lexer": "ipython3",
   "version": "3.6.4"
  }
 },
 "nbformat": 4,
 "nbformat_minor": 2
}
